{
 "cells": [
  {
   "cell_type": "code",
   "execution_count": null,
   "metadata": {},
   "outputs": [],
   "source": [
    "# ZADANIE"
   ]
  },
  {
   "cell_type": "code",
   "execution_count": null,
   "metadata": {},
   "outputs": [],
   "source": [
    "# Proszę wygenerować kilkadziesiąt punktów wzdłuż dowolnej linii (NIE linia prosta)\n",
    "# Następnie proszę sprawdzić w jaki sposob zmiana rzedu wielomianu w regresji wielomianowej wplywa na bledy mae, mse, rmse\n",
    "# Proszę przygotować wykres MAE vs rząd wielomianu dla wygenerowanych punktów.\n",
    "# Wykres będzie zaiwerał dwie proste - dla zbioru trenującego i zbioru testującego\n",
    "# Czy wybór bardzo dużego stopnia wielomianu jest dobrym pomysłem?"
   ]
  }
 ],
 "metadata": {
  "kernelspec": {
   "display_name": "Python 3",
   "language": "python",
   "name": "python3"
  },
  "language_info": {
   "codemirror_mode": {
    "name": "ipython",
    "version": 3
   },
   "file_extension": ".py",
   "mimetype": "text/x-python",
   "name": "python",
   "nbconvert_exporter": "python",
   "pygments_lexer": "ipython3",
   "version": "3.8.10"
  }
 },
 "nbformat": 4,
 "nbformat_minor": 2
}
