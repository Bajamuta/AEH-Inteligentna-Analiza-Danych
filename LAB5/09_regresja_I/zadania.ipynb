{
 "cells": [
  {
   "cell_type": "code",
   "execution_count": 1,
   "metadata": {},
   "outputs": [],
   "source": [
    "# ZADANIA"
   ]
  },
  {
   "cell_type": "code",
   "execution_count": 2,
   "metadata": {},
   "outputs": [],
   "source": [
    "# 1. Proszę wygenerować zbiór 30 punktów w przestrzeni 2d i powtórzyć eksperyment z regresją liniową."
   ]
  },
  {
   "cell_type": "code",
   "execution_count": 3,
   "metadata": {},
   "outputs": [],
   "source": [
    "import math\n",
    "import matplotlib.pyplot as plt\n",
    "from sklearn.metrics import mean_absolute_error, mean_squared_error\n",
    "from sklearn import linear_model\n",
    "import numpy as np\n",
    "import random"
   ]
  },
  {
   "cell_type": "code",
   "execution_count": 4,
   "metadata": {},
   "outputs": [],
   "source": [
    "random.seed()\n",
    "temp_x = random.sample(range(50), 30)\n",
    "temp_y_true = random.sample(range(500), 30)\n",
    "temp_x.sort()\n",
    "temp_x = np.reshape(temp_x, (-1, 1))"
   ]
  },
  {
   "cell_type": "code",
   "execution_count": 5,
   "metadata": {},
   "outputs": [],
   "source": [
    "regr = linear_model.LinearRegression()\n",
    "regr.fit(temp_x, temp_y_true)\n",
    "temp_y_predict = regr.predict(temp_x)"
   ]
  },
  {
   "cell_type": "code",
   "execution_count": 6,
   "metadata": {},
   "outputs": [
    {
     "name": "stdout",
     "output_type": "stream",
     "text": [
      "[[ 3]\n",
      " [ 5]\n",
      " [ 6]\n",
      " [ 8]\n",
      " [ 9]\n",
      " [10]\n",
      " [11]\n",
      " [14]\n",
      " [16]\n",
      " [17]\n",
      " [19]\n",
      " [20]\n",
      " [22]\n",
      " [25]\n",
      " [26]\n",
      " [27]\n",
      " [29]\n",
      " [30]\n",
      " [31]\n",
      " [33]\n",
      " [37]\n",
      " [38]\n",
      " [40]\n",
      " [41]\n",
      " [42]\n",
      " [43]\n",
      " [44]\n",
      " [45]\n",
      " [46]\n",
      " [48]]\n",
      "[400, 386, 342, 254, 428, 328, 262, 122, 487, 166, 181, 59, 205, 375, 105, 265, 475, 286, 334, 57, 110, 83, 108, 271, 263, 359, 423, 433, 77, 158]\n",
      "[313.12974296 308.54875795 306.25826545 301.67728045 299.38678795\n",
      " 297.09629544 294.80580294 287.93432544 283.35334043 281.06284793\n",
      " 276.48186293 274.19137043 269.61038542 262.73890792 260.44841542\n",
      " 258.15792292 253.57693791 251.28644541 248.99595291 244.41496791\n",
      " 235.2529979  232.9625054  228.38152039 226.09102789 223.80053539\n",
      " 221.51004289 219.21955039 216.92905789 214.63856538 210.05758038]\n"
     ]
    }
   ],
   "source": [
    "print(temp_x)\n",
    "print(temp_y_true)\n",
    "print(temp_y_predict)"
   ]
  },
  {
   "cell_type": "code",
   "execution_count": 7,
   "metadata": {},
   "outputs": [
    {
     "name": "stdout",
     "output_type": "stream",
     "text": [
      "Coefficients: \n",
      " [-2.2904925]\n",
      "MAE: 110.99\n",
      "MSE: 16396.75\n",
      "RMSE: 128.05\n"
     ]
    }
   ],
   "source": [
    "print('Coefficients: \\n', regr.coef_)\n",
    "print('MAE: %.2f' % mean_absolute_error(temp_y_true, temp_y_predict))\n",
    "print('MSE: %.2f' % mean_squared_error(temp_y_true, temp_y_predict))\n",
    "print('RMSE: %.2f' % math.sqrt(mean_squared_error(temp_y_true, temp_y_predict)))"
   ]
  },
  {
   "cell_type": "code",
   "execution_count": 8,
   "metadata": {},
   "outputs": [
    {
     "data": {
      "image/png": "[encoded data removed]",
      "text/plain": [
       "<Figure size 432x288 with 1 Axes>"
      ]
     },
     "metadata": {
      "needs_background": "light"
     },
     "output_type": "display_data"
    }
   ],
   "source": [
    "plt.scatter(temp_x, temp_y_true, color='black')\n",
    "plt.plot(temp_x, temp_y_predict, color='blue', linewidth=3)\n",
    "plt.show()"
   ]
  },
  {
   "cell_type": "code",
   "execution_count": 9,
   "metadata": {},
   "outputs": [],
   "source": [
    "# 2. Proszę powtórzyć regresje liniową w przestrzeni jednowymiarowej na innym, rzeczywistym zbiorze danych."
   ]
  },
  {
   "cell_type": "code",
   "execution_count": null,
   "metadata": {},
   "outputs": [],
   "source": []
  }
 ],
 "metadata": {
  "kernelspec": {
   "display_name": "Python 3 (ipykernel)",
   "language": "python",
   "name": "python3"
  },
  "language_info": {
   "codemirror_mode": {
    "name": "ipython",
    "version": 3
   },
   "file_extension": ".py",
   "mimetype": "text/x-python",
   "name": "python",
   "nbconvert_exporter": "python",
   "pygments_lexer": "ipython3",
   "version": "3.9.7"
  }
 },
 "nbformat": 4,
 "nbformat_minor": 2
}
