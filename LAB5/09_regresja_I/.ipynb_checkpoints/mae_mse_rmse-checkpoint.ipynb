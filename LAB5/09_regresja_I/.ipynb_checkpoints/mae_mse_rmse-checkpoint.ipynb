{
 "cells": [
  {
   "cell_type": "code",
   "execution_count": 6,
   "metadata": {},
   "outputs": [],
   "source": [
    "# MAE - Mean Absolute Error       - (odleglosc1 + odleglosc2 + odleglosc3) / liczba punktów\n",
    "# MSE - Mean Squared Error        - (odleglosc1^2 + odleglosc2^2 + odleglosc3^2) / liczba punktów\n",
    "# RMSE - Root Mean Squared Error  - sqrt(MSE)"
   ]
  },
  {
   "cell_type": "code",
   "execution_count": 7,
   "metadata": {},
   "outputs": [],
   "source": [
    "import math\n",
    "from sklearn.metrics import mean_absolute_error, mean_squared_error"
   ]
  },
  {
   "cell_type": "code",
   "execution_count": 8,
   "metadata": {},
   "outputs": [
    {
     "name": "stdout",
     "output_type": "stream",
     "text": [
      "MAE for first dataset: 2.00\n",
      "MSE for first dataset: 4.00\n",
      "RMSE for first dataset: 2.00\n"
     ]
    }
   ],
   "source": [
    "y_true_1 = [3, 5, 3, 3, 2, 3, 3, 3, 3, 4]\n",
    "y_pred_1 = [5, 3, 5, 5, 4, 5, 5, 5, 5, 6]\n",
    "#MAE = ???\n",
    "#MSE = ???\n",
    "#RMSE = ???\n",
    "print('MAE for first dataset: %.2f' % mean_absolute_error(y_true_1, y_pred_1))\n",
    "print('MSE for first dataset: %.2f' % mean_squared_error(y_true_1, y_pred_1))\n",
    "print('RMSE for first dataset: %.2f' % math.sqrt(mean_squared_error(y_true_1, y_pred_1)))"
   ]
  },
  {
   "cell_type": "code",
   "execution_count": 9,
   "metadata": {},
   "outputs": [
    {
     "name": "stdout",
     "output_type": "stream",
     "text": [
      "MAE for second dataset: 2.00\n",
      "MSE for second dataset: 5.00\n",
      "RMSE for second dataset: 2.24\n"
     ]
    }
   ],
   "source": [
    "y_true_2 = [3, 3, 3, 3, 3, 3, 3, 3, 3, 3]\n",
    "y_pred_2 = [4, 4, 4, 4, 4, 6, 6, 6, 6, 6]\n",
    "print('MAE for second dataset: %.2f' % mean_absolute_error(y_true_2, y_pred_2))\n",
    "print('MSE for second dataset: %.2f' % mean_squared_error(y_true_2, y_pred_2))\n",
    "print('RMSE for second dataset: %.2f' % math.sqrt(mean_squared_error(y_true_2, y_pred_2)))"
   ]
  },
  {
   "cell_type": "code",
   "execution_count": 10,
   "metadata": {},
   "outputs": [
    {
     "name": "stdout",
     "output_type": "stream",
     "text": [
      "MAE for third dataset: 2.00\n",
      "MSE for third dataset: 40.00\n",
      "RMSE for third dataset: 6.32\n"
     ]
    }
   ],
   "source": [
    "y_true_3 = [3, 3, 3, 3, 3, 3, 3, 3, 3, 3]\n",
    "y_pred_3 = [3, 3, 3, 3, 3, 3, 3, 3, 3, 23]\n",
    "#MAE = ???\n",
    "#MSE = ???\n",
    "#RMSE = ???\n",
    "print('MAE for third dataset: %.2f' % mean_absolute_error(y_true_3, y_pred_3))\n",
    "print('MSE for third dataset: %.2f' % mean_squared_error(y_true_3, y_pred_3))\n",
    "print('RMSE for third dataset: %.2f' % math.sqrt(mean_squared_error(y_true_3, y_pred_3)))"
   ]
  },
  {
   "cell_type": "code",
   "execution_count": null,
   "metadata": {},
   "outputs": [],
   "source": [
    "# Kiedy stosować dane metryki oceny regresji?"
   ]
  }
 ],
 "metadata": {
  "kernelspec": {
   "display_name": "Python 3 (ipykernel)",
   "language": "python",
   "name": "python3"
  },
  "language_info": {
   "codemirror_mode": {
    "name": "ipython",
    "version": 3
   },
   "file_extension": ".py",
   "mimetype": "text/x-python",
   "name": "python",
   "nbconvert_exporter": "python",
   "pygments_lexer": "ipython3",
   "version": "3.9.7"
  }
 },
 "nbformat": 4,
 "nbformat_minor": 2
}
