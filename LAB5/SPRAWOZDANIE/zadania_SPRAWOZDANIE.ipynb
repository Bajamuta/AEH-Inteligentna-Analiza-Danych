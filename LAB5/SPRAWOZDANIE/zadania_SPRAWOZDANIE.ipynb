{
 "cells": [
  {
   "cell_type": "code",
   "execution_count": 1,
   "metadata": {},
   "outputs": [],
   "source": [
    "# ZADANIA"
   ]
  },
  {
   "cell_type": "code",
   "execution_count": 2,
   "metadata": {},
   "outputs": [],
   "source": [
    "# 1. Proszę wygenerować zbiór 30 punktów w przestrzeni 2d i powtórzyć eksperyment z regresją liniową."
   ]
  },
  {
   "cell_type": "code",
   "execution_count": 3,
   "metadata": {},
   "outputs": [],
   "source": [
    "import math\n",
    "import matplotlib.pyplot as plt\n",
    "from sklearn.metrics import mean_absolute_error, mean_squared_error\n",
    "from sklearn import linear_model\n",
    "import numpy as np\n",
    "import random"
   ]
  },
  {
   "cell_type": "code",
   "execution_count": 4,
   "metadata": {},
   "outputs": [],
   "source": [
    "random.seed()\n",
    "temp_x = random.sample(range(50), 30)\n",
    "temp_y_true = random.sample(range(500), 30)\n",
    "temp_x.sort()\n",
    "temp_x = np.reshape(temp_x, (-1, 1))"
   ]
  },
  {
   "cell_type": "code",
   "execution_count": 5,
   "metadata": {},
   "outputs": [],
   "source": [
    "regr = linear_model.LinearRegression()\n",
    "regr.fit(temp_x, temp_y_true)\n",
    "temp_y_predict = regr.predict(temp_x)"
   ]
  },
  {
   "cell_type": "code",
   "execution_count": 6,
   "metadata": {},
   "outputs": [
    {
     "name": "stdout",
     "output_type": "stream",
     "text": [
      "[[ 1]\n",
      " [ 2]\n",
      " [ 3]\n",
      " [ 4]\n",
      " [ 5]\n",
      " [ 7]\n",
      " [ 8]\n",
      " [ 9]\n",
      " [12]\n",
      " [14]\n",
      " [15]\n",
      " [16]\n",
      " [17]\n",
      " [18]\n",
      " [19]\n",
      " [21]\n",
      " [23]\n",
      " [28]\n",
      " [30]\n",
      " [31]\n",
      " [32]\n",
      " [34]\n",
      " [35]\n",
      " [36]\n",
      " [38]\n",
      " [40]\n",
      " [41]\n",
      " [43]\n",
      " [45]\n",
      " [47]]\n",
      "[202, 434, 314, 484, 473, 336, 361, 493, 453, 334, 193, 315, 355, 350, 186, 51, 460, 339, 11, 196, 162, 90, 246, 185, 130, 195, 417, 5, 287, 455]\n",
      "[376.0605209  371.75956496 367.45860902 363.15765307 358.85669713\n",
      " 350.25478524 345.9538293  341.65287336 328.75000553 320.14809365\n",
      " 315.8471377  311.54618176 307.24522582 302.94426988 298.64331393\n",
      " 290.04140205 281.43949016 259.93471045 251.33279857 247.03184262\n",
      " 242.73088668 234.1289748  229.82801885 225.52706291 216.92515103\n",
      " 208.32323914 204.0222832  195.42037131 186.81845943 178.21654754]\n"
     ]
    }
   ],
   "source": [
    "print(temp_x)\n",
    "print(temp_y_true)\n",
    "print(temp_y_predict)"
   ]
  },
  {
   "cell_type": "code",
   "execution_count": 7,
   "metadata": {},
   "outputs": [
    {
     "name": "stdout",
     "output_type": "stream",
     "text": [
      "Coefficients: \n",
      " [-4.30095594]\n",
      "MAE: 104.25\n",
      "MSE: 16558.18\n",
      "RMSE: 128.68\n"
     ]
    }
   ],
   "source": [
    "print('Coefficients: \\n', regr.coef_)\n",
    "print('MAE: %.2f' % mean_absolute_error(temp_y_true, temp_y_predict))\n",
    "print('MSE: %.2f' % mean_squared_error(temp_y_true, temp_y_predict))\n",
    "print('RMSE: %.2f' % math.sqrt(mean_squared_error(temp_y_true, temp_y_predict)))"
   ]
  },
  {
   "cell_type": "code",
   "execution_count": 8,
   "metadata": {},
   "outputs": [
    {
     "data": {
      "image/png": "[encoded data removed]",
      "text/plain": [
       "<Figure size 432x288 with 1 Axes>"
      ]
     },
     "metadata": {
      "needs_background": "light"
     },
     "output_type": "display_data"
    }
   ],
   "source": [
    "plt.scatter(temp_x, temp_y_true, color='black')\n",
    "plt.plot(temp_x, temp_y_predict, color='blue', linewidth=3)\n",
    "plt.show()"
   ]
  },
  {
   "cell_type": "code",
   "execution_count": 9,
   "metadata": {},
   "outputs": [],
   "source": [
    "# 2. Proszę powtórzyć regresje liniową w przestrzeni jednowymiarowej na innym, rzeczywistym zbiorze danych."
   ]
  },
  {
   "cell_type": "code",
   "execution_count": 10,
   "metadata": {},
   "outputs": [],
   "source": [
    "import pandas as pd"
   ]
  },
  {
   "cell_type": "code",
   "execution_count": 50,
   "metadata": {},
   "outputs": [],
   "source": [
    "# na podstawie: https://www.kaggle.com/maajdl/yeh-concret-data\n",
    "# oraz https://www.kaggle.com/emrearslan123/concrete-compressive-strength-prediction"
   ]
  },
  {
   "cell_type": "code",
   "execution_count": 11,
   "metadata": {},
   "outputs": [],
   "source": [
    "concrete_data = pd.read_csv(\n",
    "    \"Concrete_Data_Yeh.csv\", header=0, index_col=False) "
   ]
  },
  {
   "cell_type": "code",
   "execution_count": 45,
   "metadata": {},
   "outputs": [
    {
     "name": "stdout",
     "output_type": "stream",
     "text": [
      "   cement   slag  flyash  water  superplasticizer  coarseaggregate  \\\n",
      "0   540.0    0.0     0.0  162.0               2.5           1040.0   \n",
      "1   540.0    0.0     0.0  162.0               2.5           1055.0   \n",
      "2   332.5  142.5     0.0  228.0               0.0            932.0   \n",
      "3   332.5  142.5     0.0  228.0               0.0            932.0   \n",
      "4   198.6  132.4     0.0  192.0               0.0            978.4   \n",
      "\n",
      "   fineaggregate  age  csMPa  \n",
      "0          676.0   28  79.99  \n",
      "1          676.0   28  61.89  \n",
      "2          594.0  270  40.27  \n",
      "3          594.0  365  41.05  \n",
      "4          825.5  360  44.30  \n"
     ]
    }
   ],
   "source": [
    "print(concrete_data.head())"
   ]
  },
  {
   "cell_type": "code",
   "execution_count": 46,
   "metadata": {},
   "outputs": [],
   "source": [
    "x = concrete_data['cement'].values.tolist()\n",
    "x = np.reshape(x, (-1, 1))\n",
    "y = concrete_data['csMPa']"
   ]
  },
  {
   "cell_type": "code",
   "execution_count": 47,
   "metadata": {},
   "outputs": [],
   "source": [
    "regr = linear_model.LinearRegression()\n",
    "regr.fit(x, y)\n",
    "y_pred = regr.predict(x)"
   ]
  },
  {
   "cell_type": "code",
   "execution_count": 48,
   "metadata": {},
   "outputs": [
    {
     "name": "stdout",
     "output_type": "stream",
     "text": [
      "Coefficients: \n",
      " [0.07958034]\n",
      "MAE: 11.85\n",
      "MSE: 209.71\n",
      "RMSE: 14.48\n"
     ]
    }
   ],
   "source": [
    "print('Coefficients: \\n', regr.coef_)\n",
    "print('MAE: %.2f' % mean_absolute_error(y, y_pred))\n",
    "print('MSE: %.2f' % mean_squared_error(y, y_pred))\n",
    "print('RMSE: %.2f' % math.sqrt(mean_squared_error(y, y_pred)))"
   ]
  },
  {
   "cell_type": "code",
   "execution_count": 49,
   "metadata": {},
   "outputs": [
    {
     "data": {
      "image/png": "[encoded data removed]",
      "text/plain": [
       "<Figure size 432x288 with 1 Axes>"
      ]
     },
     "metadata": {
      "needs_background": "light"
     },
     "output_type": "display_data"
    }
   ],
   "source": [
    "plt.scatter(x, y, color='black')\n",
    "plt.plot(x, y_pred, color='blue', linewidth=3)\n",
    "plt.show()"
   ]
  },
  {
   "cell_type": "code",
   "execution_count": null,
   "metadata": {},
   "outputs": [],
   "source": []
  }
 ],
 "metadata": {
  "kernelspec": {
   "display_name": "Python 3 (ipykernel)",
   "language": "python",
   "name": "python3"
  },
  "language_info": {
   "codemirror_mode": {
    "name": "ipython",
    "version": 3
   },
   "file_extension": ".py",
   "mimetype": "text/x-python",
   "name": "python",
   "nbconvert_exporter": "python",
   "pygments_lexer": "ipython3",
   "version": "3.9.7"
  }
 },
 "nbformat": 4,
 "nbformat_minor": 2
}
