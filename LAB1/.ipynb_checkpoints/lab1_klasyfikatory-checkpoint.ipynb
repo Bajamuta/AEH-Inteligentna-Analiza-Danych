{
 "cells": [
  {
   "cell_type": "code",
   "execution_count": 1,
   "metadata": {},
   "outputs": [],
   "source": [
    "# 1-chory, 0-zdrowy\n",
    "y_real = [1, 1, 0, 0, 1, 0, 1, 0, 0, 0] # rzeczywistosć\n",
    "y_pred = [1, 0, 0, 1, 1, 0, 1, 1, 0, 1] # wyniki testu"
   ]
  },
  {
   "cell_type": "code",
   "execution_count": 2,
   "metadata": {},
   "outputs": [
    {
     "name": "stdout",
     "output_type": "stream",
     "text": [
      "TP: 3\n",
      "FP: 3\n",
      "TN: 3\n",
      "FN: 1\n"
     ]
    }
   ],
   "source": [
    "TP = 0 # true positive, jest: chory, wynik: chory, y_real=1, y_pred=1\n",
    "FP = 0 # false positive, jest: zdrowy, wynik: chory, y_real=0, y_pred=1\n",
    "TN = 0 # true negative, jest: zdrowy, wynik: zdrowy, y_real=0, y_pred=0\n",
    "FN = 0 # false nagative, jest: chory, wynik: zdrowy, y_real=1, y_pred=0\n",
    "for i in range(len(y_pred)): \n",
    "    if y_real[i]==1 and y_pred[i]==1:\n",
    "        TP += 1\n",
    "    if y_real[i]==0 and y_pred[i]==1:\n",
    "        FP += 1\n",
    "    if y_real[i]==0 and y_pred[i]==0:\n",
    "        TN += 1\n",
    "    if y_real[i]==1 and y_pred[i]==0:\n",
    "        FN += 1\n",
    "print(\"TP: \" + str(TP))\n",
    "print(\"FP: \" + str(FP))\n",
    "print(\"TN: \" + str(TN))\n",
    "print(\"FN: \" + str(FN))"
   ]
  },
  {
   "cell_type": "code",
   "execution_count": 3,
   "metadata": {},
   "outputs": [],
   "source": [
    "# Confusion matrix\n",
    "# TP FP\n",
    "# FN TN"
   ]
  },
  {
   "cell_type": "code",
   "execution_count": 4,
   "metadata": {},
   "outputs": [
    {
     "data": {
      "text/plain": [
       "array([[3, 1],\n",
       "       [3, 3]], dtype=int64)"
      ]
     },
     "execution_count": 4,
     "metadata": {},
     "output_type": "execute_result"
    }
   ],
   "source": [
    "from sklearn.metrics import confusion_matrix\n",
    "confusion_matrix(y_real, y_pred, labels=[1,0])"
   ]
  },
  {
   "cell_type": "code",
   "execution_count": 5,
   "metadata": {},
   "outputs": [
    {
     "data": {
      "text/plain": [
       "3"
      ]
     },
     "execution_count": 5,
     "metadata": {},
     "output_type": "execute_result"
    }
   ],
   "source": [
    "# TP\n",
    "confusion_matrix(y_real, y_pred, labels=[1,0])[0,0]"
   ]
  },
  {
   "cell_type": "code",
   "execution_count": 6,
   "metadata": {},
   "outputs": [],
   "source": [
    "# accuracy = (TP + TN) / (TP + FP + TN + FN)"
   ]
  },
  {
   "cell_type": "code",
   "execution_count": 7,
   "metadata": {},
   "outputs": [
    {
     "name": "stdout",
     "output_type": "stream",
     "text": [
      "0.6\n"
     ]
    }
   ],
   "source": [
    "accuracy = (TP + TN) / (TP + FP + TN + FN)\n",
    "print(accuracy)"
   ]
  },
  {
   "cell_type": "code",
   "execution_count": 8,
   "metadata": {},
   "outputs": [
    {
     "data": {
      "text/plain": [
       "0.6"
      ]
     },
     "execution_count": 8,
     "metadata": {},
     "output_type": "execute_result"
    }
   ],
   "source": [
    "from sklearn.metrics import accuracy_score\n",
    "accuracy_score(y_real, y_pred)"
   ]
  },
  {
   "cell_type": "code",
   "execution_count": 9,
   "metadata": {},
   "outputs": [],
   "source": [
    "# recall = sensitivity = TP / P = TP / (TP + FN)"
   ]
  },
  {
   "cell_type": "code",
   "execution_count": 10,
   "metadata": {},
   "outputs": [
    {
     "name": "stdout",
     "output_type": "stream",
     "text": [
      "0.75\n"
     ]
    }
   ],
   "source": [
    "recall = TP / (TP + FN)\n",
    "print(recall)"
   ]
  },
  {
   "cell_type": "code",
   "execution_count": 11,
   "metadata": {},
   "outputs": [
    {
     "data": {
      "text/plain": [
       "0.75"
      ]
     },
     "execution_count": 11,
     "metadata": {},
     "output_type": "execute_result"
    }
   ],
   "source": [
    "from sklearn.metrics import recall_score\n",
    "recall_score(y_real, y_pred)"
   ]
  },
  {
   "cell_type": "code",
   "execution_count": 12,
   "metadata": {},
   "outputs": [],
   "source": [
    "# precision = TP / (TP + FP)"
   ]
  },
  {
   "cell_type": "code",
   "execution_count": 13,
   "metadata": {},
   "outputs": [
    {
     "name": "stdout",
     "output_type": "stream",
     "text": [
      "0.5\n"
     ]
    }
   ],
   "source": [
    "precision = TP / (TP + FP)\n",
    "print(precision)"
   ]
  },
  {
   "cell_type": "code",
   "execution_count": 14,
   "metadata": {},
   "outputs": [
    {
     "data": {
      "text/plain": [
       "0.5"
      ]
     },
     "execution_count": 14,
     "metadata": {},
     "output_type": "execute_result"
    }
   ],
   "source": [
    "from sklearn.metrics import precision_score\n",
    "precision_score(y_real, y_pred)"
   ]
  },
  {
   "cell_type": "code",
   "execution_count": 15,
   "metadata": {},
   "outputs": [],
   "source": [
    "# f1 = 2 / ((1 / precision) + (1 / recall)) = (2 * precision * recall) / (precision + recall)"
   ]
  },
  {
   "cell_type": "code",
   "execution_count": 16,
   "metadata": {},
   "outputs": [
    {
     "name": "stdout",
     "output_type": "stream",
     "text": [
      "0.6\n"
     ]
    }
   ],
   "source": [
    "f1 = (2 * precision * recall) / (precision + recall)\n",
    "print(f1)"
   ]
  },
  {
   "cell_type": "code",
   "execution_count": 17,
   "metadata": {},
   "outputs": [
    {
     "data": {
      "text/plain": [
       "0.6"
      ]
     },
     "execution_count": 17,
     "metadata": {},
     "output_type": "execute_result"
    }
   ],
   "source": [
    "from sklearn.metrics import f1_score\n",
    "f1_score(y_real, y_pred)"
   ]
  },
  {
   "cell_type": "code",
   "execution_count": 18,
   "metadata": {},
   "outputs": [],
   "source": [
    "# Krzywa ROC i AUC"
   ]
  },
  {
   "cell_type": "code",
   "execution_count": 19,
   "metadata": {},
   "outputs": [
    {
     "name": "stdout",
     "output_type": "stream",
     "text": [
      "AUC=0.919\n"
     ]
    },
    {
     "data": {
      "image/png": "[encoded data removed]",
      "text/plain": [
       "<Figure size 432x288 with 1 Axes>"
      ]
     },
     "metadata": {
      "needs_background": "light"
     },
     "output_type": "display_data"
    }
   ],
   "source": [
    "# 0.1 0.2 0.2 0.8\n",
    "# 0-1\n",
    "# thr=0.15\n",
    "# 0 1 1 1 \n",
    "# thr=0.5\n",
    "# 0 0 0 1\n",
    "\n",
    "from sklearn.datasets import make_classification\n",
    "from sklearn.linear_model import LogisticRegression\n",
    "from sklearn.model_selection import train_test_split\n",
    "from sklearn.metrics import roc_curve\n",
    "from sklearn.metrics import roc_auc_score\n",
    "from matplotlib import pyplot\n",
    "\n",
    "x, y = make_classification(n_samples=1000, n_classes=2, random_state=1)\n",
    "train_x, test_x, train_y, test_y = train_test_split(x, y, test_size=0.3, random_state=2)\n",
    "\n",
    "model = LogisticRegression(solver='lbfgs')\n",
    "model.fit(train_x, train_y)\n",
    "\n",
    "probs = model.predict_proba(test_x)\n",
    "probs = probs[:, 1]\n",
    "auc = roc_auc_score(test_y, probs)\n",
    "print('AUC=%.3f' % (auc))\n",
    "\n",
    "# ROC curve\n",
    "fpr, tpr, thresholds = roc_curve(test_y, probs)\n",
    "# fpr = fp / (fp + tn)\n",
    "# tpr = tp / (tp + fn)\n",
    "pyplot.plot(fpr, tpr, marker='.')\n",
    "pyplot.xlabel('False Positive Rate')\n",
    "pyplot.ylabel('True Positive Rate')\n",
    "pyplot.show()"
   ]
  },
  {
   "cell_type": "code",
   "execution_count": 20,
   "metadata": {},
   "outputs": [],
   "source": [
    "# ZADANIA\n",
    "\n",
    "# 1. Prosze wygenerowac 10 obserwacji i 10 predykcji (y_real i y_pred), dla danych obliczyć:\n",
    "# a) macierz pomyłek\n",
    "# b) accuracy\n",
    "# c) recall\n",
    "# d) precision\n",
    "# e) f1\n",
    "# Dla każdej z pięciu powyższych metryk proszę wytłumaczyć jej znaczenie.\n",
    "\n",
    "# 2. Jesteśmy programistami sterowników do samochodów z systemem automatycznego sterowania. Nasz system ma na celu\n",
    "# jak najbezpieczniejszą jazdę. Po otrzymaniu sygnału z kamery musimy sklasyfikować, czy obraz przedstawia obiekt\n",
    "# który należy ominąć (np. pies) czy inny, niegroźny obiekt (np. cień). Przyjmijmy, że obiekt do ominięcia reprezentuje\n",
    "# klase pozytywną. Proszę opisać w 5 zdaniach czym powinien charakteryzować się nasz system \n",
    "# (np. wysokie/niskie TP,FP,TN,FN) i dlaczego?\n",
    "\n",
    "# 4. Mamy dwie macierze pomyłek:\n",
    "# a) 9 1\n",
    "#    0 4\n",
    "# b) 4 6\n",
    "#    3 1\n",
    "# Która macierz pomyłek reprezentuje lepszy model i dlaczego?\n"
   ]
  }
 ],
 "metadata": {
  "kernelspec": {
   "display_name": "Python 3 (ipykernel)",
   "language": "python",
   "name": "python3"
  },
  "language_info": {
   "codemirror_mode": {
    "name": "ipython",
    "version": 3
   },
   "file_extension": ".py",
   "mimetype": "text/x-python",
   "name": "python",
   "nbconvert_exporter": "python",
   "pygments_lexer": "ipython3",
   "version": "3.9.7"
  }
 },
 "nbformat": 4,
 "nbformat_minor": 2
}
