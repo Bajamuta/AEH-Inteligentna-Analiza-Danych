{
 "cells": [
  {
   "cell_type": "code",
   "execution_count": 9,
   "id": "513c9b89",
   "metadata": {},
   "outputs": [
    {
     "name": "stdout",
     "output_type": "stream",
     "text": [
      "   X  Y month  day  FFMC   DMC     DC  ISI  temp  RH  wind  rain  area\n",
      "0  7  5   mar  fri  86.2  26.2   94.3  5.1   8.2  51   6.7   0.0   0.0\n",
      "1  7  4   oct  tue  90.6  35.4  669.1  6.7  18.0  33   0.9   0.0   0.0\n",
      "2  7  4   oct  sat  90.6  43.7  686.9  6.7  14.6  33   1.3   0.0   0.0\n",
      "3  8  6   mar  fri  91.7  33.3   77.5  9.0   8.3  97   4.0   0.2   0.0\n",
      "4  8  6   mar  sun  89.3  51.3  102.2  9.6  11.4  99   1.8   0.0   0.0\n"
     ]
    }
   ],
   "source": [
    "import pandas as pd \n",
    "from sklearn import tree\n",
    "fires_origin = pd.read_csv(\"forestfires.csv\", header=0, index_col=False) \n",
    "print(fires_origin.head())"
   ]
  },
  {
   "cell_type": "code",
   "execution_count": 10,
   "id": "2a7b45a6",
   "metadata": {},
   "outputs": [
    {
     "name": "stdout",
     "output_type": "stream",
     "text": [
      "0    mar\n",
      "1    oct\n",
      "2    oct\n",
      "3    mar\n",
      "4    mar\n",
      "Name: month, dtype: object 0    fri\n",
      "1    tue\n",
      "2    sat\n",
      "3    fri\n",
      "4    sun\n",
      "Name: day, dtype: object\n"
     ]
    }
   ],
   "source": [
    "temp_months = fires_origin['month'].copy()\n",
    "temp_days = fires_origin['day'].copy()\n",
    "print(temp_months.head(), temp_days.head())"
   ]
  },
  {
   "cell_type": "code",
   "execution_count": 11,
   "id": "88481dfb",
   "metadata": {},
   "outputs": [
    {
     "name": "stdout",
     "output_type": "stream",
     "text": [
      "   X  Y  temp  RH  wind  rain  area\n",
      "0  7  5   8.2  51   6.7   0.0   0.0\n",
      "1  7  4  18.0  33   0.9   0.0   0.0\n",
      "2  7  4  14.6  33   1.3   0.0   0.0\n",
      "3  8  6   8.3  97   4.0   0.2   0.0\n",
      "4  8  6  11.4  99   1.8   0.0   0.0\n"
     ]
    }
   ],
   "source": [
    "d = {\n",
    "    'X': fires_origin['X'].values, \n",
    "    'Y': fires_origin['Y'].values, \n",
    "    'temp': fires_origin['temp'].values,\n",
    "    'RH': fires_origin['RH'].values,\n",
    "    'wind': fires_origin['wind'].values,\n",
    "    'rain': fires_origin['rain'].values,\n",
    "    'area': fires_origin['area'].values\n",
    "}\n",
    "fires = pd.DataFrame(d)\n",
    "print(fires.head())"
   ]
  },
  {
   "cell_type": "code",
   "execution_count": 12,
   "id": "29a58f3e",
   "metadata": {},
   "outputs": [],
   "source": [
    "import statistics as stat\n",
    "maximum = max(fires['temp'])\n",
    "minimum = min(fires['temp'])\n",
    "median = stat.median(fires['temp'])\n",
    "diff = round((maximum - median)/4)"
   ]
  },
  {
   "cell_type": "code",
   "execution_count": 13,
   "id": "d988c0b6",
   "metadata": {},
   "outputs": [
    {
     "name": "stdout",
     "output_type": "stream",
     "text": [
      "1     0.0\n",
      "2     0.0\n",
      "3     0.0\n",
      "4     0.0\n",
      "5     0.0\n",
      "6     1.0\n",
      "7     0.0\n",
      "8     0.0\n",
      "9     1.0\n",
      "10    0.0\n",
      "11    0.0\n",
      "12    0.0\n",
      "13    0.0\n",
      "14    1.0\n",
      "15    1.0\n",
      "16    0.0\n",
      "17    0.0\n",
      "18    0.0\n",
      "19    0.0\n",
      "Name: temp, dtype: float64\n"
     ]
    }
   ],
   "source": [
    "tp = fires['temp']\n",
    "serious = fires['temp'].copy()\n",
    "for i, val in enumerate(fires['temp']):\n",
    "    #print(val, rh[i], serious[i])\n",
    "    if (val >= (median + diff)):\n",
    "        serious.loc[i] = 1\n",
    "    else:\n",
    "        serious.loc[i] = 0\n",
    "print(serious[1:20])"
   ]
  },
  {
   "cell_type": "code",
   "execution_count": 24,
   "id": "80b4df9c",
   "metadata": {},
   "outputs": [],
   "source": [
    "x = pd.DataFrame(fires.values[:,0:13], columns =['X','Y','temp', 'RH', 'wind', 'rain', 'area'])\n",
    "y = pd.DataFrame(serious.values, columns =['SERIOUS'])"
   ]
  },
  {
   "cell_type": "code",
   "execution_count": 25,
   "id": "1a1003d5",
   "metadata": {},
   "outputs": [
    {
     "name": "stdout",
     "output_type": "stream",
     "text": [
      "(517, 7)\n",
      "(517, 1)\n"
     ]
    }
   ],
   "source": [
    "print(x.shape)\n",
    "print(y.shape)"
   ]
  },
  {
   "cell_type": "code",
   "execution_count": 29,
   "id": "2cb11e1b",
   "metadata": {},
   "outputs": [],
   "source": [
    "from sklearn.model_selection import train_test_split\n",
    "x_train, x_test, y_train, y_test = train_test_split(\n",
    "    x, y, test_size=0.9, random_state=42)"
   ]
  },
  {
   "cell_type": "code",
   "execution_count": 30,
   "id": "2324e703",
   "metadata": {},
   "outputs": [
    {
     "name": "stdout",
     "output_type": "stream",
     "text": [
      "0.0: 39 1.0: 141\n",
      "0.0: 337 1.0: 0\n"
     ]
    }
   ],
   "source": [
    "train_class1 = 0;\n",
    "train_class2 = 0;\n",
    "for val in y_train['SERIOUS']:\n",
    "    if (val == 0.0):\n",
    "        train_class1 = train_class1 + 1\n",
    "    else:\n",
    "        if (val == 1.0):\n",
    "            train_class2 = train_class2 + 1\n",
    "test_class1 = 0;\n",
    "test_class2 = 0;\n",
    "for val in y_test['SERIOUS']:\n",
    "    if (val == 0.0):\n",
    "        test_class1 = test_class1 + 1\n",
    "    else:\n",
    "        if (val == 1.0):\n",
    "            train_class2 = train_class2 + 1\n",
    "print('0.0:', train_class1, '1.0:', train_class2)\n",
    "print('0.0:', test_class1, '1.0:', test_class2)\n",
    "# widzimy, że zbiór jest niezbalansowany"
   ]
  },
  {
   "cell_type": "code",
   "execution_count": 18,
   "id": "26840a52",
   "metadata": {},
   "outputs": [],
   "source": [
    "from sklearn.model_selection import StratifiedKFold\n",
    "skf = StratifiedKFold(n_splits=5, shuffle=True)"
   ]
  },
  {
   "cell_type": "code",
   "execution_count": 21,
   "id": "e38fab8e",
   "metadata": {},
   "outputs": [
    {
     "name": "stdout",
     "output_type": "stream",
     "text": [
      "[1. 1. 1. 1. 1.]\n"
     ]
    }
   ],
   "source": [
    "from sklearn.model_selection import cross_val_score\n",
    "clf = tree.DecisionTreeClassifier()\n",
    "clf = clf.fit(x_train, y_train.values.ravel())\n",
    "print(cross_val_score(clf, x, y, cv=skf))"
   ]
  },
  {
   "cell_type": "code",
   "execution_count": 22,
   "id": "eb59c4a2",
   "metadata": {},
   "outputs": [
    {
     "name": "stdout",
     "output_type": "stream",
     "text": [
      "1.0\n"
     ]
    }
   ],
   "source": [
    "from sklearn.metrics import accuracy_score\n",
    "y_test_pred_from_clf = clf.predict(x_test)\n",
    "print(accuracy_score(y_test, y_test_pred_from_clf))"
   ]
  },
  {
   "cell_type": "code",
   "execution_count": null,
   "id": "bff0d7c8",
   "metadata": {},
   "outputs": [],
   "source": []
  }
 ],
 "metadata": {
  "kernelspec": {
   "display_name": "Python 3 (ipykernel)",
   "language": "python",
   "name": "python3"
  },
  "language_info": {
   "codemirror_mode": {
    "name": "ipython",
    "version": 3
   },
   "file_extension": ".py",
   "mimetype": "text/x-python",
   "name": "python",
   "nbconvert_exporter": "python",
   "pygments_lexer": "ipython3",
   "version": "3.9.7"
  }
 },
 "nbformat": 4,
 "nbformat_minor": 5
}
