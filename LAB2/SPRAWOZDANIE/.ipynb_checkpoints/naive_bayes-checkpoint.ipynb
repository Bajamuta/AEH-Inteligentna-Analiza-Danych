{
 "cells": [
  {
   "cell_type": "code",
   "execution_count": 1,
   "id": "540fd19b",
   "metadata": {},
   "outputs": [
    {
     "name": "stdout",
     "output_type": "stream",
     "text": [
      "   X  Y month  day  FFMC   DMC     DC  ISI  temp  RH  wind  rain  area\n",
      "0  7  5   mar  fri  86.2  26.2   94.3  5.1   8.2  51   6.7   0.0   0.0\n",
      "1  7  4   oct  tue  90.6  35.4  669.1  6.7  18.0  33   0.9   0.0   0.0\n",
      "2  7  4   oct  sat  90.6  43.7  686.9  6.7  14.6  33   1.3   0.0   0.0\n",
      "3  8  6   mar  fri  91.7  33.3   77.5  9.0   8.3  97   4.0   0.2   0.0\n",
      "4  8  6   mar  sun  89.3  51.3  102.2  9.6  11.4  99   1.8   0.0   0.0\n"
     ]
    }
   ],
   "source": [
    "import pandas as pd \n",
    "from sklearn import tree\n",
    "fires_origin = pd.read_csv(\"forestfires.csv\", header=0, index_col=False) \n",
    "print(fires_origin.head())"
   ]
  },
  {
   "cell_type": "code",
   "execution_count": 2,
   "id": "4a53e56c",
   "metadata": {},
   "outputs": [
    {
     "name": "stdout",
     "output_type": "stream",
     "text": [
      "0    mar\n",
      "1    oct\n",
      "2    oct\n",
      "3    mar\n",
      "4    mar\n",
      "Name: month, dtype: object 0    fri\n",
      "1    tue\n",
      "2    sat\n",
      "3    fri\n",
      "4    sun\n",
      "Name: day, dtype: object\n"
     ]
    }
   ],
   "source": [
    "temp_months = fires_origin['month'].copy()\n",
    "temp_days = fires_origin['day'].copy()\n",
    "print(temp_months.head(), temp_days.head())"
   ]
  },
  {
   "cell_type": "code",
   "execution_count": 3,
   "id": "a69b7256",
   "metadata": {},
   "outputs": [
    {
     "name": "stdout",
     "output_type": "stream",
     "text": [
      "   X  Y  temp  RH  wind  rain  area\n",
      "0  7  5   8.2  51   6.7   0.0   0.0\n",
      "1  7  4  18.0  33   0.9   0.0   0.0\n",
      "2  7  4  14.6  33   1.3   0.0   0.0\n",
      "3  8  6   8.3  97   4.0   0.2   0.0\n",
      "4  8  6  11.4  99   1.8   0.0   0.0\n"
     ]
    }
   ],
   "source": [
    "d = {\n",
    "    'X': fires_origin['X'].values, \n",
    "    'Y': fires_origin['Y'].values, \n",
    "    'temp': fires_origin['temp'].values,\n",
    "    'RH': fires_origin['RH'].values,\n",
    "    'wind': fires_origin['wind'].values,\n",
    "    'rain': fires_origin['rain'].values,\n",
    "    'area': fires_origin['area'].values\n",
    "}\n",
    "fires = pd.DataFrame(d)\n",
    "print(fires.head())"
   ]
  },
  {
   "cell_type": "code",
   "execution_count": 4,
   "id": "90986555",
   "metadata": {},
   "outputs": [],
   "source": [
    "import statistics as stat\n",
    "maximum = max(fires['temp'])\n",
    "minimum = min(fires['temp'])\n",
    "median = stat.median(fires['temp'])\n",
    "diff = round((maximum - median)/4)"
   ]
  },
  {
   "cell_type": "code",
   "execution_count": 66,
   "id": "a5b212a4",
   "metadata": {},
   "outputs": [
    {
     "name": "stdout",
     "output_type": "stream",
     "text": [
      "1     0.0\n",
      "2     0.0\n",
      "3     0.0\n",
      "4     0.0\n",
      "5     0.0\n",
      "6     1.0\n",
      "7     0.0\n",
      "8     0.0\n",
      "9     1.0\n",
      "10    0.0\n",
      "11    0.0\n",
      "12    0.0\n",
      "13    0.0\n",
      "14    1.0\n",
      "15    1.0\n",
      "16    0.0\n",
      "17    0.0\n",
      "18    0.0\n",
      "19    0.0\n",
      "Name: temp, dtype: float64\n"
     ]
    }
   ],
   "source": [
    "# zbiór niezbalansowany prosty\n",
    "\n",
    "tp = fires['temp']\n",
    "serious = fires['temp'].copy()\n",
    "for i, val in enumerate(fires['temp']):\n",
    "    if (val >= (median + diff)):\n",
    "        serious.loc[i] = 1\n",
    "    else:\n",
    "        serious.loc[i] = 0\n",
    "print(serious[1:20])\n"
   ]
  },
  {
   "cell_type": "code",
   "execution_count": 67,
   "id": "efd57aaa",
   "metadata": {},
   "outputs": [
    {
     "data": {
      "text/plain": [
       "\"\\ntp = fires['temp']\\nserious = fires['temp'].copy()\\nfor i, val in enumerate(fires['temp']):\\n    if (i <= fires['temp'].size /2):\\n        serious.loc[i] = 1\\n    else:\\n        serious.loc[i] = 0\\nprint(serious[1:20])\\n\""
      ]
     },
     "execution_count": 67,
     "metadata": {},
     "output_type": "execute_result"
    }
   ],
   "source": [
    "# zbiór zbalansowany\n",
    "\"\"\"\n",
    "tp = fires['temp']\n",
    "serious = fires['temp'].copy()\n",
    "for i, val in enumerate(fires['temp']):\n",
    "    if (i <= fires['temp'].size /2):\n",
    "        serious.loc[i] = 1\n",
    "    else:\n",
    "        serious.loc[i] = 0\n",
    "print(serious[1:20])\n",
    "\"\"\""
   ]
  },
  {
   "cell_type": "code",
   "execution_count": 68,
   "id": "0d91afaa",
   "metadata": {},
   "outputs": [],
   "source": [
    "x = pd.DataFrame(fires.values[:,0:13], columns =['X','Y','temp', 'RH', 'wind', 'rain', 'area'])\n",
    "y = pd.DataFrame(serious.values, columns =['SERIOUS'])"
   ]
  },
  {
   "cell_type": "code",
   "execution_count": 69,
   "id": "4c5a9bcf",
   "metadata": {},
   "outputs": [
    {
     "name": "stdout",
     "output_type": "stream",
     "text": [
      "(517, 7)\n",
      "(517, 1)\n"
     ]
    }
   ],
   "source": [
    "print(x.shape)\n",
    "print(y.shape)"
   ]
  },
  {
   "cell_type": "code",
   "execution_count": 70,
   "id": "676b712a",
   "metadata": {},
   "outputs": [
    {
     "name": "stdout",
     "output_type": "stream",
     "text": [
      "     X    Y  temp    RH  wind  rain  area\n",
      "1  7.0  4.0  18.0  33.0   0.9   0.0   0.0\n",
      "2  7.0  4.0  14.6  33.0   1.3   0.0   0.0\n",
      "3  8.0  6.0   8.3  97.0   4.0   0.2   0.0\n",
      "4  8.0  6.0  11.4  99.0   1.8   0.0   0.0\n",
      "   SERIOUS\n",
      "1      0.0\n",
      "2      0.0\n",
      "3      0.0\n",
      "4      0.0\n"
     ]
    }
   ],
   "source": [
    "print(x[1:5])\n",
    "print(y[1:5])"
   ]
  },
  {
   "cell_type": "code",
   "execution_count": 71,
   "id": "c962e230",
   "metadata": {},
   "outputs": [],
   "source": [
    "from sklearn.model_selection import train_test_split\n",
    "x_train, x_test, y_train, y_test = train_test_split(x, y, test_size=0.5, random_state=42)"
   ]
  },
  {
   "cell_type": "code",
   "execution_count": 72,
   "id": "9acf7c26",
   "metadata": {},
   "outputs": [
    {
     "name": "stdout",
     "output_type": "stream",
     "text": [
      "(258, 7)\n",
      "(258, 1)\n",
      "(259, 7)\n",
      "(259, 1)\n"
     ]
    }
   ],
   "source": [
    "print(x_train.shape)\n",
    "print(y_train.shape)\n",
    "print(x_test.shape)\n",
    "print(y_test.shape)"
   ]
  },
  {
   "cell_type": "code",
   "execution_count": 73,
   "id": "d990aca1",
   "metadata": {},
   "outputs": [],
   "source": [
    "from sklearn.naive_bayes import GaussianNB\n",
    "clf = GaussianNB()\n",
    "clf = clf.fit(x_train, y_train.values.ravel())"
   ]
  },
  {
   "cell_type": "code",
   "execution_count": 81,
   "id": "e229f539",
   "metadata": {},
   "outputs": [
    {
     "name": "stdout",
     "output_type": "stream",
     "text": [
      "0.7992277992277992\n"
     ]
    }
   ],
   "source": [
    "from sklearn.metrics import accuracy_score\n",
    "y_test_pred_from_clf = clf.predict(x_test)\n",
    "print(accuracy_score(y_test, y_test_pred_from_clf))"
   ]
  },
  {
   "cell_type": "code",
   "execution_count": 82,
   "id": "8eb60dd0",
   "metadata": {},
   "outputs": [
    {
     "name": "stdout",
     "output_type": "stream",
     "text": [
      "[0.84615385 0.76923077 0.75728155 0.84466019 0.81553398]\n"
     ]
    }
   ],
   "source": [
    "from sklearn.model_selection import StratifiedKFold\n",
    "from sklearn.model_selection import cross_val_score\n",
    "skf = StratifiedKFold(n_splits=5, shuffle=True)\n",
    "print(cross_val_score(clf, x, y.values.ravel(), cv=skf))"
   ]
  },
  {
   "cell_type": "code",
   "execution_count": null,
   "id": "7b21f5af",
   "metadata": {},
   "outputs": [],
   "source": []
  }
 ],
 "metadata": {
  "kernelspec": {
   "display_name": "Python 3 (ipykernel)",
   "language": "python",
   "name": "python3"
  },
  "language_info": {
   "codemirror_mode": {
    "name": "ipython",
    "version": 3
   },
   "file_extension": ".py",
   "mimetype": "text/x-python",
   "name": "python",
   "nbconvert_exporter": "python",
   "pygments_lexer": "ipython3",
   "version": "3.9.7"
  }
 },
 "nbformat": 4,
 "nbformat_minor": 5
}
