{
 "cells": [
  {
   "cell_type": "code",
   "execution_count": 7,
   "id": "accb56ae",
   "metadata": {},
   "outputs": [
    {
     "name": "stdout",
     "output_type": "stream",
     "text": [
      "   X  Y month  day  FFMC   DMC     DC  ISI  temp  RH  wind  rain  area\n",
      "0  7  5   mar  fri  86.2  26.2   94.3  5.1   8.2  51   6.7   0.0   0.0\n",
      "1  7  4   oct  tue  90.6  35.4  669.1  6.7  18.0  33   0.9   0.0   0.0\n",
      "2  7  4   oct  sat  90.6  43.7  686.9  6.7  14.6  33   1.3   0.0   0.0\n",
      "3  8  6   mar  fri  91.7  33.3   77.5  9.0   8.3  97   4.0   0.2   0.0\n",
      "4  8  6   mar  sun  89.3  51.3  102.2  9.6  11.4  99   1.8   0.0   0.0\n"
     ]
    }
   ],
   "source": [
    "import pandas as pd \n",
    "from sklearn import tree\n",
    "fires_origin = pd.read_csv(\"forestfires.csv\", header=0, index_col=False) \n",
    "print(fires_origin.head())"
   ]
  },
  {
   "cell_type": "code",
   "execution_count": 8,
   "id": "7288b4cb",
   "metadata": {},
   "outputs": [
    {
     "name": "stdout",
     "output_type": "stream",
     "text": [
      "0    mar\n",
      "1    oct\n",
      "2    oct\n",
      "3    mar\n",
      "4    mar\n",
      "Name: month, dtype: object 0    fri\n",
      "1    tue\n",
      "2    sat\n",
      "3    fri\n",
      "4    sun\n",
      "Name: day, dtype: object\n"
     ]
    }
   ],
   "source": [
    "temp_months = fires_origin['month'].copy()\n",
    "temp_days = fires_origin['day'].copy()\n",
    "print(temp_months.head(), temp_days.head())"
   ]
  },
  {
   "cell_type": "code",
   "execution_count": 9,
   "id": "00cc4ff5",
   "metadata": {},
   "outputs": [
    {
     "name": "stdout",
     "output_type": "stream",
     "text": [
      "   X  Y  temp  RH  wind  rain  area\n",
      "0  7  5   8.2  51   6.7   0.0   0.0\n",
      "1  7  4  18.0  33   0.9   0.0   0.0\n",
      "2  7  4  14.6  33   1.3   0.0   0.0\n",
      "3  8  6   8.3  97   4.0   0.2   0.0\n",
      "4  8  6  11.4  99   1.8   0.0   0.0\n"
     ]
    }
   ],
   "source": [
    "d = {\n",
    "    'X': fires_origin['X'].values, \n",
    "    'Y': fires_origin['Y'].values, \n",
    "    'temp': fires_origin['temp'].values,\n",
    "    'RH': fires_origin['RH'].values,\n",
    "    'wind': fires_origin['wind'].values,\n",
    "    'rain': fires_origin['rain'].values,\n",
    "    'area': fires_origin['area'].values\n",
    "}\n",
    "fires = pd.DataFrame(d)\n",
    "print(fires.head())"
   ]
  },
  {
   "cell_type": "code",
   "execution_count": 12,
   "id": "af8b177e",
   "metadata": {},
   "outputs": [],
   "source": [
    "import statistics as stat\n",
    "maximum = max(fires['temp'])\n",
    "minimum = min(fires['temp'])\n",
    "median = stat.median(fires['temp'])\n",
    "diff = round((maximum - median)/4)"
   ]
  },
  {
   "cell_type": "code",
   "execution_count": 13,
   "id": "9e552b69",
   "metadata": {},
   "outputs": [
    {
     "name": "stdout",
     "output_type": "stream",
     "text": [
      "1     0.0\n",
      "2     0.0\n",
      "3     0.0\n",
      "4     0.0\n",
      "5     0.0\n",
      "6     1.0\n",
      "7     0.0\n",
      "8     0.0\n",
      "9     1.0\n",
      "10    0.0\n",
      "11    0.0\n",
      "12    0.0\n",
      "13    0.0\n",
      "14    1.0\n",
      "15    1.0\n",
      "16    0.0\n",
      "17    0.0\n",
      "18    0.0\n",
      "19    0.0\n",
      "Name: temp, dtype: float64\n"
     ]
    }
   ],
   "source": [
    "tp = fires['temp']\n",
    "serious = fires['temp'].copy()\n",
    "for i, val in enumerate(fires['temp']):\n",
    "    #print(val, rh[i], serious[i])\n",
    "    if (val >= (median + diff)):\n",
    "        serious.loc[i] = 1\n",
    "    else:\n",
    "        serious.loc[i] = 0\n",
    "print(serious[1:20])"
   ]
  },
  {
   "cell_type": "code",
   "execution_count": 52,
   "id": "ad35da83",
   "metadata": {},
   "outputs": [],
   "source": [
    "x = pd.DataFrame(fires.values[:,0:13], \n",
    "                 columns =['X','Y','temp', 'RH', 'wind', 'rain', 'area'])\n",
    "y = pd.DataFrame(serious.values, columns =['SERIOUS'])"
   ]
  },
  {
   "cell_type": "code",
   "execution_count": 53,
   "id": "95df75b6",
   "metadata": {},
   "outputs": [
    {
     "name": "stdout",
     "output_type": "stream",
     "text": [
      "(517, 7)\n",
      "(517, 1)\n"
     ]
    }
   ],
   "source": [
    "print(x.shape)\n",
    "print(y.shape)"
   ]
  },
  {
   "cell_type": "code",
   "execution_count": 54,
   "id": "c4e2cccc",
   "metadata": {},
   "outputs": [
    {
     "name": "stdout",
     "output_type": "stream",
     "text": [
      "     X    Y  temp    RH  wind  rain  area\n",
      "1  7.0  4.0  18.0  33.0   0.9   0.0   0.0\n",
      "2  7.0  4.0  14.6  33.0   1.3   0.0   0.0\n",
      "3  8.0  6.0   8.3  97.0   4.0   0.2   0.0\n",
      "4  8.0  6.0  11.4  99.0   1.8   0.0   0.0\n",
      "   SERIOUS\n",
      "1      0.0\n",
      "2      0.0\n",
      "3      0.0\n",
      "4      0.0\n"
     ]
    }
   ],
   "source": [
    "print(x[1:5])\n",
    "print(y[1:5])"
   ]
  },
  {
   "cell_type": "code",
   "execution_count": 119,
   "id": "d29fe48f",
   "metadata": {},
   "outputs": [],
   "source": [
    "from sklearn.model_selection import train_test_split\n",
    "x_train, x_test, y_train, y_test = train_test_split(\n",
    "    x, y, test_size=0.9, random_state=42)"
   ]
  },
  {
   "cell_type": "code",
   "execution_count": 120,
   "id": "34501109",
   "metadata": {},
   "outputs": [
    {
     "name": "stdout",
     "output_type": "stream",
     "text": [
      "(51, 7)\n",
      "(51, 1)\n",
      "(466, 7)\n",
      "(466, 1)\n"
     ]
    }
   ],
   "source": [
    "print(x_train.shape)\n",
    "print(y_train.shape)\n",
    "print(x_test.shape)\n",
    "print(y_test.shape)"
   ]
  },
  {
   "cell_type": "code",
   "execution_count": 121,
   "id": "2138f7ad",
   "metadata": {},
   "outputs": [],
   "source": [
    "from sklearn.ensemble import RandomForestClassifier\n",
    "# domyślne wartości: 10 drzew i głębkość bez ograniczeń\n",
    "clf = RandomForestClassifier()\n",
    "clf = clf.fit(x_train, y_train.values.ravel())"
   ]
  },
  {
   "cell_type": "code",
   "execution_count": 122,
   "id": "accee9b5",
   "metadata": {},
   "outputs": [],
   "source": [
    "# Liczba drzew równa 2, maksymalna głębokość drzewa równa 2\n",
    "clf_2_2 = RandomForestClassifier(n_estimators=2, max_depth=2)\n",
    "clf_2_2 = clf_2_2.fit(x_train, y_train.values.ravel())"
   ]
  },
  {
   "cell_type": "code",
   "execution_count": 123,
   "id": "a12d6318",
   "metadata": {},
   "outputs": [],
   "source": [
    "# Liczba drzew równa 10, maksymalna głębokość drzewa równa 2\n",
    "clf_10_2 = RandomForestClassifier(n_estimators=10, max_depth=2)\n",
    "clf_10_2 = clf_10_2.fit(x_train, y_train.values.ravel())"
   ]
  },
  {
   "cell_type": "code",
   "execution_count": 124,
   "id": "e5eb7b23",
   "metadata": {},
   "outputs": [],
   "source": [
    "# Liczba drzew równa 30, maksymalna głębokość drzewa równa 2\n",
    "clf_30_2 = RandomForestClassifier(n_estimators=30, max_depth=2)\n",
    "clf_30_2 = clf_30_2.fit(x_train, y_train.values.ravel())"
   ]
  },
  {
   "cell_type": "code",
   "execution_count": 125,
   "id": "e2f0b578",
   "metadata": {},
   "outputs": [],
   "source": [
    "# Liczba drzew równa 50, maksymalna głębokość drzewa równa 2\n",
    "clf_50_2 = RandomForestClassifier(n_estimators=50, max_depth=2)\n",
    "clf_50_2 = clf_50_2.fit(x_train, y_train.values.ravel())"
   ]
  },
  {
   "cell_type": "code",
   "execution_count": 126,
   "id": "517ffba1",
   "metadata": {},
   "outputs": [],
   "source": [
    "# Liczba drzew równa 70, maksymalna głębokość drzewa równa 2\n",
    "clf_70_2 = RandomForestClassifier(n_estimators=70, max_depth=2)\n",
    "clf_70_2 = clf_70_2.fit(x_train, y_train.values.ravel())"
   ]
  },
  {
   "cell_type": "code",
   "execution_count": 127,
   "id": "00ef448e",
   "metadata": {},
   "outputs": [],
   "source": [
    "# Liczba drzew równa 10, maksymalna głębokość drzewa równa 1\n",
    "clf_10_1 = RandomForestClassifier(n_estimators=10, max_depth=1)\n",
    "clf_10_1 = clf_10_1.fit(x_train, y_train.values.ravel())"
   ]
  },
  {
   "cell_type": "code",
   "execution_count": 128,
   "id": "dae6cc89",
   "metadata": {},
   "outputs": [],
   "source": [
    "# Liczba drzew równa 10, maksymalna głębokość drzewa równa 3\n",
    "clf_10_3 = RandomForestClassifier(n_estimators=10, max_depth=3)\n",
    "clf_10_3 = clf_10_3.fit(x_train, y_train.values.ravel())"
   ]
  },
  {
   "cell_type": "code",
   "execution_count": 129,
   "id": "0b0cc781",
   "metadata": {},
   "outputs": [],
   "source": [
    "# ewaluacja różnych wariantów drzew\n",
    "y_test_pred_from_clf = clf.predict(x_test)\n",
    "y_test_pred_from_clf_2_2 = clf_2_2.predict(x_test)\n",
    "y_test_pred_from_clf_10_2 = clf_10_2.predict(x_test)\n",
    "y_test_pred_from_clf_30_2 = clf_30_2.predict(x_test)\n",
    "y_test_pred_from_clf_50_2 = clf_50_2.predict(x_test)\n",
    "y_test_pred_from_clf_70_2 = clf_70_2.predict(x_test)\n",
    "y_test_pred_from_clf_10_1 = clf_10_1.predict(x_test)\n",
    "y_test_pred_from_clf_10_3 = clf_10_3.predict(x_test)"
   ]
  },
  {
   "cell_type": "code",
   "execution_count": 130,
   "id": "bd1a4046",
   "metadata": {},
   "outputs": [
    {
     "name": "stdout",
     "output_type": "stream",
     "text": [
      "Domyślne ustawienia: 0.9785407725321889\n",
      "Ilość drzew: 2, maksymalna głębokość: 2:   0.9935622317596566\n",
      "Ilość drzew: 10, maksymalna głębokość: 2:   0.9914163090128756\n",
      "Ilość drzew: 30, maksymalna głębokość: 2:   0.9935622317596566\n",
      "Ilość drzew: 50, maksymalna głębokość: 2:   0.9892703862660944\n",
      "Ilość drzew: 70, maksymalna głębokość: 2:   0.9785407725321889\n",
      "Ilość drzew: 10, maksymalna głębokość: 1:   0.8626609442060086\n",
      "Ilość drzew: 10, maksymalna głębokość: 3:   0.9785407725321889\n"
     ]
    }
   ],
   "source": [
    "from sklearn.metrics import accuracy_score\n",
    "print(\"Domyślne ustawienia:\", accuracy_score(y_test, y_test_pred_from_clf))\n",
    "print(\"Ilość drzew: 2, maksymalna głębokość: 2:  \", accuracy_score(y_test, y_test_pred_from_clf_2_2))\n",
    "print(\"Ilość drzew: 10, maksymalna głębokość: 2:  \", accuracy_score(y_test, y_test_pred_from_clf_10_2))\n",
    "print(\"Ilość drzew: 30, maksymalna głębokość: 2:  \", accuracy_score(y_test, y_test_pred_from_clf_30_2))\n",
    "print(\"Ilość drzew: 50, maksymalna głębokość: 2:  \", accuracy_score(y_test, y_test_pred_from_clf_50_2))\n",
    "print(\"Ilość drzew: 70, maksymalna głębokość: 2:  \", accuracy_score(y_test, y_test_pred_from_clf_70_2))\n",
    "print(\"Ilość drzew: 10, maksymalna głębokość: 1:  \", accuracy_score(y_test, y_test_pred_from_clf_10_1))\n",
    "print(\"Ilość drzew: 10, maksymalna głębokość: 3:  \", accuracy_score(y_test, y_test_pred_from_clf_10_3))"
   ]
  },
  {
   "cell_type": "code",
   "execution_count": null,
   "id": "582fd661",
   "metadata": {},
   "outputs": [],
   "source": []
  },
  {
   "cell_type": "code",
   "execution_count": null,
   "id": "d06414b0",
   "metadata": {},
   "outputs": [],
   "source": []
  }
 ],
 "metadata": {
  "kernelspec": {
   "display_name": "Python 3 (ipykernel)",
   "language": "python",
   "name": "python3"
  },
  "language_info": {
   "codemirror_mode": {
    "name": "ipython",
    "version": 3
   },
   "file_extension": ".py",
   "mimetype": "text/x-python",
   "name": "python",
   "nbconvert_exporter": "python",
   "pygments_lexer": "ipython3",
   "version": "3.9.7"
  }
 },
 "nbformat": 4,
 "nbformat_minor": 5
}
