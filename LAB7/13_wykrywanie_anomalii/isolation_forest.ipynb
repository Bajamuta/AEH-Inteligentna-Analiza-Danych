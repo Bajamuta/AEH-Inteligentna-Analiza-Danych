{
 "cells": [
  {
   "cell_type": "code",
   "execution_count": 57,
   "metadata": {},
   "outputs": [],
   "source": [
    "import numpy as np\n",
    "import matplotlib.pyplot as plt\n",
    "from sklearn.ensemble import IsolationForest"
   ]
  },
  {
   "cell_type": "code",
   "execution_count": 58,
   "metadata": {},
   "outputs": [],
   "source": [
    "# wygenerowanie danych\n",
    "rng = np.random.RandomState(42)\n",
    "x_train = 0.3 * rng.randn(100, 2) # 100 obserwacji, każda obserwacja złożona z dwóch liczb\n",
    "x_test = 0.3 * rng.randn(20, 2)\n",
    "x_outliers = rng.uniform(low=-4, high=4, size=(20, 2))"
   ]
  },
  {
   "cell_type": "code",
   "execution_count": 59,
   "metadata": {},
   "outputs": [
    {
     "name": "stdout",
     "output_type": "stream",
     "text": [
      "[[ 0.19430656  0.45690896]\n",
      " [-0.07024601 -0.07024109]\n",
      " [ 0.47376384  0.23023042]\n",
      " [-0.14084232  0.16276801]]\n",
      "[[ 0.32491537  0.31614062]\n",
      " [-0.41330081 -0.28134751]\n",
      " [ 0.15451058  0.15413579]\n",
      " [ 0.15451431  1.15581945]]\n",
      "[[-3.79719405  3.70118732]\n",
      " [ 2.68784096  1.56779365]\n",
      " [-0.72837644 -2.61364544]\n",
      " [-2.74850366 -1.99805681]]\n"
     ]
    }
   ],
   "source": [
    "print(x_train[1:5])\n",
    "print(x_test[1:5])\n",
    "print(x_outliers[1:5])"
   ]
  },
  {
   "cell_type": "code",
   "execution_count": 60,
   "metadata": {},
   "outputs": [
    {
     "data": {
      "image/png": "[encoded data removed]",
      "text/plain": [
       "<Figure size 432x288 with 1 Axes>"
      ]
     },
     "metadata": {
      "needs_background": "light"
     },
     "output_type": "display_data"
    }
   ],
   "source": [
    "plt.scatter(x_train[:,0], x_train[:,1], color='black')\n",
    "plt.scatter(x_test[:,0], x_test[:,1], color='blue')\n",
    "plt.scatter(x_outliers[:,0], x_outliers[:,1], color='red')\n",
    "plt.show()"
   ]
  },
  {
   "cell_type": "code",
   "execution_count": 61,
   "metadata": {},
   "outputs": [
    {
     "data": {
      "text/plain": [
       "IsolationForest(contamination=0.001, random_state=42)"
      ]
     },
     "execution_count": 61,
     "metadata": {},
     "output_type": "execute_result"
    }
   ],
   "source": [
    "#wytrenowanie model\n",
    "clf = IsolationForest(n_estimators=100, random_state=42, contamination=0.001)\n",
    "clf.fit(x_train)"
   ]
  },
  {
   "cell_type": "code",
   "execution_count": 62,
   "metadata": {},
   "outputs": [],
   "source": [
    "# przewidywanie\n",
    "y_pred_train = clf.predict(x_train)\n",
    "y_pred_test = clf.predict(x_test)\n",
    "y_pred_outliers = clf.predict(x_outliers)"
   ]
  },
  {
   "cell_type": "code",
   "execution_count": 63,
   "metadata": {},
   "outputs": [
    {
     "name": "stdout",
     "output_type": "stream",
     "text": [
      "[ 1  1  1  1  1  1  1  1  1  1  1  1  1  1  1  1  1  1  1  1  1  1  1  1\n",
      "  1  1  1  1  1  1  1  1  1  1  1  1  1 -1  1  1  1  1  1  1  1  1  1  1\n",
      "  1  1  1  1  1  1  1  1  1  1  1  1  1  1  1  1  1  1  1  1  1  1  1  1\n",
      "  1  1  1  1  1  1  1  1  1  1  1  1  1  1  1  1  1  1  1  1  1  1  1  1\n",
      "  1  1  1  1]\n",
      "[1 1 1 1 1 1 1 1 1 1 1 1 1 1 1 1 1 1 1 1]\n",
      "[ 1 -1 -1 -1 -1  1 -1 -1  1 -1 -1 -1 -1 -1  1  1 -1 -1 -1 -1]\n"
     ]
    }
   ],
   "source": [
    "print(y_pred_train)\n",
    "print(y_pred_test)\n",
    "print(y_pred_outliers)\n",
    "#co oznacza -1, a co 1?"
   ]
  },
  {
   "cell_type": "code",
   "execution_count": 64,
   "metadata": {},
   "outputs": [
    {
     "name": "stdout",
     "output_type": "stream",
     "text": [
      "Train dataset:\n",
      " 1: 99\n",
      "-1: 1\n",
      "Test dataset:\n",
      " 1: 20\n",
      "-1: 0\n",
      "Outliers dataset:\n",
      " 1: 5\n",
      "-1: 15\n"
     ]
    }
   ],
   "source": [
    "# liczba poprawnych i niepoprawnych predykcji\n",
    "print(\"Train dataset:\")\n",
    "print(\" 1: \" + str(np.count_nonzero(y_pred_train == 1)))\n",
    "print(\"-1: \" + str(np.count_nonzero(y_pred_train == -1)))\n",
    "print(\"Test dataset:\")\n",
    "print(\" 1: \" + str(np.count_nonzero(y_pred_test == 1)))\n",
    "print(\"-1: \" + str(np.count_nonzero(y_pred_test == -1)))\n",
    "print(\"Outliers dataset:\")\n",
    "print(\" 1: \" + str(np.count_nonzero(y_pred_outliers == 1)))\n",
    "print(\"-1: \" + str(np.count_nonzero(y_pred_outliers == -1)))"
   ]
  },
  {
   "cell_type": "code",
   "execution_count": 65,
   "metadata": {},
   "outputs": [
    {
     "data": {
      "image/png": "[encoded data removed]",
      "text/plain": [
       "<Figure size 432x288 with 1 Axes>"
      ]
     },
     "metadata": {
      "needs_background": "light"
     },
     "output_type": "display_data"
    }
   ],
   "source": [
    "# funkcja ravel() spłaszcza dane\n",
    "plt.scatter(x_train[(np.where(y_pred_train==1)[0]).ravel(),0], \n",
    "            x_train[(np.where(y_pred_train==1)[0]).ravel(),1], \n",
    "            c='white', edgecolor='black')\n",
    "plt.scatter(x_train[(np.where(y_pred_train==-1)[0]).ravel(),0], \n",
    "            x_train[(np.where(y_pred_train==-1)[0]).ravel(),1], \n",
    "            c='red', edgecolor='black')\n",
    "plt.scatter(x_test[(np.where(y_pred_test==1)[0]).ravel(),0], \n",
    "            x_test[(np.where(y_pred_test==1)[0]).ravel(),1], \n",
    "            c='white', edgecolor='black')\n",
    "plt.scatter(x_test[(np.where(y_pred_test==-1)[0]).ravel(),0], \n",
    "            x_test[(np.where(y_pred_test==-1)[0]).ravel(),1], \n",
    "            c='red', edgecolor='black')\n",
    "plt.scatter(x_outliers[(np.where(y_pred_outliers==1)[0]).ravel(),0], \n",
    "            x_outliers[(np.where(y_pred_outliers==1)[0]).ravel(),1], \n",
    "            c='white', edgecolor='black')\n",
    "plt.scatter(x_outliers[(np.where(y_pred_outliers==-1)[0]).ravel(),0], \n",
    "            x_outliers[(np.where(y_pred_outliers==-1)[0]).ravel(),1], \n",
    "            c='red', edgecolor='black')\n",
    "plt.show()"
   ]
  },
  {
   "cell_type": "code",
   "execution_count": 10,
   "metadata": {},
   "outputs": [],
   "source": [
    "# Zadania\n",
    "# 1. Prosze sprawdzic jak liczba drzew w lesie wplywa na wyniki dla sztucznie wygenerowanych danych\n",
    "# 2. Prosze przetestować metode isolation forest na zbiorze danych z dwoma skupiskami punktow"
   ]
  }
 ],
 "metadata": {
  "kernelspec": {
   "display_name": "Python 3",
   "language": "python",
   "name": "python3"
  },
  "language_info": {
   "codemirror_mode": {
    "name": "ipython",
    "version": 3
   },
   "file_extension": ".py",
   "mimetype": "text/x-python",
   "name": "python",
   "nbconvert_exporter": "python",
   "pygments_lexer": "ipython3",
   "version": "3.8.10"
  }
 },
 "nbformat": 4,
 "nbformat_minor": 2
}
