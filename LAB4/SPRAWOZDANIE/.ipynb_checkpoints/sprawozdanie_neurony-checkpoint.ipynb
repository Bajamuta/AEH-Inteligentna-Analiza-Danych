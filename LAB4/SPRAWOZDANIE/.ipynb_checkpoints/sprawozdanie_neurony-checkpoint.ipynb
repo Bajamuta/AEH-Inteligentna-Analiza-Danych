{
 "cells": [
  {
   "cell_type": "code",
   "execution_count": 17,
   "metadata": {},
   "outputs": [],
   "source": [
    "import pandas as pd\n",
    "import numpy as np\n",
    "import statistics as stat\n",
    "from sklearn.model_selection import train_test_split\n",
    "from sklearn.neural_network import MLPClassifier"
   ]
  },
  {
   "cell_type": "code",
   "execution_count": 7,
   "metadata": {},
   "outputs": [
    {
     "name": "stdout",
     "output_type": "stream",
     "text": [
      "   X  Y  temp  RH  wind  rain  area\n",
      "0  7  5   8.2  51   6.7   0.0   0.0\n",
      "1  7  4  18.0  33   0.9   0.0   0.0\n",
      "2  7  4  14.6  33   1.3   0.0   0.0\n",
      "3  8  6   8.3  97   4.0   0.2   0.0\n",
      "4  8  6  11.4  99   1.8   0.0   0.0\n"
     ]
    }
   ],
   "source": [
    "fires_origin = pd.read_csv(\n",
    "    \"forestfires.csv\", header=0, index_col=False) \n",
    "d = {\n",
    "    'X': fires_origin['X'].values, \n",
    "    'Y': fires_origin['Y'].values, \n",
    "    'temp': fires_origin['temp'].values,\n",
    "    'RH': fires_origin['RH'].values,\n",
    "    'wind': fires_origin['wind'].values,\n",
    "    'rain': fires_origin['rain'].values,\n",
    "    'area': fires_origin['area'].values\n",
    "}\n",
    "fires = pd.DataFrame(d)\n",
    "print(fires.head())"
   ]
  },
  {
   "cell_type": "code",
   "execution_count": 8,
   "metadata": {},
   "outputs": [],
   "source": [
    "maximum = max(fires['temp'])\n",
    "minimum = min(fires['temp'])\n",
    "median = stat.median(fires['temp'])\n",
    "diff = round((maximum - median)/4)\n",
    "max_RH = max(fires['RH'])\n",
    "min_RH = min(fires['RH'])\n",
    "median_RH = stat.median(fires['RH'])\n",
    "max_wind= max(fires['wind'])\n",
    "min_wind= min(fires['wind'])\n",
    "median_wind= stat.median(fires['wind'])"
   ]
  },
  {
   "cell_type": "code",
   "execution_count": 9,
   "metadata": {},
   "outputs": [],
   "source": [
    "tp = fires['temp']\n",
    "rh = fires['RH']\n",
    "w = fires['wind']\n",
    "serious = fires['temp'].copy()\n",
    "for i, val in enumerate(fires['temp']):\n",
    "    #print(val, rh[i], serious[i])\n",
    "    if (val >= (median + diff) and rh[i] <= 30 and w[i] >= 3.0):\n",
    "        serious.loc[i] = 4\n",
    "    else:\n",
    "        if (val >= median + diff):\n",
    "            serious.loc[i] = 3\n",
    "        else: \n",
    "            if (val >= (median - diff) and rh[i] <= 50 and w[i] >= 4.0):\n",
    "                serious.loc[i] = 3\n",
    "            else: \n",
    "                if (val >= median - 2*diff and rh[i] <= 50 and w[i] >= 5.0):\n",
    "                    serious.loc[i] = 2\n",
    "                else:\n",
    "                    if (val >= median - 2*diff):\n",
    "                        serious.loc[i] = 1\n",
    "                    else:\n",
    "                        serious.loc[i] = 0"
   ]
  },
  {
   "cell_type": "code",
   "execution_count": 10,
   "metadata": {},
   "outputs": [],
   "source": [
    "x = np.array(fires.values)\n",
    "y = np.array(serious.values)"
   ]
  },
  {
   "cell_type": "code",
   "execution_count": 11,
   "metadata": {},
   "outputs": [
    {
     "name": "stdout",
     "output_type": "stream",
     "text": [
      "[[ 7.   5.   8.2 51.   6.7  0.   0. ]\n",
      " [ 7.   4.  18.  33.   0.9  0.   0. ]\n",
      " [ 7.   4.  14.6 33.   1.3  0.   0. ]\n",
      " [ 8.   6.   8.3 97.   4.   0.2  0. ]\n",
      " [ 8.   6.  11.4 99.   1.8  0.   0. ]]\n",
      "[0. 1. 1. 0. 0.]\n"
     ]
    }
   ],
   "source": [
    "print(x[:5])\n",
    "print(y[:5])"
   ]
  },
  {
   "cell_type": "code",
   "execution_count": 12,
   "metadata": {},
   "outputs": [
    {
     "name": "stdout",
     "output_type": "stream",
     "text": [
      "(517, 7)\n",
      "(517,)\n"
     ]
    }
   ],
   "source": [
    "print(x.shape)\n",
    "print(y.shape)"
   ]
  },
  {
   "cell_type": "code",
   "execution_count": 14,
   "metadata": {},
   "outputs": [],
   "source": [
    "# podział na zbiór trenujący i testujący\n",
    "x_train, x_test, y_train, y_test = train_test_split(x, y, test_size=0.3, random_state=42)"
   ]
  },
  {
   "cell_type": "code",
   "execution_count": 15,
   "metadata": {},
   "outputs": [
    {
     "name": "stdout",
     "output_type": "stream",
     "text": [
      "(361, 7)\n",
      "(361,)\n",
      "(156, 7)\n",
      "(156,)\n"
     ]
    }
   ],
   "source": [
    "print(x_train.shape)\n",
    "print(y_train.shape)\n",
    "print(x_test.shape)\n",
    "print(y_test.shape)"
   ]
  },
  {
   "cell_type": "code",
   "execution_count": 34,
   "metadata": {},
   "outputs": [],
   "source": [
    "clf_2 = MLPClassifier(hidden_layer_sizes=(2), \n",
    "                      random_state=42, \n",
    "                      max_iter=5000)\n",
    "clf_5 = MLPClassifier(hidden_layer_sizes=(5), \n",
    "                      random_state=42, \n",
    "                      max_iter=5000)\n",
    "clf_10 = MLPClassifier(hidden_layer_sizes=(10), \n",
    "                       random_state=42, \n",
    "                       max_iter=5000)\n",
    "clf_30 = MLPClassifier(hidden_layer_sizes=(30), \n",
    "                       random_state=42, \n",
    "                       max_iter=5000)\n",
    "clf_50 = MLPClassifier(hidden_layer_sizes=(50), \n",
    "                       random_state=42, \n",
    "                       max_iter=5000)\n",
    "clf_2 = clf_2.fit(x_train, y_train)\n",
    "clf_5 = clf_5.fit(x_train, y_train)\n",
    "clf_10 = clf_10.fit(x_train, y_train)\n",
    "clf_30 = clf_30.fit(x_train, y_train)\n",
    "clf_50 = clf_50.fit(x_train, y_train)"
   ]
  },
  {
   "cell_type": "code",
   "execution_count": 35,
   "metadata": {},
   "outputs": [],
   "source": [
    "y_test_pred_from_clf_2 = clf_2.predict(x_test)\n",
    "y_test_pred_from_clf_5 = clf_5.predict(x_test)\n",
    "y_test_pred_from_clf_10 = clf_10.predict(x_test)\n",
    "y_test_pred_from_clf_30 = clf_30.predict(x_test)\n",
    "y_test_pred_from_clf_50 = clf_50.predict(x_test)"
   ]
  },
  {
   "cell_type": "code",
   "execution_count": 36,
   "metadata": {},
   "outputs": [
    {
     "name": "stdout",
     "output_type": "stream",
     "text": [
      "2:  0.3974358974358974\n",
      "5:  0.7435897435897436\n",
      "10:  0.8397435897435898\n",
      "30:  0.8141025641025641\n",
      "50:  0.8333333333333334\n"
     ]
    }
   ],
   "source": [
    "from sklearn.metrics import accuracy_score\n",
    "print('2: ', accuracy_score(y_test, y_test_pred_from_clf_2))\n",
    "print('5: ', accuracy_score(y_test, y_test_pred_from_clf_5))\n",
    "print('10: ', accuracy_score(y_test, y_test_pred_from_clf_10))\n",
    "print('30: ', accuracy_score(y_test, y_test_pred_from_clf_30))\n",
    "print('50: ', accuracy_score(y_test, y_test_pred_from_clf_50))"
   ]
  },
  {
   "cell_type": "code",
   "execution_count": 38,
   "metadata": {},
   "outputs": [
    {
     "data": {
      "image/png": "[encoded data removed]",
      "text/plain": [
       "<Figure size 432x288 with 1 Axes>"
      ]
     },
     "metadata": {
      "needs_background": "light"
     },
     "output_type": "display_data"
    }
   ],
   "source": [
    "import matplotlib.pyplot as plt\n",
    "plt.plot([2,5,10,30,50], \n",
    "         [accuracy_score(y_test, y_test_pred_from_clf_2),\n",
    "          accuracy_score(y_test, y_test_pred_from_clf_5),\n",
    "          accuracy_score(y_test, y_test_pred_from_clf_10),\n",
    "          accuracy_score(y_test, y_test_pred_from_clf_30),\n",
    "          accuracy_score(y_test, y_test_pred_from_clf_50)\n",
    "         ])\n",
    "plt.ylabel('dokładność modelu')\n",
    "plt.xlabel('ilość neuronów w sieci neuronowej')\n",
    "plt.show()"
   ]
  },
  {
   "cell_type": "code",
   "execution_count": 10,
   "metadata": {},
   "outputs": [],
   "source": [
    "# Zadanie\n",
    "# Proszę pobrać dowolny zbiór danych ze strony https://archive.ics.uci.edu/ml/index.php\n",
    "# Następnie proszę podzielić zbiór na dane trenujące i testujące, wytrenować i przetestować 5 sieci neuronowych \n",
    "# o różnych architekturach. Proszę o sporządzenie sprawozdania z wnioskami."
   ]
  }
 ],
 "metadata": {
  "kernelspec": {
   "display_name": "Python 3 (ipykernel)",
   "language": "python",
   "name": "python3"
  },
  "language_info": {
   "codemirror_mode": {
    "name": "ipython",
    "version": 3
   },
   "file_extension": ".py",
   "mimetype": "text/x-python",
   "name": "python",
   "nbconvert_exporter": "python",
   "pygments_lexer": "ipython3",
   "version": "3.9.7"
  }
 },
 "nbformat": 4,
 "nbformat_minor": 2
}
