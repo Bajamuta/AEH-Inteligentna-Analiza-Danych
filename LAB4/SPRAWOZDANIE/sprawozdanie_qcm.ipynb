{
 "cells": [
  {
   "cell_type": "code",
   "execution_count": 1,
   "id": "cf59283e",
   "metadata": {},
   "outputs": [],
   "source": [
    "import pandas as pd\n",
    "import numpy as np\n",
    "import statistics\n",
    "from sklearn.model_selection import GridSearchCV\n",
    "from sklearn.model_selection import train_test_split\n",
    "from sklearn.model_selection import StratifiedKFold\n",
    "from sklearn.linear_model import LogisticRegression\n",
    "from sklearn.model_selection import cross_val_score\n",
    "from sklearn.pipeline import make_pipeline\n",
    "from sklearn.preprocessing import StandardScaler\n",
    "from sklearn.metrics import accuracy_score\n",
    "from sklearn import tree\n",
    "from sklearn.ensemble import RandomForestClassifier\n",
    "from sklearn.naive_bayes import GaussianNB\n",
    "from sklearn.neural_network import MLPClassifier"
   ]
  },
  {
   "cell_type": "code",
   "execution_count": 2,
   "id": "a399019b",
   "metadata": {},
   "outputs": [],
   "source": [
    "qcm3 = pd.read_csv('Dataset/QCM3.csv', sep = ';')\n",
    "qcm6 = pd.read_csv('Dataset/QCM6.csv', sep = ';')\n",
    "qcm7 = pd.read_csv('Dataset/QCM7.csv', sep = ';')\n",
    "qcm10 = pd.read_csv('Dataset/QCM10.csv', sep = ';')\n",
    "qcm12 = pd.read_csv('Dataset/QCM12.csv', sep = ';')"
   ]
  },
  {
   "cell_type": "code",
   "execution_count": 3,
   "id": "8fd3b27c",
   "metadata": {},
   "outputs": [
    {
     "name": "stdout",
     "output_type": "stream",
     "text": [
      "   0.799_0.201  0.799_0.201.1  0.700_0.300  0.700_0.300.1  0.600_0.400  \\\n",
      "0       -10.06         -10.62       -14.43         -18.31       -24.64   \n",
      "1        -9.69         -10.86       -16.73         -21.75       -28.47   \n",
      "2       -12.07         -14.28       -21.54         -27.92       -35.19   \n",
      "3       -14.21         -17.41       -25.91         -33.36       -41.29   \n",
      "4       -16.57         -20.35       -29.97         -37.84       -47.03   \n",
      "\n",
      "   0.600_0.400.1  0.501_0.499  0.501_0.499.1  0.400_0.600  0.400_0.600.1  \\\n",
      "0         -30.56       -38.62         -45.59       -54.89         -62.28   \n",
      "1         -35.83       -43.65         -52.43       -61.92         -71.27   \n",
      "2         -43.94       -52.04         -62.49       -71.97         -83.10   \n",
      "3         -51.27       -59.94         -71.55       -81.51         -93.83   \n",
      "4         -57.29       -67.13         -78.96       -90.01        -102.65   \n",
      "\n",
      "   1-Octanol  1-Propanol  2-Butanol  2-propanol  1-isobutanol  \n",
      "0          1           0          0           0             0  \n",
      "1          1           0          0           0             0  \n",
      "2          1           0          0           0             0  \n",
      "3          1           0          0           0             0  \n",
      "4          1           0          0           0             0  \n"
     ]
    }
   ],
   "source": [
    "print(qcm3.head())"
   ]
  },
  {
   "cell_type": "code",
   "execution_count": 4,
   "id": "ef74d275",
   "metadata": {},
   "outputs": [
    {
     "name": "stdout",
     "output_type": "stream",
     "text": [
      "Shape of dataset:  (125, 15)\n"
     ]
    }
   ],
   "source": [
    "dataset = pd.concat([qcm3, qcm6, qcm7, qcm10, qcm12])\n",
    "print(\"Shape of dataset: \", dataset.shape)"
   ]
  },
  {
   "cell_type": "code",
   "execution_count": 5,
   "id": "21f9ed72",
   "metadata": {},
   "outputs": [
    {
     "data": {
      "text/plain": [
       "'dataset.loc[dataset[\"1-Octanol\"] == 1, \\'alcohol\\'] = \\'1-Octanol\\'\\ndataset.loc[dataset[\"1-Propanol\"] == 1, \\'alcohol\\'] = \\'1-Propanol\\'\\ndataset.loc[dataset[\"2-Butanol\"] == 1, \\'alcohol\\'] = \\'2-Butanol\\'\\ndataset.loc[dataset[\"2-propanol\"] == 1, \\'alcohol\\'] = \\'2-propanol\\'\\ndataset.loc[dataset[\"1-isobutanol\"] == 1, \\'alcohol\\'] = \\'1-isobutanol\\''"
      ]
     },
     "execution_count": 5,
     "metadata": {},
     "output_type": "execute_result"
    }
   ],
   "source": [
    "\"\"\"dataset.loc[dataset[\"1-Octanol\"] == 1, 'alcohol'] = '1-Octanol'\n",
    "dataset.loc[dataset[\"1-Propanol\"] == 1, 'alcohol'] = '1-Propanol'\n",
    "dataset.loc[dataset[\"2-Butanol\"] == 1, 'alcohol'] = '2-Butanol'\n",
    "dataset.loc[dataset[\"2-propanol\"] == 1, 'alcohol'] = '2-propanol'\n",
    "dataset.loc[dataset[\"1-isobutanol\"] == 1, 'alcohol'] = '1-isobutanol'\"\"\""
   ]
  },
  {
   "cell_type": "code",
   "execution_count": 6,
   "id": "379a240c",
   "metadata": {},
   "outputs": [
    {
     "data": {
      "text/plain": [
       "1.0    25\n",
       "2.0    25\n",
       "3.0    25\n",
       "4.0    25\n",
       "5.0    25\n",
       "Name: alcohol, dtype: int64"
      ]
     },
     "execution_count": 6,
     "metadata": {},
     "output_type": "execute_result"
    }
   ],
   "source": [
    "# dodanie kolumny z wartościami liczbowymi dla każdego rodzaju alkoholu\n",
    "dataset.loc[dataset[\"1-Octanol\"] == 1, 'alcohol'] = 1\n",
    "dataset.loc[dataset[\"1-Propanol\"] == 1, 'alcohol'] = 2\n",
    "dataset.loc[dataset[\"2-Butanol\"] == 1, 'alcohol'] = 3\n",
    "dataset.loc[dataset[\"2-propanol\"] == 1, 'alcohol'] = 4\n",
    "dataset.loc[dataset[\"1-isobutanol\"] == 1, 'alcohol'] = 5\n",
    "dataset['alcohol'].value_counts()"
   ]
  },
  {
   "cell_type": "code",
   "execution_count": 7,
   "id": "22d80624",
   "metadata": {},
   "outputs": [
    {
     "name": "stdout",
     "output_type": "stream",
     "text": [
      "   0.799_0.201  0.799_0.201.1  0.700_0.300  0.700_0.300.1  0.600_0.400  \\\n",
      "0       -10.06         -10.62       -14.43         -18.31       -24.64   \n",
      "1        -9.69         -10.86       -16.73         -21.75       -28.47   \n",
      "2       -12.07         -14.28       -21.54         -27.92       -35.19   \n",
      "3       -14.21         -17.41       -25.91         -33.36       -41.29   \n",
      "4       -16.57         -20.35       -29.97         -37.84       -47.03   \n",
      "\n",
      "   0.600_0.400.1  0.501_0.499  0.501_0.499.1  0.400_0.600  0.400_0.600.1  \\\n",
      "0         -30.56       -38.62         -45.59       -54.89         -62.28   \n",
      "1         -35.83       -43.65         -52.43       -61.92         -71.27   \n",
      "2         -43.94       -52.04         -62.49       -71.97         -83.10   \n",
      "3         -51.27       -59.94         -71.55       -81.51         -93.83   \n",
      "4         -57.29       -67.13         -78.96       -90.01        -102.65   \n",
      "\n",
      "   1-Octanol  1-Propanol  2-Butanol  2-propanol  1-isobutanol  alcohol  \n",
      "0          1           0          0           0             0      1.0  \n",
      "1          1           0          0           0             0      1.0  \n",
      "2          1           0          0           0             0      1.0  \n",
      "3          1           0          0           0             0      1.0  \n",
      "4          1           0          0           0             0      1.0  \n"
     ]
    }
   ],
   "source": [
    "print(dataset.head())"
   ]
  },
  {
   "cell_type": "code",
   "execution_count": 8,
   "id": "f8509be7",
   "metadata": {},
   "outputs": [],
   "source": [
    "# przygotowanie do klasyfikacji"
   ]
  },
  {
   "cell_type": "code",
   "execution_count": 9,
   "id": "02a27d99",
   "metadata": {},
   "outputs": [
    {
     "data": {
      "text/plain": [
       "\"\\nx = pd.DataFrame(dataset.values[:,:10], columns =[\\n    '0,799_0,201',\\n    '0,799_0,201.1',\\n    '700_0,300',\\n    '0,700_0,300.1',\\n    '0,600_0,400', \\n    '0,600_0,400.1', \\n    '0,501_0,499', \\n    '0,501_0,499.1', \\n    '0,400_0,600',\\n    '0,400_0,600.1'])\\ny = pd.DataFrame(dataset.values[:,15], columns = ['alcohol'])\\n\""
      ]
     },
     "execution_count": 9,
     "metadata": {},
     "output_type": "execute_result"
    }
   ],
   "source": [
    "\"\"\"\n",
    "x = pd.DataFrame(dataset.values[:,:10], columns =[\n",
    "    '0,799_0,201',\n",
    "    '0,799_0,201.1',\n",
    "    '700_0,300',\n",
    "    '0,700_0,300.1',\n",
    "    '0,600_0,400', \n",
    "    '0,600_0,400.1', \n",
    "    '0,501_0,499', \n",
    "    '0,501_0,499.1', \n",
    "    '0,400_0,600',\n",
    "    '0,400_0,600.1'])\n",
    "y = pd.DataFrame(dataset.values[:,15], columns = ['alcohol'])\n",
    "\"\"\""
   ]
  },
  {
   "cell_type": "code",
   "execution_count": 10,
   "id": "1396d88c",
   "metadata": {},
   "outputs": [],
   "source": [
    "######################\n",
    "# klasyfikator binarny\n",
    "######################"
   ]
  },
  {
   "cell_type": "code",
   "execution_count": 11,
   "id": "9fcb98ee",
   "metadata": {},
   "outputs": [],
   "source": [
    "x = np.array(dataset.values[:,:10])\n",
    "y = np.array(dataset.values[:,15])"
   ]
  },
  {
   "cell_type": "code",
   "execution_count": 12,
   "id": "9161a98a",
   "metadata": {},
   "outputs": [
    {
     "name": "stdout",
     "output_type": "stream",
     "text": [
      "[[ -10.06  -10.62  -14.43  -18.31  -24.64  -30.56  -38.62  -45.59  -54.89\n",
      "   -62.28]\n",
      " [  -9.69  -10.86  -16.73  -21.75  -28.47  -35.83  -43.65  -52.43  -61.92\n",
      "   -71.27]\n",
      " [ -12.07  -14.28  -21.54  -27.92  -35.19  -43.94  -52.04  -62.49  -71.97\n",
      "   -83.1 ]\n",
      " [ -14.21  -17.41  -25.91  -33.36  -41.29  -51.27  -59.94  -71.55  -81.51\n",
      "   -93.83]\n",
      " [ -16.57  -20.35  -29.97  -37.84  -47.03  -57.29  -67.13  -78.96  -90.01\n",
      "  -102.65]]\n",
      "[1. 1. 1. 1. 1.]\n"
     ]
    }
   ],
   "source": [
    "print(x[:5])\n",
    "print(y[:5])"
   ]
  },
  {
   "cell_type": "code",
   "execution_count": 13,
   "id": "879d3e5f",
   "metadata": {},
   "outputs": [],
   "source": [
    "x_train, x_test, y_train, y_test = train_test_split(\n",
    "    x, y, test_size=0.9, random_state=42)"
   ]
  },
  {
   "cell_type": "code",
   "execution_count": 14,
   "id": "eef78007",
   "metadata": {},
   "outputs": [
    {
     "name": "stdout",
     "output_type": "stream",
     "text": [
      "(12, 10)\n",
      "(12,)\n",
      "(113, 10)\n",
      "(113,)\n"
     ]
    }
   ],
   "source": [
    "print(x_train.shape)\n",
    "print(y_train.shape)\n",
    "print(x_test.shape)\n",
    "print(y_test.shape)"
   ]
  },
  {
   "cell_type": "code",
   "execution_count": 15,
   "id": "1cac7467",
   "metadata": {},
   "outputs": [],
   "source": [
    "# stratyfikacja\n",
    "skf = StratifiedKFold(n_splits=5, shuffle=True)"
   ]
  },
  {
   "cell_type": "code",
   "execution_count": 16,
   "id": "a16bf974",
   "metadata": {},
   "outputs": [
    {
     "name": "stdout",
     "output_type": "stream",
     "text": [
      "0.4690265486725664\n",
      "[0.64 0.52 0.48 0.64 0.6 ]\n"
     ]
    }
   ],
   "source": [
    "# walidacja krzyżowa\n",
    "# skalowanie maksymalnej iteracji\n",
    "model = make_pipeline(StandardScaler(), LogisticRegression())\n",
    "model.fit(x_train, y_train)\n",
    "# pomiar dokładności bez stratyfikacji i walidacji krzyżowej\n",
    "y_test_pred_from_model = model.predict(x_test)\n",
    "print(accuracy_score(y_test, y_test_pred_from_model))\n",
    "# pomiar dokładności ze stratyfikacją i walidacją krzyżową\n",
    "print(cross_val_score(model, x, y, cv=skf))"
   ]
  },
  {
   "cell_type": "code",
   "execution_count": 17,
   "id": "67f52d51",
   "metadata": {},
   "outputs": [
    {
     "name": "stdout",
     "output_type": "stream",
     "text": [
      "0.56\n"
     ]
    }
   ],
   "source": [
    "print(statistics.mean(cross_val_score(model, x, y, cv=skf)))"
   ]
  },
  {
   "cell_type": "code",
   "execution_count": null,
   "id": "6d44c837",
   "metadata": {},
   "outputs": [],
   "source": []
  },
  {
   "cell_type": "code",
   "execution_count": 18,
   "id": "2ece7d40",
   "metadata": {},
   "outputs": [],
   "source": [
    "#################################\n",
    "# klasyfikator drzewa decyzyjnego\n",
    "#################################"
   ]
  },
  {
   "cell_type": "code",
   "execution_count": 19,
   "id": "510ff0be",
   "metadata": {},
   "outputs": [],
   "source": [
    "x = np.array(dataset.values[:,:10])\n",
    "y = np.array(dataset.values[:,15])"
   ]
  },
  {
   "cell_type": "code",
   "execution_count": 20,
   "id": "12977026",
   "metadata": {},
   "outputs": [],
   "source": [
    "x_train, x_test, y_train, y_test = train_test_split(\n",
    "    x, y, test_size=0.9, random_state=42)"
   ]
  },
  {
   "cell_type": "code",
   "execution_count": 21,
   "id": "7e407100",
   "metadata": {},
   "outputs": [
    {
     "name": "stdout",
     "output_type": "stream",
     "text": [
      "[[ -10.06  -10.62  -14.43  -18.31  -24.64  -30.56  -38.62  -45.59  -54.89\n",
      "   -62.28]\n",
      " [  -9.69  -10.86  -16.73  -21.75  -28.47  -35.83  -43.65  -52.43  -61.92\n",
      "   -71.27]\n",
      " [ -12.07  -14.28  -21.54  -27.92  -35.19  -43.94  -52.04  -62.49  -71.97\n",
      "   -83.1 ]\n",
      " [ -14.21  -17.41  -25.91  -33.36  -41.29  -51.27  -59.94  -71.55  -81.51\n",
      "   -93.83]\n",
      " [ -16.57  -20.35  -29.97  -37.84  -47.03  -57.29  -67.13  -78.96  -90.01\n",
      "  -102.65]]\n",
      "[1. 1. 1. 1. 1.]\n"
     ]
    }
   ],
   "source": [
    "print(x[:5])\n",
    "print(y[:5])"
   ]
  },
  {
   "cell_type": "code",
   "execution_count": 22,
   "id": "243ceda3",
   "metadata": {},
   "outputs": [
    {
     "name": "stdout",
     "output_type": "stream",
     "text": [
      "(12, 10)\n",
      "(12,)\n",
      "(113, 10)\n",
      "(113,)\n"
     ]
    }
   ],
   "source": [
    "print(x_train.shape)\n",
    "print(y_train.shape)\n",
    "print(x_test.shape)\n",
    "print(y_test.shape)"
   ]
  },
  {
   "cell_type": "code",
   "execution_count": 23,
   "id": "3c025877",
   "metadata": {},
   "outputs": [
    {
     "name": "stdout",
     "output_type": "stream",
     "text": [
      "bez walidacji krzyżowej i stratyfikacji 0.4778761061946903\n",
      "walidacja i stratyfikacja [0.84 0.84 0.88 1.   0.96]\n"
     ]
    }
   ],
   "source": [
    "# stratyfikacja plus walidacja krzyżowa\n",
    "clf = tree.DecisionTreeClassifier()\n",
    "skf = StratifiedKFold(n_splits=5, shuffle=True)\n",
    "clf = clf.fit(x_train, y_train)\n",
    "# dokładność\n",
    "y_test_pred_from_clf = clf.predict(x_test)\n",
    "print('bez walidacji krzyżowej i stratyfikacji', \n",
    "      accuracy_score(y_test, y_test_pred_from_clf))\n",
    "print('walidacja i stratyfikacja',\n",
    "      cross_val_score(clf, x, y, cv=skf))"
   ]
  },
  {
   "cell_type": "code",
   "execution_count": 24,
   "id": "31f20eab",
   "metadata": {},
   "outputs": [
    {
     "name": "stdout",
     "output_type": "stream",
     "text": [
      "{'criterion': 'entropy', 'max_depth': 13}\n"
     ]
    }
   ],
   "source": [
    "# optymalizacja modelu\n",
    "criterion = np.array(['gini','entropy'])\n",
    "max_depth = np.array([\n",
    "    1,2,3,4,5,6,7,8,9,10,11,12,13,14,15,16,17,18,19,20])\n",
    "grid = GridSearchCV(estimator = clf, \n",
    "                    param_grid = dict(\n",
    "                        max_depth=max_depth, \n",
    "                        criterion=criterion))\n",
    "grid.fit(x, y)\n",
    "print(grid.best_params_)"
   ]
  },
  {
   "cell_type": "code",
   "execution_count": 25,
   "id": "fbf363b7",
   "metadata": {},
   "outputs": [
    {
     "name": "stdout",
     "output_type": "stream",
     "text": [
      "0.3893805309734513\n",
      "[0.96 0.96 1.   0.96 0.84]\n"
     ]
    }
   ],
   "source": [
    "clf = tree.DecisionTreeClassifier(\n",
    "    criterion = grid.best_params_['criterion'], \n",
    "    max_depth = grid.best_params_['max_depth'])\n",
    "clf = clf.fit(x_train, y_train)\n",
    "# dokładność\n",
    "y_test_pred_from_clf = clf.predict(x_test)\n",
    "print(accuracy_score(y_test, y_test_pred_from_clf))\n",
    "print(cross_val_score(clf, x, y, cv=skf))"
   ]
  },
  {
   "cell_type": "code",
   "execution_count": 26,
   "id": "1ec02fa2",
   "metadata": {},
   "outputs": [
    {
     "name": "stdout",
     "output_type": "stream",
     "text": [
      "0.896\n"
     ]
    }
   ],
   "source": [
    "print(statistics.mean(cross_val_score(clf, x, y, cv=skf)))"
   ]
  },
  {
   "cell_type": "code",
   "execution_count": null,
   "id": "ab59d48d",
   "metadata": {},
   "outputs": [],
   "source": []
  },
  {
   "cell_type": "code",
   "execution_count": 27,
   "id": "f02b28e1",
   "metadata": {},
   "outputs": [],
   "source": [
    "############################\n",
    "# klasyfikator lasu losowego\n",
    "############################"
   ]
  },
  {
   "cell_type": "code",
   "execution_count": 50,
   "id": "676098ea",
   "metadata": {},
   "outputs": [],
   "source": [
    "x = np.array(dataset.values[:,:10])\n",
    "y = np.array(dataset.values[:,15])"
   ]
  },
  {
   "cell_type": "code",
   "execution_count": 51,
   "id": "bf435eb4",
   "metadata": {},
   "outputs": [],
   "source": [
    "x_train, x_test, y_train, y_test = train_test_split(\n",
    "    x, y, test_size=0.9, random_state=42)"
   ]
  },
  {
   "cell_type": "code",
   "execution_count": 52,
   "id": "4c831ee8",
   "metadata": {},
   "outputs": [
    {
     "name": "stdout",
     "output_type": "stream",
     "text": [
      "(12, 10)\n",
      "(12,)\n",
      "(113, 10)\n",
      "(113,)\n"
     ]
    }
   ],
   "source": [
    "print(x_train.shape)\n",
    "print(y_train.shape)\n",
    "print(x_test.shape)\n",
    "print(y_test.shape)"
   ]
  },
  {
   "cell_type": "code",
   "execution_count": 53,
   "id": "1d0942ac",
   "metadata": {},
   "outputs": [
    {
     "name": "stdout",
     "output_type": "stream",
     "text": [
      "0.34513274336283184\n",
      "[0.8  0.84 0.72 0.76 0.96]\n"
     ]
    }
   ],
   "source": [
    "clf = RandomForestClassifier(n_estimators=2)\n",
    "skf = StratifiedKFold(n_splits=5, shuffle=True)\n",
    "clf = clf.fit(x_train, y_train)\n",
    "# dokładność\n",
    "y_test_pred_from_clf = clf.predict(x_test)\n",
    "print(accuracy_score(y_test, y_test_pred_from_clf))\n",
    "print(cross_val_score(clf, x, y, cv=skf))"
   ]
  },
  {
   "cell_type": "code",
   "execution_count": 54,
   "id": "b49608f8",
   "metadata": {},
   "outputs": [
    {
     "name": "stdout",
     "output_type": "stream",
     "text": [
      "{'criterion': 'entropy', 'max_depth': 12, 'n_estimators': 5}\n"
     ]
    }
   ],
   "source": [
    "# optymalizacja modelu\n",
    "criterion = np.array(['gini','entropy'])\n",
    "max_depth = np.array(\n",
    "    [1,2,3,4,5,6,7,8,9,10,11,12,13,14,15])\n",
    "n_estimators = np.array([2,3,4,5,6,7,8,9,10])\n",
    "clf = RandomForestClassifier()\n",
    "grid = GridSearchCV(estimator = clf, \n",
    "                    param_grid = dict(\n",
    "                        n_estimators = n_estimators, \n",
    "                        max_depth=max_depth, \n",
    "                        criterion=criterion))\n",
    "grid.fit(x, y)\n",
    "print(grid.best_params_)"
   ]
  },
  {
   "cell_type": "code",
   "execution_count": 55,
   "id": "d5da56cc",
   "metadata": {},
   "outputs": [
    {
     "name": "stdout",
     "output_type": "stream",
     "text": [
      "0.5132743362831859\n",
      "[1.   0.92 0.84 0.92 0.96]\n"
     ]
    }
   ],
   "source": [
    "clf = RandomForestClassifier(\n",
    "    n_estimators = grid.best_params_['n_estimators'], \n",
    "    criterion = grid.best_params_['criterion'], \n",
    "    max_depth = grid.best_params_['max_depth'])\n",
    "clf = clf.fit(x_train, y_train)\n",
    "# dokładność\n",
    "y_test_pred_from_clf = clf.predict(x_test)\n",
    "print(accuracy_score(y_test, y_test_pred_from_clf))\n",
    "print(cross_val_score(clf, x, y, cv=skf))"
   ]
  },
  {
   "cell_type": "code",
   "execution_count": 56,
   "id": "31994049",
   "metadata": {},
   "outputs": [
    {
     "name": "stdout",
     "output_type": "stream",
     "text": [
      "0.912\n"
     ]
    }
   ],
   "source": [
    "print(statistics.mean(cross_val_score(clf, x, y, cv=skf)))"
   ]
  },
  {
   "cell_type": "code",
   "execution_count": null,
   "id": "0cb3abf7",
   "metadata": {},
   "outputs": [],
   "source": []
  },
  {
   "cell_type": "code",
   "execution_count": 35,
   "id": "e15579d2",
   "metadata": {},
   "outputs": [],
   "source": [
    "################################\n",
    "# naiwny klasyfikator bayesowski\n",
    "################################"
   ]
  },
  {
   "cell_type": "code",
   "execution_count": 36,
   "id": "58e13ad9",
   "metadata": {},
   "outputs": [],
   "source": [
    "x = np.array(dataset.values[:,:10])\n",
    "y = np.array(dataset.values[:,15])"
   ]
  },
  {
   "cell_type": "code",
   "execution_count": 37,
   "id": "35a0c04a",
   "metadata": {},
   "outputs": [
    {
     "name": "stdout",
     "output_type": "stream",
     "text": [
      "(12, 10)\n",
      "(12,)\n",
      "(113, 10)\n",
      "(113,)\n"
     ]
    }
   ],
   "source": [
    "x_train, x_test, y_train, y_test = train_test_split(\n",
    "    x, y, test_size=0.9, random_state=42)\n",
    "print(x_train.shape)\n",
    "print(y_train.shape)\n",
    "print(x_test.shape)\n",
    "print(y_test.shape)"
   ]
  },
  {
   "cell_type": "code",
   "execution_count": 38,
   "id": "a9633d3c",
   "metadata": {},
   "outputs": [],
   "source": [
    "clf = GaussianNB()\n",
    "clf = clf.fit(x_train, y_train)"
   ]
  },
  {
   "cell_type": "code",
   "execution_count": 39,
   "id": "983c367a",
   "metadata": {},
   "outputs": [
    {
     "name": "stdout",
     "output_type": "stream",
     "text": [
      "0.2743362831858407\n",
      "[0.4  0.6  0.48 0.44 0.4 ]\n"
     ]
    }
   ],
   "source": [
    "# dokładność\n",
    "y_test_pred_from_clf = clf.predict(x_test)\n",
    "print(accuracy_score(y_test, y_test_pred_from_clf))\n",
    "skf = StratifiedKFold(n_splits=5, shuffle=True)\n",
    "print(cross_val_score(clf, x, y, cv=skf))"
   ]
  },
  {
   "cell_type": "code",
   "execution_count": 40,
   "id": "f91021c9",
   "metadata": {},
   "outputs": [
    {
     "name": "stdout",
     "output_type": "stream",
     "text": [
      "0.424\n"
     ]
    }
   ],
   "source": [
    "print(statistics.mean(cross_val_score(clf, x, y, cv=skf)))"
   ]
  },
  {
   "cell_type": "code",
   "execution_count": null,
   "id": "aa2845ed",
   "metadata": {},
   "outputs": [],
   "source": []
  },
  {
   "cell_type": "code",
   "execution_count": 41,
   "id": "117f2eb7",
   "metadata": {},
   "outputs": [],
   "source": [
    "################################\n",
    "# klasyfikator sieci neuronowych\n",
    "################################"
   ]
  },
  {
   "cell_type": "code",
   "execution_count": 42,
   "id": "c9a867fe",
   "metadata": {},
   "outputs": [],
   "source": [
    "x = np.array(dataset.values[:,:10])\n",
    "y = np.array(dataset.values[:,15])"
   ]
  },
  {
   "cell_type": "code",
   "execution_count": 43,
   "id": "b03f92c5",
   "metadata": {},
   "outputs": [
    {
     "name": "stdout",
     "output_type": "stream",
     "text": [
      "(12, 10)\n",
      "(12,)\n",
      "(113, 10)\n",
      "(113,)\n"
     ]
    }
   ],
   "source": [
    "x_train, x_test, y_train, y_test = train_test_split(\n",
    "    x, y, test_size=0.9, random_state=42)\n",
    "print(x_train.shape)\n",
    "print(y_train.shape)\n",
    "print(x_test.shape)\n",
    "print(y_test.shape)"
   ]
  },
  {
   "cell_type": "code",
   "execution_count": 44,
   "id": "82447909",
   "metadata": {},
   "outputs": [],
   "source": [
    "clf = MLPClassifier(\n",
    "    hidden_layer_sizes=(30), \n",
    "    random_state=42, \n",
    "    max_iter=5000)\n",
    "clf = clf.fit(x_train, y_train)"
   ]
  },
  {
   "cell_type": "code",
   "execution_count": 45,
   "id": "a9ee960f",
   "metadata": {},
   "outputs": [
    {
     "name": "stdout",
     "output_type": "stream",
     "text": [
      "0.19469026548672566\n",
      "[0.2  0.2  0.24 0.16 0.12]\n"
     ]
    }
   ],
   "source": [
    "# dokładność\n",
    "y_test_pred_from_clf = clf.predict(x_test)\n",
    "print(accuracy_score(y_test, y_test_pred_from_clf))\n",
    "skf = StratifiedKFold(n_splits=5, shuffle=True)\n",
    "print(cross_val_score(clf, x, y, cv=skf))"
   ]
  },
  {
   "cell_type": "code",
   "execution_count": 46,
   "id": "cf446729",
   "metadata": {},
   "outputs": [
    {
     "name": "stdout",
     "output_type": "stream",
     "text": [
      "0.17600000000000002\n"
     ]
    }
   ],
   "source": [
    "print(statistics.mean(cross_val_score(clf, x, y, cv=skf)))"
   ]
  },
  {
   "cell_type": "code",
   "execution_count": 47,
   "id": "031c0c97",
   "metadata": {},
   "outputs": [
    {
     "name": "stdout",
     "output_type": "stream",
     "text": [
      "{'hidden_layer_sizes': 30, 'max_iter': 8000, 'random_state': 20}\n"
     ]
    }
   ],
   "source": [
    "# optymalizacja modelu\n",
    "hidden_layer_sizes = np.array([5,10,30,50,100])\n",
    "random_state = np.array([0,10,20,40,60])\n",
    "max_iter = np.array([8000])\n",
    "clf = MLPClassifier()\n",
    "grid = GridSearchCV(estimator = clf, \n",
    "                    param_grid = dict(\n",
    "                        hidden_layer_sizes=(hidden_layer_sizes),\n",
    "                        random_state=random_state,\n",
    "                        max_iter=max_iter))\n",
    "grid.fit(x, y)\n",
    "print(grid.best_params_)"
   ]
  },
  {
   "cell_type": "code",
   "execution_count": 48,
   "id": "301ddb45",
   "metadata": {},
   "outputs": [
    {
     "name": "stdout",
     "output_type": "stream",
     "text": [
      "0.5398230088495575\n",
      "[0.88 0.88 0.92 0.84 0.84]\n"
     ]
    }
   ],
   "source": [
    "clf = MLPClassifier(\n",
    "    hidden_layer_sizes = (grid.best_params_['hidden_layer_sizes']), \n",
    "    random_state = grid.best_params_['random_state'], \n",
    "    max_iter = grid.best_params_['max_iter'])\n",
    "clf = clf.fit(x_train, y_train)\n",
    "# dokładność\n",
    "y_test_pred_from_clf = clf.predict(x_test)\n",
    "print(accuracy_score(y_test, y_test_pred_from_clf))\n",
    "print(cross_val_score(clf, x, y, cv=skf))"
   ]
  },
  {
   "cell_type": "code",
   "execution_count": 49,
   "id": "81ba25a4",
   "metadata": {},
   "outputs": [
    {
     "name": "stdout",
     "output_type": "stream",
     "text": [
      "0.92\n"
     ]
    }
   ],
   "source": [
    "print(statistics.mean(cross_val_score(clf, x, y, cv=skf)))"
   ]
  }
 ],
 "metadata": {
  "kernelspec": {
   "display_name": "Python 3 (ipykernel)",
   "language": "python",
   "name": "python3"
  },
  "language_info": {
   "codemirror_mode": {
    "name": "ipython",
    "version": 3
   },
   "file_extension": ".py",
   "mimetype": "text/x-python",
   "name": "python",
   "nbconvert_exporter": "python",
   "pygments_lexer": "ipython3",
   "version": "3.9.7"
  }
 },
 "nbformat": 4,
 "nbformat_minor": 5
}
