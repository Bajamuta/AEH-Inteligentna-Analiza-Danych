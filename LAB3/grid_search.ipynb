{
 "cells": [
  {
   "cell_type": "code",
   "execution_count": 1,
   "metadata": {},
   "outputs": [],
   "source": [
    "import pandas as pd\n",
    "from sklearn.datasets import load_iris\n",
    "from sklearn import tree"
   ]
  },
  {
   "cell_type": "code",
   "execution_count": 2,
   "metadata": {},
   "outputs": [],
   "source": [
    "iris = load_iris()\n",
    "x = pd.DataFrame(iris.data[:, :], columns = iris.feature_names[:])\n",
    "y = pd.DataFrame(iris.target, columns =[\"Species\"])"
   ]
  },
  {
   "cell_type": "code",
   "execution_count": 3,
   "metadata": {},
   "outputs": [
    {
     "name": "stdout",
     "output_type": "stream",
     "text": [
      "(150, 4)\n",
      "(150, 1)\n"
     ]
    }
   ],
   "source": [
    "print(x.shape)\n",
    "print(y.shape)"
   ]
  },
  {
   "cell_type": "code",
   "execution_count": 4,
   "metadata": {},
   "outputs": [
    {
     "name": "stdout",
     "output_type": "stream",
     "text": [
      "   sepal length (cm)  sepal width (cm)  petal length (cm)  petal width (cm)\n",
      "1                4.9               3.0                1.4               0.2\n",
      "2                4.7               3.2                1.3               0.2\n",
      "3                4.6               3.1                1.5               0.2\n",
      "4                5.0               3.6                1.4               0.2\n",
      "   Species\n",
      "1        0\n",
      "2        0\n",
      "3        0\n",
      "4        0\n"
     ]
    }
   ],
   "source": [
    "print(x[1:5])\n",
    "print(y[1:5])"
   ]
  },
  {
   "cell_type": "code",
   "execution_count": 5,
   "metadata": {},
   "outputs": [],
   "source": [
    "# Optymalizacja modelu"
   ]
  },
  {
   "cell_type": "code",
   "execution_count": 6,
   "metadata": {},
   "outputs": [
    {
     "name": "stdout",
     "output_type": "stream",
     "text": [
      "[{'max_depth': 1}, {'max_depth': 2}, {'max_depth': 3}, {'max_depth': 4}, {'max_depth': 5}, {'max_depth': 6}, {'max_depth': 7}, {'max_depth': 8}, {'max_depth': 9}, {'max_depth': 10}]\n",
      "[0.66666667 0.93333333 0.97333333 0.95333333 0.95333333 0.95333333\n",
      " 0.95333333 0.95333333 0.95333333 0.95333333]\n",
      "DecisionTreeClassifier(max_depth=3, random_state=42)\n"
     ]
    }
   ],
   "source": [
    "# Grid Search - jedna zmienna\n",
    "import numpy as np\n",
    "from sklearn.model_selection import GridSearchCV\n",
    "max_depth = np.array([1,2,3,4,5,6,7,8,9,10])\n",
    "model = tree.DecisionTreeClassifier(random_state=42)\n",
    "grid = GridSearchCV(estimator=model, param_grid=dict(max_depth=max_depth))\n",
    "grid.fit(x, y)\n",
    "print(grid.cv_results_['params'])\n",
    "print(grid.cv_results_['mean_test_score'])\n",
    "print(grid.best_estimator_)"
   ]
  },
  {
   "cell_type": "code",
   "execution_count": 7,
   "metadata": {},
   "outputs": [
    {
     "name": "stdout",
     "output_type": "stream",
     "text": [
      "[{'criterion': 'gini', 'max_depth': 1}, {'criterion': 'gini', 'max_depth': 2}, {'criterion': 'gini', 'max_depth': 3}, {'criterion': 'gini', 'max_depth': 4}, {'criterion': 'gini', 'max_depth': 5}, {'criterion': 'gini', 'max_depth': 6}, {'criterion': 'gini', 'max_depth': 7}, {'criterion': 'gini', 'max_depth': 8}, {'criterion': 'gini', 'max_depth': 9}, {'criterion': 'gini', 'max_depth': 10}, {'criterion': 'entropy', 'max_depth': 1}, {'criterion': 'entropy', 'max_depth': 2}, {'criterion': 'entropy', 'max_depth': 3}, {'criterion': 'entropy', 'max_depth': 4}, {'criterion': 'entropy', 'max_depth': 5}, {'criterion': 'entropy', 'max_depth': 6}, {'criterion': 'entropy', 'max_depth': 7}, {'criterion': 'entropy', 'max_depth': 8}, {'criterion': 'entropy', 'max_depth': 9}, {'criterion': 'entropy', 'max_depth': 10}]\n",
      "[0.66666667 0.93333333 0.97333333 0.95333333 0.95333333 0.95333333\n",
      " 0.95333333 0.95333333 0.95333333 0.95333333 0.66666667 0.93333333\n",
      " 0.96       0.95333333 0.95333333 0.95333333 0.95333333 0.95333333\n",
      " 0.95333333 0.95333333]\n",
      "DecisionTreeClassifier(max_depth=3, random_state=42)\n"
     ]
    }
   ],
   "source": [
    "# Grid Search - dwie zmienne\n",
    "import numpy as np\n",
    "from sklearn.model_selection import GridSearchCV\n",
    "max_depth = np.array([1,2,3,4,5,6,7,8,9,10])\n",
    "criterion = np.array(['gini','entropy'])\n",
    "model = tree.DecisionTreeClassifier(random_state=42)\n",
    "grid = GridSearchCV(estimator=model, param_grid=dict(max_depth=max_depth,criterion=criterion))\n",
    "grid.fit(x, y)\n",
    "print(grid.cv_results_['params'])\n",
    "print(grid.cv_results_['mean_test_score'])\n",
    "print(grid.best_estimator_)"
   ]
  },
  {
   "cell_type": "code",
   "execution_count": null,
   "metadata": {},
   "outputs": [],
   "source": []
  },
  {
   "cell_type": "code",
   "execution_count": null,
   "metadata": {},
   "outputs": [],
   "source": [
    "# Zadanie\n",
    "# Proszę pobrać dowolny zbiór danych ze strony https://archive.ics.uci.edu/ml/index.php\n",
    "# Następnie proszę zoptymalizować las metodą Grid Search (trzy parametry modelu mają zostać optymalizowane).\n",
    "# Jakie wartości parametrów są najlepsze i dlaczego?"
   ]
  }
 ],
 "metadata": {
  "kernelspec": {
   "display_name": "Python 3",
   "language": "python",
   "name": "python3"
  },
  "language_info": {
   "codemirror_mode": {
    "name": "ipython",
    "version": 3
   },
   "file_extension": ".py",
   "mimetype": "text/x-python",
   "name": "python",
   "nbconvert_exporter": "python",
   "pygments_lexer": "ipython3",
   "version": "3.8.10"
  }
 },
 "nbformat": 4,
 "nbformat_minor": 2
}
