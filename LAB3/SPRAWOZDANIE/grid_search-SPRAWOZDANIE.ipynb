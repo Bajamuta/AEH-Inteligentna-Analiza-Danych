{
 "cells": [
  {
   "cell_type": "code",
   "execution_count": 1,
   "metadata": {},
   "outputs": [],
   "source": [
    "import pandas as pd"
   ]
  },
  {
   "cell_type": "code",
   "execution_count": 2,
   "metadata": {},
   "outputs": [
    {
     "name": "stdout",
     "output_type": "stream",
     "text": [
      "   X  Y  temp  RH  wind  rain  area\n",
      "0  7  5   8.2  51   6.7   0.0   0.0\n",
      "1  7  4  18.0  33   0.9   0.0   0.0\n",
      "2  7  4  14.6  33   1.3   0.0   0.0\n",
      "3  8  6   8.3  97   4.0   0.2   0.0\n",
      "4  8  6  11.4  99   1.8   0.0   0.0\n"
     ]
    }
   ],
   "source": [
    "fires_origin = pd.read_csv(\n",
    "    \"forestfires.csv\", header=0, index_col=False) \n",
    "d = {\n",
    "    'X': fires_origin['X'].values, \n",
    "    'Y': fires_origin['Y'].values, \n",
    "    'temp': fires_origin['temp'].values,\n",
    "    'RH': fires_origin['RH'].values,\n",
    "    'wind': fires_origin['wind'].values,\n",
    "    'rain': fires_origin['rain'].values,\n",
    "    'area': fires_origin['area'].values\n",
    "}\n",
    "fires = pd.DataFrame(d)\n",
    "print(fires.head())"
   ]
  },
  {
   "cell_type": "code",
   "execution_count": 3,
   "metadata": {},
   "outputs": [],
   "source": [
    "import statistics as stat\n",
    "maximum = max(fires['temp'])\n",
    "minimum = min(fires['temp'])\n",
    "median = stat.median(fires['temp'])\n",
    "diff = round((maximum - median)/4)\n",
    "max_RH = max(fires['RH'])\n",
    "min_RH = min(fires['RH'])\n",
    "median_RH = stat.median(fires['RH'])\n",
    "max_wind= max(fires['wind'])\n",
    "min_wind= min(fires['wind'])\n",
    "median_wind= stat.median(fires['wind'])"
   ]
  },
  {
   "cell_type": "code",
   "execution_count": 4,
   "metadata": {},
   "outputs": [],
   "source": [
    "tp = fires['temp']\n",
    "rh = fires['RH']\n",
    "w = fires['wind']\n",
    "serious = fires['temp'].copy()\n",
    "for i, val in enumerate(fires['temp']):\n",
    "    #print(val, rh[i], serious[i])\n",
    "    if (val >= (median + diff) and rh[i] <= 30 and w[i] >= 3.0):\n",
    "        serious.loc[i] = 4\n",
    "    else:\n",
    "        if (val >= median + diff):\n",
    "            serious.loc[i] = 3\n",
    "        else: \n",
    "            if (val >= (median - diff) and rh[i] <= 50 and w[i] >= 4.0):\n",
    "                serious.loc[i] = 3\n",
    "            else: \n",
    "                if (val >= median - 2*diff and rh[i] <= 50 and w[i] >= 5.0):\n",
    "                    serious.loc[i] = 2\n",
    "                else:\n",
    "                    if (val >= median - 2*diff):\n",
    "                        serious.loc[i] = 1\n",
    "                    else:\n",
    "                        serious.loc[i] = 0"
   ]
  },
  {
   "cell_type": "code",
   "execution_count": 5,
   "metadata": {},
   "outputs": [
    {
     "name": "stdout",
     "output_type": "stream",
     "text": [
      "1     1.0\n",
      "2     1.0\n",
      "3     0.0\n",
      "4     0.0\n",
      "5     3.0\n",
      "6     4.0\n",
      "7     0.0\n",
      "8     0.0\n",
      "9     3.0\n",
      "10    1.0\n",
      "11    3.0\n",
      "12    1.0\n",
      "13    1.0\n",
      "14    4.0\n",
      "15    3.0\n",
      "16    2.0\n",
      "17    3.0\n",
      "18    1.0\n",
      "19    0.0\n",
      "Name: temp, dtype: float64\n"
     ]
    }
   ],
   "source": [
    "print(serious[1:20])"
   ]
  },
  {
   "cell_type": "code",
   "execution_count": 6,
   "metadata": {},
   "outputs": [],
   "source": [
    "x = pd.DataFrame(\n",
    "    fires.values[:,0:11], \n",
    "    columns =['X','Y','temp', 'RH', 'wind', 'rain', 'area']\n",
    ")\n",
    "y = pd.DataFrame(serious.values, columns =['SERIOUS'])"
   ]
  },
  {
   "cell_type": "code",
   "execution_count": 7,
   "metadata": {},
   "outputs": [
    {
     "name": "stdout",
     "output_type": "stream",
     "text": [
      "(517, 7)\n",
      "(517, 1)\n"
     ]
    }
   ],
   "source": [
    "print(x.shape)\n",
    "print(y.shape)"
   ]
  },
  {
   "cell_type": "code",
   "execution_count": 8,
   "metadata": {},
   "outputs": [
    {
     "name": "stdout",
     "output_type": "stream",
     "text": [
      "     X    Y  temp    RH  wind  rain  area\n",
      "1  7.0  4.0  18.0  33.0   0.9   0.0   0.0\n",
      "2  7.0  4.0  14.6  33.0   1.3   0.0   0.0\n",
      "3  8.0  6.0   8.3  97.0   4.0   0.2   0.0\n",
      "4  8.0  6.0  11.4  99.0   1.8   0.0   0.0\n",
      "   SERIOUS\n",
      "1      1.0\n",
      "2      1.0\n",
      "3      0.0\n",
      "4      0.0\n"
     ]
    }
   ],
   "source": [
    "print(x[1:5])\n",
    "print(y[1:5])"
   ]
  },
  {
   "cell_type": "code",
   "execution_count": 9,
   "metadata": {},
   "outputs": [],
   "source": [
    "# Optymalizacja modelu"
   ]
  },
  {
   "cell_type": "code",
   "execution_count": 10,
   "metadata": {},
   "outputs": [
    {
     "data": {
      "text/plain": [
       "GridSearchCV(estimator=RandomForestClassifier(n_estimators=2),\n",
       "             param_grid={'max_depth': array([ 1,  2,  3,  4,  5,  6,  7,  8,  9, 10, 11, 12, 13, 14, 15, 16, 17,\n",
       "       18, 19, 20, 21, 22, 23, 24, 25])})"
      ]
     },
     "execution_count": 10,
     "metadata": {},
     "output_type": "execute_result"
    }
   ],
   "source": [
    "# Grid Search - jedna zmienna\n",
    "import numpy as np\n",
    "from sklearn.model_selection import GridSearchCV\n",
    "from sklearn.ensemble import RandomForestClassifier\n",
    "max_depth = np.array(\n",
    "    [1,2,3,4,5,6,7,8,9,10,11,12,13,14,15,16,17,18,19,20,21,22,23,24,25])\n",
    "model = RandomForestClassifier(n_estimators=2)\n",
    "grid = GridSearchCV(estimator=model, param_grid=dict(max_depth=max_depth))\n",
    "grid.fit(x, y.values.ravel())"
   ]
  },
  {
   "cell_type": "code",
   "execution_count": 11,
   "metadata": {},
   "outputs": [
    {
     "name": "stdout",
     "output_type": "stream",
     "text": [
      "GridSearchCV(estimator=RandomForestClassifier(n_estimators=2),\n",
      "             param_grid={'max_depth': array([ 1,  2,  3,  4,  5,  6,  7,  8,  9, 10, 11, 12, 13, 14, 15, 16, 17,\n",
      "       18, 19, 20, 21, 22, 23, 24, 25])})\n"
     ]
    }
   ],
   "source": [
    "print(grid)"
   ]
  },
  {
   "cell_type": "code",
   "execution_count": 12,
   "metadata": {},
   "outputs": [
    {
     "name": "stdout",
     "output_type": "stream",
     "text": [
      "[{'max_depth': 1}, {'max_depth': 2}, {'max_depth': 3}, {'max_depth': 4}, {'max_depth': 5}, {'max_depth': 6}, {'max_depth': 7}, {'max_depth': 8}, {'max_depth': 9}, {'max_depth': 10}, {'max_depth': 11}, {'max_depth': 12}, {'max_depth': 13}, {'max_depth': 14}, {'max_depth': 15}, {'max_depth': 16}, {'max_depth': 17}, {'max_depth': 18}, {'max_depth': 19}, {'max_depth': 20}, {'max_depth': 21}, {'max_depth': 22}, {'max_depth': 23}, {'max_depth': 24}, {'max_depth': 25}]\n"
     ]
    }
   ],
   "source": [
    "print(grid.cv_results_['params'])"
   ]
  },
  {
   "cell_type": "code",
   "execution_count": 13,
   "metadata": {},
   "outputs": [
    {
     "name": "stdout",
     "output_type": "stream",
     "text": [
      "[0.52634429 0.66910007 0.66740105 0.69245706 0.8492345  0.79473488\n",
      " 0.85505975 0.85494772 0.82393577 0.77361837 0.82401046 0.78534354\n",
      " 0.81422704 0.81441374 0.81056759 0.84919716 0.8122106  0.81639283\n",
      " 0.8317401  0.80485437 0.82421583 0.84921583 0.78918969 0.82942494\n",
      " 0.85296863]\n"
     ]
    }
   ],
   "source": [
    "print(grid.cv_results_['mean_test_score'])"
   ]
  },
  {
   "cell_type": "code",
   "execution_count": 14,
   "metadata": {},
   "outputs": [
    {
     "name": "stdout",
     "output_type": "stream",
     "text": [
      "{'max_depth': 7}\n"
     ]
    }
   ],
   "source": [
    "print(grid.best_params_)"
   ]
  },
  {
   "cell_type": "code",
   "execution_count": 15,
   "metadata": {},
   "outputs": [
    {
     "name": "stdout",
     "output_type": "stream",
     "text": [
      "[{'max_depth': 1, 'n_estimators': 2}, {'max_depth': 1, 'n_estimators': 3}, {'max_depth': 1, 'n_estimators': 4}, {'max_depth': 1, 'n_estimators': 5}, {'max_depth': 1, 'n_estimators': 6}, {'max_depth': 1, 'n_estimators': 7}, {'max_depth': 1, 'n_estimators': 8}, {'max_depth': 1, 'n_estimators': 9}, {'max_depth': 1, 'n_estimators': 10}, {'max_depth': 2, 'n_estimators': 2}, {'max_depth': 2, 'n_estimators': 3}, {'max_depth': 2, 'n_estimators': 4}, {'max_depth': 2, 'n_estimators': 5}, {'max_depth': 2, 'n_estimators': 6}, {'max_depth': 2, 'n_estimators': 7}, {'max_depth': 2, 'n_estimators': 8}, {'max_depth': 2, 'n_estimators': 9}, {'max_depth': 2, 'n_estimators': 10}, {'max_depth': 3, 'n_estimators': 2}, {'max_depth': 3, 'n_estimators': 3}, {'max_depth': 3, 'n_estimators': 4}, {'max_depth': 3, 'n_estimators': 5}, {'max_depth': 3, 'n_estimators': 6}, {'max_depth': 3, 'n_estimators': 7}, {'max_depth': 3, 'n_estimators': 8}, {'max_depth': 3, 'n_estimators': 9}, {'max_depth': 3, 'n_estimators': 10}, {'max_depth': 4, 'n_estimators': 2}, {'max_depth': 4, 'n_estimators': 3}, {'max_depth': 4, 'n_estimators': 4}, {'max_depth': 4, 'n_estimators': 5}, {'max_depth': 4, 'n_estimators': 6}, {'max_depth': 4, 'n_estimators': 7}, {'max_depth': 4, 'n_estimators': 8}, {'max_depth': 4, 'n_estimators': 9}, {'max_depth': 4, 'n_estimators': 10}, {'max_depth': 5, 'n_estimators': 2}, {'max_depth': 5, 'n_estimators': 3}, {'max_depth': 5, 'n_estimators': 4}, {'max_depth': 5, 'n_estimators': 5}, {'max_depth': 5, 'n_estimators': 6}, {'max_depth': 5, 'n_estimators': 7}, {'max_depth': 5, 'n_estimators': 8}, {'max_depth': 5, 'n_estimators': 9}, {'max_depth': 5, 'n_estimators': 10}, {'max_depth': 6, 'n_estimators': 2}, {'max_depth': 6, 'n_estimators': 3}, {'max_depth': 6, 'n_estimators': 4}, {'max_depth': 6, 'n_estimators': 5}, {'max_depth': 6, 'n_estimators': 6}, {'max_depth': 6, 'n_estimators': 7}, {'max_depth': 6, 'n_estimators': 8}, {'max_depth': 6, 'n_estimators': 9}, {'max_depth': 6, 'n_estimators': 10}, {'max_depth': 7, 'n_estimators': 2}, {'max_depth': 7, 'n_estimators': 3}, {'max_depth': 7, 'n_estimators': 4}, {'max_depth': 7, 'n_estimators': 5}, {'max_depth': 7, 'n_estimators': 6}, {'max_depth': 7, 'n_estimators': 7}, {'max_depth': 7, 'n_estimators': 8}, {'max_depth': 7, 'n_estimators': 9}, {'max_depth': 7, 'n_estimators': 10}, {'max_depth': 8, 'n_estimators': 2}, {'max_depth': 8, 'n_estimators': 3}, {'max_depth': 8, 'n_estimators': 4}, {'max_depth': 8, 'n_estimators': 5}, {'max_depth': 8, 'n_estimators': 6}, {'max_depth': 8, 'n_estimators': 7}, {'max_depth': 8, 'n_estimators': 8}, {'max_depth': 8, 'n_estimators': 9}, {'max_depth': 8, 'n_estimators': 10}, {'max_depth': 9, 'n_estimators': 2}, {'max_depth': 9, 'n_estimators': 3}, {'max_depth': 9, 'n_estimators': 4}, {'max_depth': 9, 'n_estimators': 5}, {'max_depth': 9, 'n_estimators': 6}, {'max_depth': 9, 'n_estimators': 7}, {'max_depth': 9, 'n_estimators': 8}, {'max_depth': 9, 'n_estimators': 9}, {'max_depth': 9, 'n_estimators': 10}, {'max_depth': 10, 'n_estimators': 2}, {'max_depth': 10, 'n_estimators': 3}, {'max_depth': 10, 'n_estimators': 4}, {'max_depth': 10, 'n_estimators': 5}, {'max_depth': 10, 'n_estimators': 6}, {'max_depth': 10, 'n_estimators': 7}, {'max_depth': 10, 'n_estimators': 8}, {'max_depth': 10, 'n_estimators': 9}, {'max_depth': 10, 'n_estimators': 10}, {'max_depth': 11, 'n_estimators': 2}, {'max_depth': 11, 'n_estimators': 3}, {'max_depth': 11, 'n_estimators': 4}, {'max_depth': 11, 'n_estimators': 5}, {'max_depth': 11, 'n_estimators': 6}, {'max_depth': 11, 'n_estimators': 7}, {'max_depth': 11, 'n_estimators': 8}, {'max_depth': 11, 'n_estimators': 9}, {'max_depth': 11, 'n_estimators': 10}, {'max_depth': 12, 'n_estimators': 2}, {'max_depth': 12, 'n_estimators': 3}, {'max_depth': 12, 'n_estimators': 4}, {'max_depth': 12, 'n_estimators': 5}, {'max_depth': 12, 'n_estimators': 6}, {'max_depth': 12, 'n_estimators': 7}, {'max_depth': 12, 'n_estimators': 8}, {'max_depth': 12, 'n_estimators': 9}, {'max_depth': 12, 'n_estimators': 10}, {'max_depth': 13, 'n_estimators': 2}, {'max_depth': 13, 'n_estimators': 3}, {'max_depth': 13, 'n_estimators': 4}, {'max_depth': 13, 'n_estimators': 5}, {'max_depth': 13, 'n_estimators': 6}, {'max_depth': 13, 'n_estimators': 7}, {'max_depth': 13, 'n_estimators': 8}, {'max_depth': 13, 'n_estimators': 9}, {'max_depth': 13, 'n_estimators': 10}, {'max_depth': 14, 'n_estimators': 2}, {'max_depth': 14, 'n_estimators': 3}, {'max_depth': 14, 'n_estimators': 4}, {'max_depth': 14, 'n_estimators': 5}, {'max_depth': 14, 'n_estimators': 6}, {'max_depth': 14, 'n_estimators': 7}, {'max_depth': 14, 'n_estimators': 8}, {'max_depth': 14, 'n_estimators': 9}, {'max_depth': 14, 'n_estimators': 10}, {'max_depth': 15, 'n_estimators': 2}, {'max_depth': 15, 'n_estimators': 3}, {'max_depth': 15, 'n_estimators': 4}, {'max_depth': 15, 'n_estimators': 5}, {'max_depth': 15, 'n_estimators': 6}, {'max_depth': 15, 'n_estimators': 7}, {'max_depth': 15, 'n_estimators': 8}, {'max_depth': 15, 'n_estimators': 9}, {'max_depth': 15, 'n_estimators': 10}, {'max_depth': 16, 'n_estimators': 2}, {'max_depth': 16, 'n_estimators': 3}, {'max_depth': 16, 'n_estimators': 4}, {'max_depth': 16, 'n_estimators': 5}, {'max_depth': 16, 'n_estimators': 6}, {'max_depth': 16, 'n_estimators': 7}, {'max_depth': 16, 'n_estimators': 8}, {'max_depth': 16, 'n_estimators': 9}, {'max_depth': 16, 'n_estimators': 10}, {'max_depth': 17, 'n_estimators': 2}, {'max_depth': 17, 'n_estimators': 3}, {'max_depth': 17, 'n_estimators': 4}, {'max_depth': 17, 'n_estimators': 5}, {'max_depth': 17, 'n_estimators': 6}, {'max_depth': 17, 'n_estimators': 7}, {'max_depth': 17, 'n_estimators': 8}, {'max_depth': 17, 'n_estimators': 9}, {'max_depth': 17, 'n_estimators': 10}, {'max_depth': 18, 'n_estimators': 2}, {'max_depth': 18, 'n_estimators': 3}, {'max_depth': 18, 'n_estimators': 4}, {'max_depth': 18, 'n_estimators': 5}, {'max_depth': 18, 'n_estimators': 6}, {'max_depth': 18, 'n_estimators': 7}, {'max_depth': 18, 'n_estimators': 8}, {'max_depth': 18, 'n_estimators': 9}, {'max_depth': 18, 'n_estimators': 10}, {'max_depth': 19, 'n_estimators': 2}, {'max_depth': 19, 'n_estimators': 3}, {'max_depth': 19, 'n_estimators': 4}, {'max_depth': 19, 'n_estimators': 5}, {'max_depth': 19, 'n_estimators': 6}, {'max_depth': 19, 'n_estimators': 7}, {'max_depth': 19, 'n_estimators': 8}, {'max_depth': 19, 'n_estimators': 9}, {'max_depth': 19, 'n_estimators': 10}, {'max_depth': 20, 'n_estimators': 2}, {'max_depth': 20, 'n_estimators': 3}, {'max_depth': 20, 'n_estimators': 4}, {'max_depth': 20, 'n_estimators': 5}, {'max_depth': 20, 'n_estimators': 6}, {'max_depth': 20, 'n_estimators': 7}, {'max_depth': 20, 'n_estimators': 8}, {'max_depth': 20, 'n_estimators': 9}, {'max_depth': 20, 'n_estimators': 10}, {'max_depth': 21, 'n_estimators': 2}, {'max_depth': 21, 'n_estimators': 3}, {'max_depth': 21, 'n_estimators': 4}, {'max_depth': 21, 'n_estimators': 5}, {'max_depth': 21, 'n_estimators': 6}, {'max_depth': 21, 'n_estimators': 7}, {'max_depth': 21, 'n_estimators': 8}, {'max_depth': 21, 'n_estimators': 9}, {'max_depth': 21, 'n_estimators': 10}, {'max_depth': 22, 'n_estimators': 2}, {'max_depth': 22, 'n_estimators': 3}, {'max_depth': 22, 'n_estimators': 4}, {'max_depth': 22, 'n_estimators': 5}, {'max_depth': 22, 'n_estimators': 6}, {'max_depth': 22, 'n_estimators': 7}, {'max_depth': 22, 'n_estimators': 8}, {'max_depth': 22, 'n_estimators': 9}, {'max_depth': 22, 'n_estimators': 10}, {'max_depth': 23, 'n_estimators': 2}, {'max_depth': 23, 'n_estimators': 3}, {'max_depth': 23, 'n_estimators': 4}, {'max_depth': 23, 'n_estimators': 5}, {'max_depth': 23, 'n_estimators': 6}, {'max_depth': 23, 'n_estimators': 7}, {'max_depth': 23, 'n_estimators': 8}, {'max_depth': 23, 'n_estimators': 9}, {'max_depth': 23, 'n_estimators': 10}, {'max_depth': 24, 'n_estimators': 2}, {'max_depth': 24, 'n_estimators': 3}, {'max_depth': 24, 'n_estimators': 4}, {'max_depth': 24, 'n_estimators': 5}, {'max_depth': 24, 'n_estimators': 6}, {'max_depth': 24, 'n_estimators': 7}, {'max_depth': 24, 'n_estimators': 8}, {'max_depth': 24, 'n_estimators': 9}, {'max_depth': 24, 'n_estimators': 10}, {'max_depth': 25, 'n_estimators': 2}, {'max_depth': 25, 'n_estimators': 3}, {'max_depth': 25, 'n_estimators': 4}, {'max_depth': 25, 'n_estimators': 5}, {'max_depth': 25, 'n_estimators': 6}, {'max_depth': 25, 'n_estimators': 7}, {'max_depth': 25, 'n_estimators': 8}, {'max_depth': 25, 'n_estimators': 9}, {'max_depth': 25, 'n_estimators': 10}]\n"
     ]
    }
   ],
   "source": [
    "# Grid Search - dwie zmienne\n",
    "max_depth = np.array(\n",
    "    [1,2,3,4,5,6,7,8,9,10,11,12,13,14,15,16,17,18,19,20,21,22,23,24,25])\n",
    "n_estimators = np.array([2,3,4,5,6,7,8,9,10])\n",
    "model = RandomForestClassifier()\n",
    "grid = GridSearchCV(estimator=model, \n",
    "                    param_grid=dict(\n",
    "                        n_estimators=n_estimators, \n",
    "                        max_depth=max_depth))\n",
    "grid.fit(x, y.values.ravel())\n",
    "print(grid.cv_results_['params'])"
   ]
  },
  {
   "cell_type": "code",
   "execution_count": 16,
   "metadata": {},
   "outputs": [
    {
     "name": "stdout",
     "output_type": "stream",
     "text": [
      "RandomForestClassifier()\n"
     ]
    }
   ],
   "source": [
    "print(model)"
   ]
  },
  {
   "cell_type": "code",
   "execution_count": 17,
   "metadata": {},
   "outputs": [
    {
     "name": "stdout",
     "output_type": "stream",
     "text": [
      "[0.51256535 0.60358476 0.63086258 0.60776699 0.56667289 0.58816281\n",
      " 0.58627707 0.64802091 0.65752427 0.59016057 0.67498133 0.71926811\n",
      " 0.73722928 0.74255041 0.75418223 0.74858103 0.75070948 0.77948096\n",
      " 0.71000747 0.75057879 0.75464899 0.77005228 0.79307319 0.77197535\n",
      " 0.845295   0.85115758 0.81833458 0.78334578 0.69667662 0.83930172\n",
      " 0.83754668 0.84352128 0.89171023 0.86463779 0.8568708  0.86656087\n",
      " 0.82382375 0.83360717 0.88988051 0.82022031 0.88000373 0.89762883\n",
      " 0.89169156 0.89930919 0.88780807 0.79124347 0.8801531  0.90903659\n",
      " 0.88392457 0.91489918 0.88211352 0.92270351 0.8896938  0.90724421\n",
      " 0.85084018 0.89736744 0.93033981 0.91497386 0.93820015 0.91480583\n",
      " 0.92658701 0.93224421 0.94195295 0.81413368 0.88967513 0.89940254\n",
      " 0.92055639 0.94777819 0.91095967 0.94202763 0.95160568 0.93226288\n",
      " 0.86460045 0.90916729 0.91874533 0.91491785 0.91484317 0.93420463\n",
      " 0.93030246 0.94585512 0.94581777 0.82819268 0.85681479 0.8917289\n",
      " 0.9321882  0.93609037 0.9168596  0.93043316 0.93039582 0.93220687\n",
      " 0.76428305 0.86264003 0.91669156 0.89753547 0.93799477 0.92072442\n",
      " 0.95160568 0.92457058 0.94008588 0.78510082 0.84533234 0.90141897\n",
      " 0.92074309 0.9304705  0.93620239 0.93228155 0.93237491 0.95358476\n",
      " 0.80649739 0.88019044 0.94191561 0.88974981 0.89938387 0.92847274\n",
      " 0.94391337 0.9478342  0.95356609 0.81618745 0.87636296 0.9014003\n",
      " 0.92841673 0.93997386 0.90929798 0.94006721 0.93231889 0.94008588\n",
      " 0.81269604 0.91109037 0.90321135 0.92076176 0.93426064 0.9245519\n",
      " 0.90716953 0.94200896 0.93426064 0.81999627 0.89002987 0.90134429\n",
      " 0.92837939 0.92836072 0.92451456 0.94385736 0.94200896 0.94777819\n",
      " 0.80476102 0.90912995 0.90912995 0.9264003  0.90918596 0.93033981\n",
      " 0.94002987 0.93226288 0.93231889 0.83166542 0.89167289 0.88398058\n",
      " 0.93616505 0.93429798 0.92847274 0.92457058 0.93620239 0.94387603\n",
      " 0.83564227 0.86092233 0.89550037 0.92643764 0.92259149 0.93801344\n",
      " 0.95352875 0.91674757 0.93616505 0.83370052 0.86853996 0.87438387\n",
      " 0.9496826  0.92645631 0.92847274 0.94775952 0.94785288 0.94400672\n",
      " 0.81254668 0.89353996 0.88198282 0.93039582 0.91491785 0.93424197\n",
      " 0.9382935  0.93816281 0.94197162 0.81463779 0.87817401 0.89161688\n",
      " 0.91502987 0.90918596 0.91497386 0.94010456 0.9496826  0.9321882\n",
      " 0.87623226 0.86258402 0.90149365 0.90533981 0.90517177 0.92460792\n",
      " 0.94200896 0.94385736 0.93220687 0.79710605 0.90526512 0.9129761\n",
      " 0.93814414 0.9457991  0.93418596 0.91314414 0.92072442 0.94583645\n",
      " 0.87610157 0.89943988 0.91682226 0.93993652 0.92649365 0.92841673\n",
      " 0.93220687 0.95550784 0.93614638]\n"
     ]
    }
   ],
   "source": [
    "print(grid.cv_results_['mean_test_score'])"
   ]
  },
  {
   "cell_type": "code",
   "execution_count": 18,
   "metadata": {},
   "outputs": [
    {
     "name": "stdout",
     "output_type": "stream",
     "text": [
      "{'max_depth': 25, 'n_estimators': 9}\n"
     ]
    }
   ],
   "source": [
    "print(grid.best_params_)"
   ]
  },
  {
   "cell_type": "code",
   "execution_count": 19,
   "metadata": {},
   "outputs": [
    {
     "name": "stdout",
     "output_type": "stream",
     "text": [
      "[{'criterion': 'gini', 'max_depth': 1, 'n_estimators': 2}, {'criterion': 'gini', 'max_depth': 1, 'n_estimators': 3}, {'criterion': 'gini', 'max_depth': 1, 'n_estimators': 4}, {'criterion': 'gini', 'max_depth': 1, 'n_estimators': 5}, {'criterion': 'gini', 'max_depth': 1, 'n_estimators': 6}, {'criterion': 'gini', 'max_depth': 1, 'n_estimators': 7}, {'criterion': 'gini', 'max_depth': 1, 'n_estimators': 8}, {'criterion': 'gini', 'max_depth': 1, 'n_estimators': 9}, {'criterion': 'gini', 'max_depth': 1, 'n_estimators': 10}, {'criterion': 'gini', 'max_depth': 2, 'n_estimators': 2}, {'criterion': 'gini', 'max_depth': 2, 'n_estimators': 3}, {'criterion': 'gini', 'max_depth': 2, 'n_estimators': 4}, {'criterion': 'gini', 'max_depth': 2, 'n_estimators': 5}, {'criterion': 'gini', 'max_depth': 2, 'n_estimators': 6}, {'criterion': 'gini', 'max_depth': 2, 'n_estimators': 7}, {'criterion': 'gini', 'max_depth': 2, 'n_estimators': 8}, {'criterion': 'gini', 'max_depth': 2, 'n_estimators': 9}, {'criterion': 'gini', 'max_depth': 2, 'n_estimators': 10}, {'criterion': 'gini', 'max_depth': 3, 'n_estimators': 2}, {'criterion': 'gini', 'max_depth': 3, 'n_estimators': 3}, {'criterion': 'gini', 'max_depth': 3, 'n_estimators': 4}, {'criterion': 'gini', 'max_depth': 3, 'n_estimators': 5}, {'criterion': 'gini', 'max_depth': 3, 'n_estimators': 6}, {'criterion': 'gini', 'max_depth': 3, 'n_estimators': 7}, {'criterion': 'gini', 'max_depth': 3, 'n_estimators': 8}, {'criterion': 'gini', 'max_depth': 3, 'n_estimators': 9}, {'criterion': 'gini', 'max_depth': 3, 'n_estimators': 10}, {'criterion': 'gini', 'max_depth': 4, 'n_estimators': 2}, {'criterion': 'gini', 'max_depth': 4, 'n_estimators': 3}, {'criterion': 'gini', 'max_depth': 4, 'n_estimators': 4}, {'criterion': 'gini', 'max_depth': 4, 'n_estimators': 5}, {'criterion': 'gini', 'max_depth': 4, 'n_estimators': 6}, {'criterion': 'gini', 'max_depth': 4, 'n_estimators': 7}, {'criterion': 'gini', 'max_depth': 4, 'n_estimators': 8}, {'criterion': 'gini', 'max_depth': 4, 'n_estimators': 9}, {'criterion': 'gini', 'max_depth': 4, 'n_estimators': 10}, {'criterion': 'gini', 'max_depth': 5, 'n_estimators': 2}, {'criterion': 'gini', 'max_depth': 5, 'n_estimators': 3}, {'criterion': 'gini', 'max_depth': 5, 'n_estimators': 4}, {'criterion': 'gini', 'max_depth': 5, 'n_estimators': 5}, {'criterion': 'gini', 'max_depth': 5, 'n_estimators': 6}, {'criterion': 'gini', 'max_depth': 5, 'n_estimators': 7}, {'criterion': 'gini', 'max_depth': 5, 'n_estimators': 8}, {'criterion': 'gini', 'max_depth': 5, 'n_estimators': 9}, {'criterion': 'gini', 'max_depth': 5, 'n_estimators': 10}, {'criterion': 'gini', 'max_depth': 6, 'n_estimators': 2}, {'criterion': 'gini', 'max_depth': 6, 'n_estimators': 3}, {'criterion': 'gini', 'max_depth': 6, 'n_estimators': 4}, {'criterion': 'gini', 'max_depth': 6, 'n_estimators': 5}, {'criterion': 'gini', 'max_depth': 6, 'n_estimators': 6}, {'criterion': 'gini', 'max_depth': 6, 'n_estimators': 7}, {'criterion': 'gini', 'max_depth': 6, 'n_estimators': 8}, {'criterion': 'gini', 'max_depth': 6, 'n_estimators': 9}, {'criterion': 'gini', 'max_depth': 6, 'n_estimators': 10}, {'criterion': 'gini', 'max_depth': 7, 'n_estimators': 2}, {'criterion': 'gini', 'max_depth': 7, 'n_estimators': 3}, {'criterion': 'gini', 'max_depth': 7, 'n_estimators': 4}, {'criterion': 'gini', 'max_depth': 7, 'n_estimators': 5}, {'criterion': 'gini', 'max_depth': 7, 'n_estimators': 6}, {'criterion': 'gini', 'max_depth': 7, 'n_estimators': 7}, {'criterion': 'gini', 'max_depth': 7, 'n_estimators': 8}, {'criterion': 'gini', 'max_depth': 7, 'n_estimators': 9}, {'criterion': 'gini', 'max_depth': 7, 'n_estimators': 10}, {'criterion': 'gini', 'max_depth': 8, 'n_estimators': 2}, {'criterion': 'gini', 'max_depth': 8, 'n_estimators': 3}, {'criterion': 'gini', 'max_depth': 8, 'n_estimators': 4}, {'criterion': 'gini', 'max_depth': 8, 'n_estimators': 5}, {'criterion': 'gini', 'max_depth': 8, 'n_estimators': 6}, {'criterion': 'gini', 'max_depth': 8, 'n_estimators': 7}, {'criterion': 'gini', 'max_depth': 8, 'n_estimators': 8}, {'criterion': 'gini', 'max_depth': 8, 'n_estimators': 9}, {'criterion': 'gini', 'max_depth': 8, 'n_estimators': 10}, {'criterion': 'gini', 'max_depth': 9, 'n_estimators': 2}, {'criterion': 'gini', 'max_depth': 9, 'n_estimators': 3}, {'criterion': 'gini', 'max_depth': 9, 'n_estimators': 4}, {'criterion': 'gini', 'max_depth': 9, 'n_estimators': 5}, {'criterion': 'gini', 'max_depth': 9, 'n_estimators': 6}, {'criterion': 'gini', 'max_depth': 9, 'n_estimators': 7}, {'criterion': 'gini', 'max_depth': 9, 'n_estimators': 8}, {'criterion': 'gini', 'max_depth': 9, 'n_estimators': 9}, {'criterion': 'gini', 'max_depth': 9, 'n_estimators': 10}, {'criterion': 'gini', 'max_depth': 10, 'n_estimators': 2}, {'criterion': 'gini', 'max_depth': 10, 'n_estimators': 3}, {'criterion': 'gini', 'max_depth': 10, 'n_estimators': 4}, {'criterion': 'gini', 'max_depth': 10, 'n_estimators': 5}, {'criterion': 'gini', 'max_depth': 10, 'n_estimators': 6}, {'criterion': 'gini', 'max_depth': 10, 'n_estimators': 7}, {'criterion': 'gini', 'max_depth': 10, 'n_estimators': 8}, {'criterion': 'gini', 'max_depth': 10, 'n_estimators': 9}, {'criterion': 'gini', 'max_depth': 10, 'n_estimators': 10}, {'criterion': 'gini', 'max_depth': 11, 'n_estimators': 2}, {'criterion': 'gini', 'max_depth': 11, 'n_estimators': 3}, {'criterion': 'gini', 'max_depth': 11, 'n_estimators': 4}, {'criterion': 'gini', 'max_depth': 11, 'n_estimators': 5}, {'criterion': 'gini', 'max_depth': 11, 'n_estimators': 6}, {'criterion': 'gini', 'max_depth': 11, 'n_estimators': 7}, {'criterion': 'gini', 'max_depth': 11, 'n_estimators': 8}, {'criterion': 'gini', 'max_depth': 11, 'n_estimators': 9}, {'criterion': 'gini', 'max_depth': 11, 'n_estimators': 10}, {'criterion': 'gini', 'max_depth': 12, 'n_estimators': 2}, {'criterion': 'gini', 'max_depth': 12, 'n_estimators': 3}, {'criterion': 'gini', 'max_depth': 12, 'n_estimators': 4}, {'criterion': 'gini', 'max_depth': 12, 'n_estimators': 5}, {'criterion': 'gini', 'max_depth': 12, 'n_estimators': 6}, {'criterion': 'gini', 'max_depth': 12, 'n_estimators': 7}, {'criterion': 'gini', 'max_depth': 12, 'n_estimators': 8}, {'criterion': 'gini', 'max_depth': 12, 'n_estimators': 9}, {'criterion': 'gini', 'max_depth': 12, 'n_estimators': 10}, {'criterion': 'gini', 'max_depth': 13, 'n_estimators': 2}, {'criterion': 'gini', 'max_depth': 13, 'n_estimators': 3}, {'criterion': 'gini', 'max_depth': 13, 'n_estimators': 4}, {'criterion': 'gini', 'max_depth': 13, 'n_estimators': 5}, {'criterion': 'gini', 'max_depth': 13, 'n_estimators': 6}, {'criterion': 'gini', 'max_depth': 13, 'n_estimators': 7}, {'criterion': 'gini', 'max_depth': 13, 'n_estimators': 8}, {'criterion': 'gini', 'max_depth': 13, 'n_estimators': 9}, {'criterion': 'gini', 'max_depth': 13, 'n_estimators': 10}, {'criterion': 'gini', 'max_depth': 14, 'n_estimators': 2}, {'criterion': 'gini', 'max_depth': 14, 'n_estimators': 3}, {'criterion': 'gini', 'max_depth': 14, 'n_estimators': 4}, {'criterion': 'gini', 'max_depth': 14, 'n_estimators': 5}, {'criterion': 'gini', 'max_depth': 14, 'n_estimators': 6}, {'criterion': 'gini', 'max_depth': 14, 'n_estimators': 7}, {'criterion': 'gini', 'max_depth': 14, 'n_estimators': 8}, {'criterion': 'gini', 'max_depth': 14, 'n_estimators': 9}, {'criterion': 'gini', 'max_depth': 14, 'n_estimators': 10}, {'criterion': 'gini', 'max_depth': 15, 'n_estimators': 2}, {'criterion': 'gini', 'max_depth': 15, 'n_estimators': 3}, {'criterion': 'gini', 'max_depth': 15, 'n_estimators': 4}, {'criterion': 'gini', 'max_depth': 15, 'n_estimators': 5}, {'criterion': 'gini', 'max_depth': 15, 'n_estimators': 6}, {'criterion': 'gini', 'max_depth': 15, 'n_estimators': 7}, {'criterion': 'gini', 'max_depth': 15, 'n_estimators': 8}, {'criterion': 'gini', 'max_depth': 15, 'n_estimators': 9}, {'criterion': 'gini', 'max_depth': 15, 'n_estimators': 10}, {'criterion': 'gini', 'max_depth': 16, 'n_estimators': 2}, {'criterion': 'gini', 'max_depth': 16, 'n_estimators': 3}, {'criterion': 'gini', 'max_depth': 16, 'n_estimators': 4}, {'criterion': 'gini', 'max_depth': 16, 'n_estimators': 5}, {'criterion': 'gini', 'max_depth': 16, 'n_estimators': 6}, {'criterion': 'gini', 'max_depth': 16, 'n_estimators': 7}, {'criterion': 'gini', 'max_depth': 16, 'n_estimators': 8}, {'criterion': 'gini', 'max_depth': 16, 'n_estimators': 9}, {'criterion': 'gini', 'max_depth': 16, 'n_estimators': 10}, {'criterion': 'gini', 'max_depth': 17, 'n_estimators': 2}, {'criterion': 'gini', 'max_depth': 17, 'n_estimators': 3}, {'criterion': 'gini', 'max_depth': 17, 'n_estimators': 4}, {'criterion': 'gini', 'max_depth': 17, 'n_estimators': 5}, {'criterion': 'gini', 'max_depth': 17, 'n_estimators': 6}, {'criterion': 'gini', 'max_depth': 17, 'n_estimators': 7}, {'criterion': 'gini', 'max_depth': 17, 'n_estimators': 8}, {'criterion': 'gini', 'max_depth': 17, 'n_estimators': 9}, {'criterion': 'gini', 'max_depth': 17, 'n_estimators': 10}, {'criterion': 'gini', 'max_depth': 18, 'n_estimators': 2}, {'criterion': 'gini', 'max_depth': 18, 'n_estimators': 3}, {'criterion': 'gini', 'max_depth': 18, 'n_estimators': 4}, {'criterion': 'gini', 'max_depth': 18, 'n_estimators': 5}, {'criterion': 'gini', 'max_depth': 18, 'n_estimators': 6}, {'criterion': 'gini', 'max_depth': 18, 'n_estimators': 7}, {'criterion': 'gini', 'max_depth': 18, 'n_estimators': 8}, {'criterion': 'gini', 'max_depth': 18, 'n_estimators': 9}, {'criterion': 'gini', 'max_depth': 18, 'n_estimators': 10}, {'criterion': 'gini', 'max_depth': 19, 'n_estimators': 2}, {'criterion': 'gini', 'max_depth': 19, 'n_estimators': 3}, {'criterion': 'gini', 'max_depth': 19, 'n_estimators': 4}, {'criterion': 'gini', 'max_depth': 19, 'n_estimators': 5}, {'criterion': 'gini', 'max_depth': 19, 'n_estimators': 6}, {'criterion': 'gini', 'max_depth': 19, 'n_estimators': 7}, {'criterion': 'gini', 'max_depth': 19, 'n_estimators': 8}, {'criterion': 'gini', 'max_depth': 19, 'n_estimators': 9}, {'criterion': 'gini', 'max_depth': 19, 'n_estimators': 10}, {'criterion': 'gini', 'max_depth': 20, 'n_estimators': 2}, {'criterion': 'gini', 'max_depth': 20, 'n_estimators': 3}, {'criterion': 'gini', 'max_depth': 20, 'n_estimators': 4}, {'criterion': 'gini', 'max_depth': 20, 'n_estimators': 5}, {'criterion': 'gini', 'max_depth': 20, 'n_estimators': 6}, {'criterion': 'gini', 'max_depth': 20, 'n_estimators': 7}, {'criterion': 'gini', 'max_depth': 20, 'n_estimators': 8}, {'criterion': 'gini', 'max_depth': 20, 'n_estimators': 9}, {'criterion': 'gini', 'max_depth': 20, 'n_estimators': 10}, {'criterion': 'gini', 'max_depth': 21, 'n_estimators': 2}, {'criterion': 'gini', 'max_depth': 21, 'n_estimators': 3}, {'criterion': 'gini', 'max_depth': 21, 'n_estimators': 4}, {'criterion': 'gini', 'max_depth': 21, 'n_estimators': 5}, {'criterion': 'gini', 'max_depth': 21, 'n_estimators': 6}, {'criterion': 'gini', 'max_depth': 21, 'n_estimators': 7}, {'criterion': 'gini', 'max_depth': 21, 'n_estimators': 8}, {'criterion': 'gini', 'max_depth': 21, 'n_estimators': 9}, {'criterion': 'gini', 'max_depth': 21, 'n_estimators': 10}, {'criterion': 'gini', 'max_depth': 22, 'n_estimators': 2}, {'criterion': 'gini', 'max_depth': 22, 'n_estimators': 3}, {'criterion': 'gini', 'max_depth': 22, 'n_estimators': 4}, {'criterion': 'gini', 'max_depth': 22, 'n_estimators': 5}, {'criterion': 'gini', 'max_depth': 22, 'n_estimators': 6}, {'criterion': 'gini', 'max_depth': 22, 'n_estimators': 7}, {'criterion': 'gini', 'max_depth': 22, 'n_estimators': 8}, {'criterion': 'gini', 'max_depth': 22, 'n_estimators': 9}, {'criterion': 'gini', 'max_depth': 22, 'n_estimators': 10}, {'criterion': 'gini', 'max_depth': 23, 'n_estimators': 2}, {'criterion': 'gini', 'max_depth': 23, 'n_estimators': 3}, {'criterion': 'gini', 'max_depth': 23, 'n_estimators': 4}, {'criterion': 'gini', 'max_depth': 23, 'n_estimators': 5}, {'criterion': 'gini', 'max_depth': 23, 'n_estimators': 6}, {'criterion': 'gini', 'max_depth': 23, 'n_estimators': 7}, {'criterion': 'gini', 'max_depth': 23, 'n_estimators': 8}, {'criterion': 'gini', 'max_depth': 23, 'n_estimators': 9}, {'criterion': 'gini', 'max_depth': 23, 'n_estimators': 10}, {'criterion': 'gini', 'max_depth': 24, 'n_estimators': 2}, {'criterion': 'gini', 'max_depth': 24, 'n_estimators': 3}, {'criterion': 'gini', 'max_depth': 24, 'n_estimators': 4}, {'criterion': 'gini', 'max_depth': 24, 'n_estimators': 5}, {'criterion': 'gini', 'max_depth': 24, 'n_estimators': 6}, {'criterion': 'gini', 'max_depth': 24, 'n_estimators': 7}, {'criterion': 'gini', 'max_depth': 24, 'n_estimators': 8}, {'criterion': 'gini', 'max_depth': 24, 'n_estimators': 9}, {'criterion': 'gini', 'max_depth': 24, 'n_estimators': 10}, {'criterion': 'gini', 'max_depth': 25, 'n_estimators': 2}, {'criterion': 'gini', 'max_depth': 25, 'n_estimators': 3}, {'criterion': 'gini', 'max_depth': 25, 'n_estimators': 4}, {'criterion': 'gini', 'max_depth': 25, 'n_estimators': 5}, {'criterion': 'gini', 'max_depth': 25, 'n_estimators': 6}, {'criterion': 'gini', 'max_depth': 25, 'n_estimators': 7}, {'criterion': 'gini', 'max_depth': 25, 'n_estimators': 8}, {'criterion': 'gini', 'max_depth': 25, 'n_estimators': 9}, {'criterion': 'gini', 'max_depth': 25, 'n_estimators': 10}, {'criterion': 'entropy', 'max_depth': 1, 'n_estimators': 2}, {'criterion': 'entropy', 'max_depth': 1, 'n_estimators': 3}, {'criterion': 'entropy', 'max_depth': 1, 'n_estimators': 4}, {'criterion': 'entropy', 'max_depth': 1, 'n_estimators': 5}, {'criterion': 'entropy', 'max_depth': 1, 'n_estimators': 6}, {'criterion': 'entropy', 'max_depth': 1, 'n_estimators': 7}, {'criterion': 'entropy', 'max_depth': 1, 'n_estimators': 8}, {'criterion': 'entropy', 'max_depth': 1, 'n_estimators': 9}, {'criterion': 'entropy', 'max_depth': 1, 'n_estimators': 10}, {'criterion': 'entropy', 'max_depth': 2, 'n_estimators': 2}, {'criterion': 'entropy', 'max_depth': 2, 'n_estimators': 3}, {'criterion': 'entropy', 'max_depth': 2, 'n_estimators': 4}, {'criterion': 'entropy', 'max_depth': 2, 'n_estimators': 5}, {'criterion': 'entropy', 'max_depth': 2, 'n_estimators': 6}, {'criterion': 'entropy', 'max_depth': 2, 'n_estimators': 7}, {'criterion': 'entropy', 'max_depth': 2, 'n_estimators': 8}, {'criterion': 'entropy', 'max_depth': 2, 'n_estimators': 9}, {'criterion': 'entropy', 'max_depth': 2, 'n_estimators': 10}, {'criterion': 'entropy', 'max_depth': 3, 'n_estimators': 2}, {'criterion': 'entropy', 'max_depth': 3, 'n_estimators': 3}, {'criterion': 'entropy', 'max_depth': 3, 'n_estimators': 4}, {'criterion': 'entropy', 'max_depth': 3, 'n_estimators': 5}, {'criterion': 'entropy', 'max_depth': 3, 'n_estimators': 6}, {'criterion': 'entropy', 'max_depth': 3, 'n_estimators': 7}, {'criterion': 'entropy', 'max_depth': 3, 'n_estimators': 8}, {'criterion': 'entropy', 'max_depth': 3, 'n_estimators': 9}, {'criterion': 'entropy', 'max_depth': 3, 'n_estimators': 10}, {'criterion': 'entropy', 'max_depth': 4, 'n_estimators': 2}, {'criterion': 'entropy', 'max_depth': 4, 'n_estimators': 3}, {'criterion': 'entropy', 'max_depth': 4, 'n_estimators': 4}, {'criterion': 'entropy', 'max_depth': 4, 'n_estimators': 5}, {'criterion': 'entropy', 'max_depth': 4, 'n_estimators': 6}, {'criterion': 'entropy', 'max_depth': 4, 'n_estimators': 7}, {'criterion': 'entropy', 'max_depth': 4, 'n_estimators': 8}, {'criterion': 'entropy', 'max_depth': 4, 'n_estimators': 9}, {'criterion': 'entropy', 'max_depth': 4, 'n_estimators': 10}, {'criterion': 'entropy', 'max_depth': 5, 'n_estimators': 2}, {'criterion': 'entropy', 'max_depth': 5, 'n_estimators': 3}, {'criterion': 'entropy', 'max_depth': 5, 'n_estimators': 4}, {'criterion': 'entropy', 'max_depth': 5, 'n_estimators': 5}, {'criterion': 'entropy', 'max_depth': 5, 'n_estimators': 6}, {'criterion': 'entropy', 'max_depth': 5, 'n_estimators': 7}, {'criterion': 'entropy', 'max_depth': 5, 'n_estimators': 8}, {'criterion': 'entropy', 'max_depth': 5, 'n_estimators': 9}, {'criterion': 'entropy', 'max_depth': 5, 'n_estimators': 10}, {'criterion': 'entropy', 'max_depth': 6, 'n_estimators': 2}, {'criterion': 'entropy', 'max_depth': 6, 'n_estimators': 3}, {'criterion': 'entropy', 'max_depth': 6, 'n_estimators': 4}, {'criterion': 'entropy', 'max_depth': 6, 'n_estimators': 5}, {'criterion': 'entropy', 'max_depth': 6, 'n_estimators': 6}, {'criterion': 'entropy', 'max_depth': 6, 'n_estimators': 7}, {'criterion': 'entropy', 'max_depth': 6, 'n_estimators': 8}, {'criterion': 'entropy', 'max_depth': 6, 'n_estimators': 9}, {'criterion': 'entropy', 'max_depth': 6, 'n_estimators': 10}, {'criterion': 'entropy', 'max_depth': 7, 'n_estimators': 2}, {'criterion': 'entropy', 'max_depth': 7, 'n_estimators': 3}, {'criterion': 'entropy', 'max_depth': 7, 'n_estimators': 4}, {'criterion': 'entropy', 'max_depth': 7, 'n_estimators': 5}, {'criterion': 'entropy', 'max_depth': 7, 'n_estimators': 6}, {'criterion': 'entropy', 'max_depth': 7, 'n_estimators': 7}, {'criterion': 'entropy', 'max_depth': 7, 'n_estimators': 8}, {'criterion': 'entropy', 'max_depth': 7, 'n_estimators': 9}, {'criterion': 'entropy', 'max_depth': 7, 'n_estimators': 10}, {'criterion': 'entropy', 'max_depth': 8, 'n_estimators': 2}, {'criterion': 'entropy', 'max_depth': 8, 'n_estimators': 3}, {'criterion': 'entropy', 'max_depth': 8, 'n_estimators': 4}, {'criterion': 'entropy', 'max_depth': 8, 'n_estimators': 5}, {'criterion': 'entropy', 'max_depth': 8, 'n_estimators': 6}, {'criterion': 'entropy', 'max_depth': 8, 'n_estimators': 7}, {'criterion': 'entropy', 'max_depth': 8, 'n_estimators': 8}, {'criterion': 'entropy', 'max_depth': 8, 'n_estimators': 9}, {'criterion': 'entropy', 'max_depth': 8, 'n_estimators': 10}, {'criterion': 'entropy', 'max_depth': 9, 'n_estimators': 2}, {'criterion': 'entropy', 'max_depth': 9, 'n_estimators': 3}, {'criterion': 'entropy', 'max_depth': 9, 'n_estimators': 4}, {'criterion': 'entropy', 'max_depth': 9, 'n_estimators': 5}, {'criterion': 'entropy', 'max_depth': 9, 'n_estimators': 6}, {'criterion': 'entropy', 'max_depth': 9, 'n_estimators': 7}, {'criterion': 'entropy', 'max_depth': 9, 'n_estimators': 8}, {'criterion': 'entropy', 'max_depth': 9, 'n_estimators': 9}, {'criterion': 'entropy', 'max_depth': 9, 'n_estimators': 10}, {'criterion': 'entropy', 'max_depth': 10, 'n_estimators': 2}, {'criterion': 'entropy', 'max_depth': 10, 'n_estimators': 3}, {'criterion': 'entropy', 'max_depth': 10, 'n_estimators': 4}, {'criterion': 'entropy', 'max_depth': 10, 'n_estimators': 5}, {'criterion': 'entropy', 'max_depth': 10, 'n_estimators': 6}, {'criterion': 'entropy', 'max_depth': 10, 'n_estimators': 7}, {'criterion': 'entropy', 'max_depth': 10, 'n_estimators': 8}, {'criterion': 'entropy', 'max_depth': 10, 'n_estimators': 9}, {'criterion': 'entropy', 'max_depth': 10, 'n_estimators': 10}, {'criterion': 'entropy', 'max_depth': 11, 'n_estimators': 2}, {'criterion': 'entropy', 'max_depth': 11, 'n_estimators': 3}, {'criterion': 'entropy', 'max_depth': 11, 'n_estimators': 4}, {'criterion': 'entropy', 'max_depth': 11, 'n_estimators': 5}, {'criterion': 'entropy', 'max_depth': 11, 'n_estimators': 6}, {'criterion': 'entropy', 'max_depth': 11, 'n_estimators': 7}, {'criterion': 'entropy', 'max_depth': 11, 'n_estimators': 8}, {'criterion': 'entropy', 'max_depth': 11, 'n_estimators': 9}, {'criterion': 'entropy', 'max_depth': 11, 'n_estimators': 10}, {'criterion': 'entropy', 'max_depth': 12, 'n_estimators': 2}, {'criterion': 'entropy', 'max_depth': 12, 'n_estimators': 3}, {'criterion': 'entropy', 'max_depth': 12, 'n_estimators': 4}, {'criterion': 'entropy', 'max_depth': 12, 'n_estimators': 5}, {'criterion': 'entropy', 'max_depth': 12, 'n_estimators': 6}, {'criterion': 'entropy', 'max_depth': 12, 'n_estimators': 7}, {'criterion': 'entropy', 'max_depth': 12, 'n_estimators': 8}, {'criterion': 'entropy', 'max_depth': 12, 'n_estimators': 9}, {'criterion': 'entropy', 'max_depth': 12, 'n_estimators': 10}, {'criterion': 'entropy', 'max_depth': 13, 'n_estimators': 2}, {'criterion': 'entropy', 'max_depth': 13, 'n_estimators': 3}, {'criterion': 'entropy', 'max_depth': 13, 'n_estimators': 4}, {'criterion': 'entropy', 'max_depth': 13, 'n_estimators': 5}, {'criterion': 'entropy', 'max_depth': 13, 'n_estimators': 6}, {'criterion': 'entropy', 'max_depth': 13, 'n_estimators': 7}, {'criterion': 'entropy', 'max_depth': 13, 'n_estimators': 8}, {'criterion': 'entropy', 'max_depth': 13, 'n_estimators': 9}, {'criterion': 'entropy', 'max_depth': 13, 'n_estimators': 10}, {'criterion': 'entropy', 'max_depth': 14, 'n_estimators': 2}, {'criterion': 'entropy', 'max_depth': 14, 'n_estimators': 3}, {'criterion': 'entropy', 'max_depth': 14, 'n_estimators': 4}, {'criterion': 'entropy', 'max_depth': 14, 'n_estimators': 5}, {'criterion': 'entropy', 'max_depth': 14, 'n_estimators': 6}, {'criterion': 'entropy', 'max_depth': 14, 'n_estimators': 7}, {'criterion': 'entropy', 'max_depth': 14, 'n_estimators': 8}, {'criterion': 'entropy', 'max_depth': 14, 'n_estimators': 9}, {'criterion': 'entropy', 'max_depth': 14, 'n_estimators': 10}, {'criterion': 'entropy', 'max_depth': 15, 'n_estimators': 2}, {'criterion': 'entropy', 'max_depth': 15, 'n_estimators': 3}, {'criterion': 'entropy', 'max_depth': 15, 'n_estimators': 4}, {'criterion': 'entropy', 'max_depth': 15, 'n_estimators': 5}, {'criterion': 'entropy', 'max_depth': 15, 'n_estimators': 6}, {'criterion': 'entropy', 'max_depth': 15, 'n_estimators': 7}, {'criterion': 'entropy', 'max_depth': 15, 'n_estimators': 8}, {'criterion': 'entropy', 'max_depth': 15, 'n_estimators': 9}, {'criterion': 'entropy', 'max_depth': 15, 'n_estimators': 10}, {'criterion': 'entropy', 'max_depth': 16, 'n_estimators': 2}, {'criterion': 'entropy', 'max_depth': 16, 'n_estimators': 3}, {'criterion': 'entropy', 'max_depth': 16, 'n_estimators': 4}, {'criterion': 'entropy', 'max_depth': 16, 'n_estimators': 5}, {'criterion': 'entropy', 'max_depth': 16, 'n_estimators': 6}, {'criterion': 'entropy', 'max_depth': 16, 'n_estimators': 7}, {'criterion': 'entropy', 'max_depth': 16, 'n_estimators': 8}, {'criterion': 'entropy', 'max_depth': 16, 'n_estimators': 9}, {'criterion': 'entropy', 'max_depth': 16, 'n_estimators': 10}, {'criterion': 'entropy', 'max_depth': 17, 'n_estimators': 2}, {'criterion': 'entropy', 'max_depth': 17, 'n_estimators': 3}, {'criterion': 'entropy', 'max_depth': 17, 'n_estimators': 4}, {'criterion': 'entropy', 'max_depth': 17, 'n_estimators': 5}, {'criterion': 'entropy', 'max_depth': 17, 'n_estimators': 6}, {'criterion': 'entropy', 'max_depth': 17, 'n_estimators': 7}, {'criterion': 'entropy', 'max_depth': 17, 'n_estimators': 8}, {'criterion': 'entropy', 'max_depth': 17, 'n_estimators': 9}, {'criterion': 'entropy', 'max_depth': 17, 'n_estimators': 10}, {'criterion': 'entropy', 'max_depth': 18, 'n_estimators': 2}, {'criterion': 'entropy', 'max_depth': 18, 'n_estimators': 3}, {'criterion': 'entropy', 'max_depth': 18, 'n_estimators': 4}, {'criterion': 'entropy', 'max_depth': 18, 'n_estimators': 5}, {'criterion': 'entropy', 'max_depth': 18, 'n_estimators': 6}, {'criterion': 'entropy', 'max_depth': 18, 'n_estimators': 7}, {'criterion': 'entropy', 'max_depth': 18, 'n_estimators': 8}, {'criterion': 'entropy', 'max_depth': 18, 'n_estimators': 9}, {'criterion': 'entropy', 'max_depth': 18, 'n_estimators': 10}, {'criterion': 'entropy', 'max_depth': 19, 'n_estimators': 2}, {'criterion': 'entropy', 'max_depth': 19, 'n_estimators': 3}, {'criterion': 'entropy', 'max_depth': 19, 'n_estimators': 4}, {'criterion': 'entropy', 'max_depth': 19, 'n_estimators': 5}, {'criterion': 'entropy', 'max_depth': 19, 'n_estimators': 6}, {'criterion': 'entropy', 'max_depth': 19, 'n_estimators': 7}, {'criterion': 'entropy', 'max_depth': 19, 'n_estimators': 8}, {'criterion': 'entropy', 'max_depth': 19, 'n_estimators': 9}, {'criterion': 'entropy', 'max_depth': 19, 'n_estimators': 10}, {'criterion': 'entropy', 'max_depth': 20, 'n_estimators': 2}, {'criterion': 'entropy', 'max_depth': 20, 'n_estimators': 3}, {'criterion': 'entropy', 'max_depth': 20, 'n_estimators': 4}, {'criterion': 'entropy', 'max_depth': 20, 'n_estimators': 5}, {'criterion': 'entropy', 'max_depth': 20, 'n_estimators': 6}, {'criterion': 'entropy', 'max_depth': 20, 'n_estimators': 7}, {'criterion': 'entropy', 'max_depth': 20, 'n_estimators': 8}, {'criterion': 'entropy', 'max_depth': 20, 'n_estimators': 9}, {'criterion': 'entropy', 'max_depth': 20, 'n_estimators': 10}, {'criterion': 'entropy', 'max_depth': 21, 'n_estimators': 2}, {'criterion': 'entropy', 'max_depth': 21, 'n_estimators': 3}, {'criterion': 'entropy', 'max_depth': 21, 'n_estimators': 4}, {'criterion': 'entropy', 'max_depth': 21, 'n_estimators': 5}, {'criterion': 'entropy', 'max_depth': 21, 'n_estimators': 6}, {'criterion': 'entropy', 'max_depth': 21, 'n_estimators': 7}, {'criterion': 'entropy', 'max_depth': 21, 'n_estimators': 8}, {'criterion': 'entropy', 'max_depth': 21, 'n_estimators': 9}, {'criterion': 'entropy', 'max_depth': 21, 'n_estimators': 10}, {'criterion': 'entropy', 'max_depth': 22, 'n_estimators': 2}, {'criterion': 'entropy', 'max_depth': 22, 'n_estimators': 3}, {'criterion': 'entropy', 'max_depth': 22, 'n_estimators': 4}, {'criterion': 'entropy', 'max_depth': 22, 'n_estimators': 5}, {'criterion': 'entropy', 'max_depth': 22, 'n_estimators': 6}, {'criterion': 'entropy', 'max_depth': 22, 'n_estimators': 7}, {'criterion': 'entropy', 'max_depth': 22, 'n_estimators': 8}, {'criterion': 'entropy', 'max_depth': 22, 'n_estimators': 9}, {'criterion': 'entropy', 'max_depth': 22, 'n_estimators': 10}, {'criterion': 'entropy', 'max_depth': 23, 'n_estimators': 2}, {'criterion': 'entropy', 'max_depth': 23, 'n_estimators': 3}, {'criterion': 'entropy', 'max_depth': 23, 'n_estimators': 4}, {'criterion': 'entropy', 'max_depth': 23, 'n_estimators': 5}, {'criterion': 'entropy', 'max_depth': 23, 'n_estimators': 6}, {'criterion': 'entropy', 'max_depth': 23, 'n_estimators': 7}, {'criterion': 'entropy', 'max_depth': 23, 'n_estimators': 8}, {'criterion': 'entropy', 'max_depth': 23, 'n_estimators': 9}, {'criterion': 'entropy', 'max_depth': 23, 'n_estimators': 10}, {'criterion': 'entropy', 'max_depth': 24, 'n_estimators': 2}, {'criterion': 'entropy', 'max_depth': 24, 'n_estimators': 3}, {'criterion': 'entropy', 'max_depth': 24, 'n_estimators': 4}, {'criterion': 'entropy', 'max_depth': 24, 'n_estimators': 5}, {'criterion': 'entropy', 'max_depth': 24, 'n_estimators': 6}, {'criterion': 'entropy', 'max_depth': 24, 'n_estimators': 7}, {'criterion': 'entropy', 'max_depth': 24, 'n_estimators': 8}, {'criterion': 'entropy', 'max_depth': 24, 'n_estimators': 9}, {'criterion': 'entropy', 'max_depth': 24, 'n_estimators': 10}, {'criterion': 'entropy', 'max_depth': 25, 'n_estimators': 2}, {'criterion': 'entropy', 'max_depth': 25, 'n_estimators': 3}, {'criterion': 'entropy', 'max_depth': 25, 'n_estimators': 4}, {'criterion': 'entropy', 'max_depth': 25, 'n_estimators': 5}, {'criterion': 'entropy', 'max_depth': 25, 'n_estimators': 6}, {'criterion': 'entropy', 'max_depth': 25, 'n_estimators': 7}, {'criterion': 'entropy', 'max_depth': 25, 'n_estimators': 8}, {'criterion': 'entropy', 'max_depth': 25, 'n_estimators': 9}, {'criterion': 'entropy', 'max_depth': 25, 'n_estimators': 10}]\n"
     ]
    }
   ],
   "source": [
    "criterion = np.array(['gini','entropy'])\n",
    "max_depth = np.array([1,2,3,4,5,6,7,8,9,10,11,12,13,14,15,16,17,18,19,20,21,22,23,24,25])\n",
    "n_estimators = np.array([2,3,4,5,6,7,8,9,10])\n",
    "model = RandomForestClassifier()\n",
    "grid = GridSearchCV(estimator=model, param_grid=dict(\n",
    "    n_estimators=n_estimators, max_depth=max_depth, criterion=criterion))\n",
    "grid.fit(x, y.values.ravel())\n",
    "print(grid.cv_results_['params'])"
   ]
  },
  {
   "cell_type": "code",
   "execution_count": 20,
   "metadata": {},
   "outputs": [
    {
     "name": "stdout",
     "output_type": "stream",
     "text": [
      "[0.52791262 0.5764003  0.55532114 0.5610717  0.57068708 0.68069455\n",
      " 0.60393951 0.60541449 0.69820762 0.69251307 0.71372293 0.72345034\n",
      " 0.68302838 0.71368559 0.70997013 0.69798357 0.78330844 0.81049291\n",
      " 0.7893764  0.76387229 0.76809186 0.78717326 0.74843167 0.82976102\n",
      " 0.79324122 0.79712472 0.84333458 0.81222928 0.84148618 0.84729276\n",
      " 0.85888723 0.84143017 0.85093353 0.8451643  0.83573562 0.86086632\n",
      " 0.7739171  0.84370799 0.89359597 0.89929052 0.85289395 0.86661688\n",
      " 0.88584765 0.92458925 0.90339806 0.83560493 0.84161688 0.8510829\n",
      " 0.92089246 0.91306945 0.91882001 0.89553771 0.93226288 0.91870799\n",
      " 0.82401046 0.89940254 0.92462659 0.89546303 0.90321135 0.92647498\n",
      " 0.92261016 0.91497386 0.92460792 0.77964899 0.88000373 0.91678491\n",
      " 0.93235624 0.95162435 0.94779686 0.94010456 0.93614638 0.95364078\n",
      " 0.79490291 0.87225541 0.91682226 0.918764   0.92270351 0.92660568\n",
      " 0.91292009 0.93622106 0.93616505 0.84159821 0.8896938  0.93231889\n",
      " 0.94585512 0.93812547 0.92070575 0.93991785 0.96713966 0.95552651\n",
      " 0.85102689 0.85477969 0.86060493 0.91880134 0.90520911 0.92070575\n",
      " 0.92658701 0.93806945 0.94387603 0.84335325 0.85098954 0.91488051\n",
      " 0.8956124  0.9342233  0.95351008 0.91488051 0.95354742 0.94382001\n",
      " 0.79884242 0.89144884 0.88965646 0.92083645 0.91678491 0.90730022\n",
      " 0.92837939 0.94774085 0.94006721 0.78356983 0.8975168  0.91103435\n",
      " 0.95162435 0.90519044 0.91488051 0.93806945 0.94971994 0.93230022\n",
      " 0.79495892 0.9207991  0.89746079 0.91684093 0.91874533 0.92076176\n",
      " 0.92649365 0.92458925 0.94396938 0.82808066 0.87412248 0.8589059\n",
      " 0.95737491 0.88599701 0.94785288 0.93035848 0.93609037 0.94583645\n",
      " 0.82778193 0.8414115  0.90914862 0.93048917 0.94199029 0.92458925\n",
      " 0.92076176 0.9342233  0.94583645 0.78536221 0.87236744 0.88775205\n",
      " 0.92257282 0.90141897 0.93226288 0.91497386 0.95164302 0.93814414\n",
      " 0.77227409 0.85091486 0.92647498 0.90901792 0.92259149 0.94772218\n",
      " 0.93616505 0.96321882 0.94387603 0.84925317 0.88973114 0.87419716\n",
      " 0.92068708 0.90145631 0.94197162 0.9400112  0.93048917 0.95744959\n",
      " 0.83737864 0.87033234 0.90520911 0.92253547 0.91292009 0.94197162\n",
      " 0.93814414 0.93618372 0.92647498 0.82406647 0.92059373 0.88592233\n",
      " 0.90720687 0.92849141 0.91691561 0.94382001 0.93999253 0.94006721\n",
      " 0.78545556 0.88020911 0.89945855 0.9225168  0.90894324 0.90347274\n",
      " 0.910941   0.93814414 0.94576176 0.84146751 0.86473114 0.84703137\n",
      " 0.92841673 0.92458925 0.91687827 0.94583645 0.92458925 0.94775952\n",
      " 0.80080284 0.89557506 0.87231143 0.94581777 0.88973114 0.94193428\n",
      " 0.92649365 0.94199029 0.94775952 0.5901419  0.54017924 0.59977595\n",
      " 0.54385736 0.60748693 0.61723301 0.48752801 0.54889843 0.58991785\n",
      " 0.6209298  0.68668783 0.72369305 0.71019417 0.72117252 0.71775579\n",
      " 0.76010082 0.77559746 0.77165795 0.72946229 0.75257655 0.73325243\n",
      " 0.80246453 0.779705   0.78722928 0.79901046 0.81811053 0.84527633\n",
      " 0.74848768 0.80287528 0.8220127  0.89161688 0.78898432 0.85694548\n",
      " 0.82208738 0.82225541 0.86069828 0.80459298 0.82610157 0.85683346\n",
      " 0.90716953 0.86269604 0.9014003  0.87055639 0.89165422 0.91478715\n",
      " 0.8259522  0.86853996 0.86657954 0.9148245  0.9321882  0.90522778\n",
      " 0.92460792 0.92841673 0.94002987 0.87617625 0.88192681 0.8975168\n",
      " 0.90328603 0.93616505 0.91312547 0.94006721 0.95746826 0.95166169\n",
      " 0.82602689 0.84340926 0.93233757 0.89942121 0.92262883 0.94380134\n",
      " 0.94596714 0.92852875 0.94387603 0.78909634 0.87259149 0.88207618\n",
      " 0.90517177 0.91299477 0.94966393 0.95166169 0.9342233  0.95158701\n",
      " 0.83769604 0.87408514 0.88188947 0.91887603 0.94585512 0.93228155\n",
      " 0.92262883 0.95754294 0.94382001 0.81430172 0.84135549 0.87625093\n",
      " 0.90703883 0.92658701 0.91489918 0.94195295 0.96325616 0.93622106\n",
      " 0.85308066 0.91680358 0.90326736 0.93812547 0.92262883 0.94206497\n",
      " 0.94197162 0.94790889 0.95364078 0.83160941 0.84912248 0.9226475\n",
      " 0.92837939 0.91101568 0.92847274 0.93026512 0.90517177 0.94391337\n",
      " 0.80074683 0.8743652  0.92261016 0.93424197 0.90911128 0.94964526\n",
      " 0.93226288 0.95556385 0.96135176 0.82612024 0.85884989 0.8975168\n",
      " 0.89574309 0.91491785 0.93039582 0.94583645 0.94398805 0.92651232\n",
      " 0.80056012 0.87998506 0.91684093 0.9051531  0.92070575 0.94585512\n",
      " 0.959354   0.94777819 0.95352875 0.84518297 0.89736744 0.89738611\n",
      " 0.93032114 0.91684093 0.94970127 0.91880134 0.93039582 0.93030246\n",
      " 0.85128827 0.89372666 0.87443988 0.94391337 0.92845407 0.94581777\n",
      " 0.93609037 0.94391337 0.96713966 0.81058626 0.870295   0.90524645\n",
      " 0.88771471 0.92849141 0.93993652 0.93612771 0.95744959 0.95552651\n",
      " 0.8026699  0.87632562 0.8993652  0.93806945 0.93814414 0.94775952\n",
      " 0.95552651 0.96904406 0.94779686 0.78747199 0.87630695 0.88973114\n",
      " 0.94387603 0.8954817  0.9554705  0.92849141 0.95351008 0.94971994\n",
      " 0.83356983 0.87025765 0.89353996 0.92473861 0.92849141 0.9400112\n",
      " 0.95550784 0.93237491 0.93412995 0.80244586 0.89372666 0.88013443\n",
      " 0.93612771 0.93039582 0.92451456 0.94200896 0.95743092 0.94977595\n",
      " 0.76803585 0.85677745 0.90119492 0.91872666 0.9496826  0.94983196\n",
      " 0.94193428 0.95365945 0.96517924 0.79103809 0.918764   0.9014003\n",
      " 0.92072442 0.91499253 0.94191561 0.94970127 0.95162435 0.92656833]\n"
     ]
    }
   ],
   "source": [
    "print(grid.cv_results_['mean_test_score'])"
   ]
  },
  {
   "cell_type": "code",
   "execution_count": 21,
   "metadata": {},
   "outputs": [
    {
     "name": "stdout",
     "output_type": "stream",
     "text": [
      "{'criterion': 'entropy', 'max_depth': 20, 'n_estimators': 9}\n"
     ]
    }
   ],
   "source": [
    "print(grid.best_params_)"
   ]
  },
  {
   "cell_type": "code",
   "execution_count": 22,
   "metadata": {},
   "outputs": [],
   "source": [
    "# Zadanie\n",
    "# Proszę pobrać dowolny zbiór danych ze strony https://archive.ics.uci.edu/ml/index.php\n",
    "# Następnie proszę zoptymalizować las metodą Grid Search (trzy parametry modelu mają zostać optymalizowane).\n",
    "# Jakie wartości parametrów są najlepsze i dlaczego?"
   ]
  }
 ],
 "metadata": {
  "kernelspec": {
   "display_name": "Python 3 (ipykernel)",
   "language": "python",
   "name": "python3"
  },
  "language_info": {
   "codemirror_mode": {
    "name": "ipython",
    "version": 3
   },
   "file_extension": ".py",
   "mimetype": "text/x-python",
   "name": "python",
   "nbconvert_exporter": "python",
   "pygments_lexer": "ipython3",
   "version": "3.9.7"
  }
 },
 "nbformat": 4,
 "nbformat_minor": 2
}
