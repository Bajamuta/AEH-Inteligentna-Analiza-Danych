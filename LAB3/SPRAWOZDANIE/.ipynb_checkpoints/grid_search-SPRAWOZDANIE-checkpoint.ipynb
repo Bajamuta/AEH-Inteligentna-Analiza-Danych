{
 "cells": [
  {
   "cell_type": "code",
   "execution_count": 1,
   "metadata": {},
   "outputs": [],
   "source": [
    "import pandas as pd"
   ]
  },
  {
   "cell_type": "code",
   "execution_count": 2,
   "metadata": {},
   "outputs": [
    {
     "name": "stdout",
     "output_type": "stream",
     "text": [
      "   X  Y  temp  RH  wind  rain  area\n",
      "0  7  5   8.2  51   6.7   0.0   0.0\n",
      "1  7  4  18.0  33   0.9   0.0   0.0\n",
      "2  7  4  14.6  33   1.3   0.0   0.0\n",
      "3  8  6   8.3  97   4.0   0.2   0.0\n",
      "4  8  6  11.4  99   1.8   0.0   0.0\n"
     ]
    }
   ],
   "source": [
    "fires_origin = pd.read_csv(\"forestfires.csv\", header=0, index_col=False) \n",
    "d = {\n",
    "    'X': fires_origin['X'].values, \n",
    "    'Y': fires_origin['Y'].values, \n",
    "    'temp': fires_origin['temp'].values,\n",
    "    'RH': fires_origin['RH'].values,\n",
    "    'wind': fires_origin['wind'].values,\n",
    "    'rain': fires_origin['rain'].values,\n",
    "    'area': fires_origin['area'].values\n",
    "}\n",
    "fires = pd.DataFrame(d)\n",
    "print(fires.head())"
   ]
  },
  {
   "cell_type": "code",
   "execution_count": 4,
   "metadata": {},
   "outputs": [],
   "source": [
    "import statistics as stat\n",
    "maximum = max(fires['temp'])\n",
    "minimum = min(fires['temp'])\n",
    "median = stat.median(fires['temp'])\n",
    "diff = round((maximum - median)/4)\n",
    "max_RH = max(fires['RH'])\n",
    "min_RH = min(fires['RH'])\n",
    "median_RH = stat.median(fires['RH'])\n",
    "max_wind= max(fires['wind'])\n",
    "min_wind= min(fires['wind'])\n",
    "median_wind= stat.median(fires['wind'])"
   ]
  },
  {
   "cell_type": "code",
   "execution_count": 5,
   "metadata": {},
   "outputs": [
    {
     "name": "stdout",
     "output_type": "stream",
     "text": [
      "1     1.0\n",
      "2     1.0\n",
      "3     0.0\n",
      "4     0.0\n",
      "5     3.0\n",
      "6     4.0\n",
      "7     0.0\n",
      "8     0.0\n",
      "9     3.0\n",
      "10    1.0\n",
      "11    3.0\n",
      "12    1.0\n",
      "13    1.0\n",
      "14    4.0\n",
      "15    3.0\n",
      "16    2.0\n",
      "17    3.0\n",
      "18    1.0\n",
      "19    0.0\n",
      "Name: temp, dtype: float64\n"
     ]
    }
   ],
   "source": [
    "tp = fires['temp']\n",
    "rh = fires['RH']\n",
    "w = fires['wind']\n",
    "serious = fires['temp'].copy()\n",
    "for i, val in enumerate(fires['temp']):\n",
    "    #print(val, rh[i], serious[i])\n",
    "    if (val >= (median + diff) and rh[i] <= 30 and w[i] >= 3.0):\n",
    "        serious.loc[i] = 4\n",
    "    else:\n",
    "        if (val >= median + diff):\n",
    "            serious.loc[i] = 3\n",
    "        else: \n",
    "            if (val >= (median - diff) and rh[i] <= 50 and w[i] >= 4.0):\n",
    "                serious.loc[i] = 3\n",
    "            else: \n",
    "                if (val >= median - 2*diff and rh[i] <= 50 and w[i] >= 5.0):\n",
    "                    serious.loc[i] = 2\n",
    "                else:\n",
    "                    if (val >= median - 2*diff):\n",
    "                        serious.loc[i] = 1\n",
    "                    else:\n",
    "                        serious.loc[i] = 0\n",
    "print(serious[1:20])"
   ]
  },
  {
   "cell_type": "code",
   "execution_count": 6,
   "metadata": {},
   "outputs": [],
   "source": [
    "x = pd.DataFrame(fires.values[:,0:11], columns =['X','Y','temp', 'RH', 'wind', 'rain', 'area'])\n",
    "y = pd.DataFrame(serious.values, columns =['SERIOUS'])"
   ]
  },
  {
   "cell_type": "code",
   "execution_count": 7,
   "metadata": {},
   "outputs": [
    {
     "name": "stdout",
     "output_type": "stream",
     "text": [
      "(517, 7)\n",
      "(517, 1)\n"
     ]
    }
   ],
   "source": [
    "print(x.shape)\n",
    "print(y.shape)"
   ]
  },
  {
   "cell_type": "code",
   "execution_count": 8,
   "metadata": {},
   "outputs": [
    {
     "name": "stdout",
     "output_type": "stream",
     "text": [
      "     X    Y  temp    RH  wind  rain  area\n",
      "1  7.0  4.0  18.0  33.0   0.9   0.0   0.0\n",
      "2  7.0  4.0  14.6  33.0   1.3   0.0   0.0\n",
      "3  8.0  6.0   8.3  97.0   4.0   0.2   0.0\n",
      "4  8.0  6.0  11.4  99.0   1.8   0.0   0.0\n",
      "   SERIOUS\n",
      "1      1.0\n",
      "2      1.0\n",
      "3      0.0\n",
      "4      0.0\n"
     ]
    }
   ],
   "source": [
    "print(x[1:5])\n",
    "print(y[1:5])"
   ]
  },
  {
   "cell_type": "code",
   "execution_count": 9,
   "metadata": {},
   "outputs": [],
   "source": [
    "# Optymalizacja modelu"
   ]
  },
  {
   "cell_type": "code",
   "execution_count": 19,
   "metadata": {},
   "outputs": [
    {
     "name": "stdout",
     "output_type": "stream",
     "text": [
      "[{'max_depth': 1}, {'max_depth': 2}, {'max_depth': 3}, {'max_depth': 4}, {'max_depth': 5}, {'max_depth': 6}, {'max_depth': 7}, {'max_depth': 8}, {'max_depth': 9}, {'max_depth': 10}, {'max_depth': 11}, {'max_depth': 12}, {'max_depth': 13}, {'max_depth': 14}, {'max_depth': 15}, {'max_depth': 16}, {'max_depth': 17}, {'max_depth': 18}, {'max_depth': 19}, {'max_depth': 20}, {'max_depth': 21}, {'max_depth': 22}, {'max_depth': 23}, {'max_depth': 24}, {'max_depth': 25}]\n",
      "[0.48741598 0.62289022 0.72910754 0.82800597 0.83170276 0.82184466\n",
      " 0.83364451 0.85093353 0.81803585 0.82216206 0.82417849 0.81422704\n",
      " 0.7834578  0.77968633 0.78132935 0.86480583 0.85276326 0.83554892\n",
      " 0.82197535 0.81814787 0.80285661 0.85868185 0.8242345  0.83956311\n",
      " 0.81219193]\n",
      "RandomForestClassifier(max_depth=16, n_estimators=2)\n"
     ]
    }
   ],
   "source": [
    "# Grid Search - jedna zmienna\n",
    "import numpy as np\n",
    "from sklearn.model_selection import GridSearchCV\n",
    "from sklearn.ensemble import RandomForestClassifier\n",
    "max_depth = np.array([1,2,3,4,5,6,7,8,9,10,11,12,13,14,15,16,17,18,19,20,21,22,23,24,25])\n",
    "model = RandomForestClassifier(n_estimators=2)\n",
    "grid = GridSearchCV(estimator=model, param_grid=dict(max_depth=max_depth))\n",
    "grid.fit(x, y.values.ravel())\n",
    "print(grid.cv_results_['params'])\n",
    "print(grid.cv_results_['mean_test_score'])\n",
    "print(grid.best_estimator_)"
   ]
  },
  {
   "cell_type": "code",
   "execution_count": 20,
   "metadata": {},
   "outputs": [
    {
     "name": "stdout",
     "output_type": "stream",
     "text": [
      "[{'max_depth': 1, 'n_estimators': 2}, {'max_depth': 1, 'n_estimators': 3}, {'max_depth': 1, 'n_estimators': 4}, {'max_depth': 1, 'n_estimators': 5}, {'max_depth': 1, 'n_estimators': 6}, {'max_depth': 1, 'n_estimators': 7}, {'max_depth': 1, 'n_estimators': 8}, {'max_depth': 1, 'n_estimators': 9}, {'max_depth': 1, 'n_estimators': 10}, {'max_depth': 2, 'n_estimators': 2}, {'max_depth': 2, 'n_estimators': 3}, {'max_depth': 2, 'n_estimators': 4}, {'max_depth': 2, 'n_estimators': 5}, {'max_depth': 2, 'n_estimators': 6}, {'max_depth': 2, 'n_estimators': 7}, {'max_depth': 2, 'n_estimators': 8}, {'max_depth': 2, 'n_estimators': 9}, {'max_depth': 2, 'n_estimators': 10}, {'max_depth': 3, 'n_estimators': 2}, {'max_depth': 3, 'n_estimators': 3}, {'max_depth': 3, 'n_estimators': 4}, {'max_depth': 3, 'n_estimators': 5}, {'max_depth': 3, 'n_estimators': 6}, {'max_depth': 3, 'n_estimators': 7}, {'max_depth': 3, 'n_estimators': 8}, {'max_depth': 3, 'n_estimators': 9}, {'max_depth': 3, 'n_estimators': 10}, {'max_depth': 4, 'n_estimators': 2}, {'max_depth': 4, 'n_estimators': 3}, {'max_depth': 4, 'n_estimators': 4}, {'max_depth': 4, 'n_estimators': 5}, {'max_depth': 4, 'n_estimators': 6}, {'max_depth': 4, 'n_estimators': 7}, {'max_depth': 4, 'n_estimators': 8}, {'max_depth': 4, 'n_estimators': 9}, {'max_depth': 4, 'n_estimators': 10}, {'max_depth': 5, 'n_estimators': 2}, {'max_depth': 5, 'n_estimators': 3}, {'max_depth': 5, 'n_estimators': 4}, {'max_depth': 5, 'n_estimators': 5}, {'max_depth': 5, 'n_estimators': 6}, {'max_depth': 5, 'n_estimators': 7}, {'max_depth': 5, 'n_estimators': 8}, {'max_depth': 5, 'n_estimators': 9}, {'max_depth': 5, 'n_estimators': 10}, {'max_depth': 6, 'n_estimators': 2}, {'max_depth': 6, 'n_estimators': 3}, {'max_depth': 6, 'n_estimators': 4}, {'max_depth': 6, 'n_estimators': 5}, {'max_depth': 6, 'n_estimators': 6}, {'max_depth': 6, 'n_estimators': 7}, {'max_depth': 6, 'n_estimators': 8}, {'max_depth': 6, 'n_estimators': 9}, {'max_depth': 6, 'n_estimators': 10}, {'max_depth': 7, 'n_estimators': 2}, {'max_depth': 7, 'n_estimators': 3}, {'max_depth': 7, 'n_estimators': 4}, {'max_depth': 7, 'n_estimators': 5}, {'max_depth': 7, 'n_estimators': 6}, {'max_depth': 7, 'n_estimators': 7}, {'max_depth': 7, 'n_estimators': 8}, {'max_depth': 7, 'n_estimators': 9}, {'max_depth': 7, 'n_estimators': 10}, {'max_depth': 8, 'n_estimators': 2}, {'max_depth': 8, 'n_estimators': 3}, {'max_depth': 8, 'n_estimators': 4}, {'max_depth': 8, 'n_estimators': 5}, {'max_depth': 8, 'n_estimators': 6}, {'max_depth': 8, 'n_estimators': 7}, {'max_depth': 8, 'n_estimators': 8}, {'max_depth': 8, 'n_estimators': 9}, {'max_depth': 8, 'n_estimators': 10}, {'max_depth': 9, 'n_estimators': 2}, {'max_depth': 9, 'n_estimators': 3}, {'max_depth': 9, 'n_estimators': 4}, {'max_depth': 9, 'n_estimators': 5}, {'max_depth': 9, 'n_estimators': 6}, {'max_depth': 9, 'n_estimators': 7}, {'max_depth': 9, 'n_estimators': 8}, {'max_depth': 9, 'n_estimators': 9}, {'max_depth': 9, 'n_estimators': 10}, {'max_depth': 10, 'n_estimators': 2}, {'max_depth': 10, 'n_estimators': 3}, {'max_depth': 10, 'n_estimators': 4}, {'max_depth': 10, 'n_estimators': 5}, {'max_depth': 10, 'n_estimators': 6}, {'max_depth': 10, 'n_estimators': 7}, {'max_depth': 10, 'n_estimators': 8}, {'max_depth': 10, 'n_estimators': 9}, {'max_depth': 10, 'n_estimators': 10}, {'max_depth': 11, 'n_estimators': 2}, {'max_depth': 11, 'n_estimators': 3}, {'max_depth': 11, 'n_estimators': 4}, {'max_depth': 11, 'n_estimators': 5}, {'max_depth': 11, 'n_estimators': 6}, {'max_depth': 11, 'n_estimators': 7}, {'max_depth': 11, 'n_estimators': 8}, {'max_depth': 11, 'n_estimators': 9}, {'max_depth': 11, 'n_estimators': 10}, {'max_depth': 12, 'n_estimators': 2}, {'max_depth': 12, 'n_estimators': 3}, {'max_depth': 12, 'n_estimators': 4}, {'max_depth': 12, 'n_estimators': 5}, {'max_depth': 12, 'n_estimators': 6}, {'max_depth': 12, 'n_estimators': 7}, {'max_depth': 12, 'n_estimators': 8}, {'max_depth': 12, 'n_estimators': 9}, {'max_depth': 12, 'n_estimators': 10}, {'max_depth': 13, 'n_estimators': 2}, {'max_depth': 13, 'n_estimators': 3}, {'max_depth': 13, 'n_estimators': 4}, {'max_depth': 13, 'n_estimators': 5}, {'max_depth': 13, 'n_estimators': 6}, {'max_depth': 13, 'n_estimators': 7}, {'max_depth': 13, 'n_estimators': 8}, {'max_depth': 13, 'n_estimators': 9}, {'max_depth': 13, 'n_estimators': 10}, {'max_depth': 14, 'n_estimators': 2}, {'max_depth': 14, 'n_estimators': 3}, {'max_depth': 14, 'n_estimators': 4}, {'max_depth': 14, 'n_estimators': 5}, {'max_depth': 14, 'n_estimators': 6}, {'max_depth': 14, 'n_estimators': 7}, {'max_depth': 14, 'n_estimators': 8}, {'max_depth': 14, 'n_estimators': 9}, {'max_depth': 14, 'n_estimators': 10}, {'max_depth': 15, 'n_estimators': 2}, {'max_depth': 15, 'n_estimators': 3}, {'max_depth': 15, 'n_estimators': 4}, {'max_depth': 15, 'n_estimators': 5}, {'max_depth': 15, 'n_estimators': 6}, {'max_depth': 15, 'n_estimators': 7}, {'max_depth': 15, 'n_estimators': 8}, {'max_depth': 15, 'n_estimators': 9}, {'max_depth': 15, 'n_estimators': 10}, {'max_depth': 16, 'n_estimators': 2}, {'max_depth': 16, 'n_estimators': 3}, {'max_depth': 16, 'n_estimators': 4}, {'max_depth': 16, 'n_estimators': 5}, {'max_depth': 16, 'n_estimators': 6}, {'max_depth': 16, 'n_estimators': 7}, {'max_depth': 16, 'n_estimators': 8}, {'max_depth': 16, 'n_estimators': 9}, {'max_depth': 16, 'n_estimators': 10}, {'max_depth': 17, 'n_estimators': 2}, {'max_depth': 17, 'n_estimators': 3}, {'max_depth': 17, 'n_estimators': 4}, {'max_depth': 17, 'n_estimators': 5}, {'max_depth': 17, 'n_estimators': 6}, {'max_depth': 17, 'n_estimators': 7}, {'max_depth': 17, 'n_estimators': 8}, {'max_depth': 17, 'n_estimators': 9}, {'max_depth': 17, 'n_estimators': 10}, {'max_depth': 18, 'n_estimators': 2}, {'max_depth': 18, 'n_estimators': 3}, {'max_depth': 18, 'n_estimators': 4}, {'max_depth': 18, 'n_estimators': 5}, {'max_depth': 18, 'n_estimators': 6}, {'max_depth': 18, 'n_estimators': 7}, {'max_depth': 18, 'n_estimators': 8}, {'max_depth': 18, 'n_estimators': 9}, {'max_depth': 18, 'n_estimators': 10}, {'max_depth': 19, 'n_estimators': 2}, {'max_depth': 19, 'n_estimators': 3}, {'max_depth': 19, 'n_estimators': 4}, {'max_depth': 19, 'n_estimators': 5}, {'max_depth': 19, 'n_estimators': 6}, {'max_depth': 19, 'n_estimators': 7}, {'max_depth': 19, 'n_estimators': 8}, {'max_depth': 19, 'n_estimators': 9}, {'max_depth': 19, 'n_estimators': 10}, {'max_depth': 20, 'n_estimators': 2}, {'max_depth': 20, 'n_estimators': 3}, {'max_depth': 20, 'n_estimators': 4}, {'max_depth': 20, 'n_estimators': 5}, {'max_depth': 20, 'n_estimators': 6}, {'max_depth': 20, 'n_estimators': 7}, {'max_depth': 20, 'n_estimators': 8}, {'max_depth': 20, 'n_estimators': 9}, {'max_depth': 20, 'n_estimators': 10}, {'max_depth': 21, 'n_estimators': 2}, {'max_depth': 21, 'n_estimators': 3}, {'max_depth': 21, 'n_estimators': 4}, {'max_depth': 21, 'n_estimators': 5}, {'max_depth': 21, 'n_estimators': 6}, {'max_depth': 21, 'n_estimators': 7}, {'max_depth': 21, 'n_estimators': 8}, {'max_depth': 21, 'n_estimators': 9}, {'max_depth': 21, 'n_estimators': 10}, {'max_depth': 22, 'n_estimators': 2}, {'max_depth': 22, 'n_estimators': 3}, {'max_depth': 22, 'n_estimators': 4}, {'max_depth': 22, 'n_estimators': 5}, {'max_depth': 22, 'n_estimators': 6}, {'max_depth': 22, 'n_estimators': 7}, {'max_depth': 22, 'n_estimators': 8}, {'max_depth': 22, 'n_estimators': 9}, {'max_depth': 22, 'n_estimators': 10}, {'max_depth': 23, 'n_estimators': 2}, {'max_depth': 23, 'n_estimators': 3}, {'max_depth': 23, 'n_estimators': 4}, {'max_depth': 23, 'n_estimators': 5}, {'max_depth': 23, 'n_estimators': 6}, {'max_depth': 23, 'n_estimators': 7}, {'max_depth': 23, 'n_estimators': 8}, {'max_depth': 23, 'n_estimators': 9}, {'max_depth': 23, 'n_estimators': 10}, {'max_depth': 24, 'n_estimators': 2}, {'max_depth': 24, 'n_estimators': 3}, {'max_depth': 24, 'n_estimators': 4}, {'max_depth': 24, 'n_estimators': 5}, {'max_depth': 24, 'n_estimators': 6}, {'max_depth': 24, 'n_estimators': 7}, {'max_depth': 24, 'n_estimators': 8}, {'max_depth': 24, 'n_estimators': 9}, {'max_depth': 24, 'n_estimators': 10}, {'max_depth': 25, 'n_estimators': 2}, {'max_depth': 25, 'n_estimators': 3}, {'max_depth': 25, 'n_estimators': 4}, {'max_depth': 25, 'n_estimators': 5}, {'max_depth': 25, 'n_estimators': 6}, {'max_depth': 25, 'n_estimators': 7}, {'max_depth': 25, 'n_estimators': 8}, {'max_depth': 25, 'n_estimators': 9}, {'max_depth': 25, 'n_estimators': 10}]\n"
     ]
    }
   ],
   "source": [
    "# Grid Search - dwie zmienne\n",
    "max_depth = np.array([1,2,3,4,5,6,7,8,9,10,11,12,13,14,15,16,17,18,19,20,21,22,23,24,25])\n",
    "n_estimators = np.array([2,3,4,5,6,7,8,9,10])\n",
    "model = RandomForestClassifier()\n",
    "grid = GridSearchCV(estimator=model, param_grid=dict(n_estimators=n_estimators, max_depth=max_depth))\n",
    "grid.fit(x, y.values.ravel())\n",
    "print(grid.cv_results_['params'])"
   ]
  },
  {
   "cell_type": "code",
   "execution_count": 21,
   "metadata": {},
   "outputs": [
    {
     "name": "stdout",
     "output_type": "stream",
     "text": [
      "[0.54947722 0.56523525 0.65739358 0.60715086 0.61530993 0.5845407\n",
      " 0.59729276 0.61689694 0.63231889 0.6942121  0.67539208 0.73911501\n",
      " 0.71969754 0.71542196 0.7096714  0.8182599  0.71557132 0.74660194\n",
      " 0.6811053  0.79695668 0.79705004 0.8201643  0.8007655  0.82806199\n",
      " 0.83948842 0.81616878 0.83375653 0.6829537  0.72933159 0.77957431\n",
      " 0.81446975 0.83581031 0.86267737 0.8509522  0.87240478 0.84533234\n",
      " 0.77389843 0.81644884 0.85481703 0.88769604 0.90326736 0.845295\n",
      " 0.91299477 0.89947722 0.90526512 0.8568708  0.86850261 0.89746079\n",
      " 0.91112771 0.9014003  0.89759149 0.91101568 0.90711352 0.92460792\n",
      " 0.83166542 0.87417849 0.90321135 0.89557506 0.92654966 0.91680358\n",
      " 0.93806945 0.93039582 0.93616505 0.83377521 0.88394324 0.90507842\n",
      " 0.89559373 0.93806945 0.92662435 0.92656833 0.94191561 0.91887603\n",
      " 0.87231143 0.86465646 0.90911128 0.9225168  0.94195295 0.94012323\n",
      " 0.93821882 0.91489918 0.94200896 0.84156087 0.90520911 0.88597834\n",
      " 0.93805078 0.93622106 0.92068708 0.93033981 0.93812547 0.9381068\n",
      " 0.78351382 0.88782674 0.9012696  0.9129761  0.90912995 0.92462659\n",
      " 0.9496826  0.95166169 0.95156833 0.82587752 0.85492905 0.9284354\n",
      " 0.93424197 0.92445855 0.92460792 0.95351008 0.9457991  0.94977595\n",
      " 0.80843913 0.853118   0.88220687 0.91493652 0.91491785 0.93429798\n",
      " 0.94004854 0.92653099 0.93812547 0.84714339 0.85692681 0.88788275\n",
      " 0.89374533 0.91103435 0.90724421 0.94195295 0.95168036 0.95356609\n",
      " 0.79499627 0.9148245  0.88790142 0.89945855 0.93616505 0.92266617\n",
      " 0.92656833 0.94199029 0.93614638 0.82597087 0.84331591 0.89169156\n",
      " 0.91680358 0.90912995 0.91867065 0.93614638 0.93024645 0.94391337\n",
      " 0.83181479 0.86254668 0.90914862 0.87421583 0.92447722 0.93424197\n",
      " 0.93414862 0.93622106 0.91099701 0.77942494 0.94578043 0.885941\n",
      " 0.91489918 0.92847274 0.91676624 0.93427931 0.95933532 0.93024645\n",
      " 0.8164115  0.90123226 0.9168596  0.9071882  0.94004854 0.92072442\n",
      " 0.93035848 0.94002987 0.94578043 0.83758402 0.87427184 0.89557506\n",
      " 0.91682226 0.94382001 0.94002987 0.92272218 0.94191561 0.95162435\n",
      " 0.80640403 0.88019044 0.91101568 0.93424197 0.92451456 0.9342233\n",
      " 0.94197162 0.93808813 0.94966393 0.79316654 0.83735997 0.90709485\n",
      " 0.91872666 0.90709485 0.92828603 0.93035848 0.91882001 0.94197162\n",
      " 0.81629948 0.88775205 0.90522778 0.9226475  0.90920463 0.91295743\n",
      " 0.95560119 0.94199029 0.94578043 0.80449963 0.87625093 0.89938387\n",
      " 0.94004854 0.93993652 0.94004854 0.93609037 0.94589246 0.94195295\n",
      " 0.79124347 0.91110904 0.87804332 0.93616505 0.90141897 0.92462659\n",
      " 0.93814414 0.96123973 0.94962659]\n"
     ]
    }
   ],
   "source": [
    "print(grid.cv_results_['mean_test_score'])"
   ]
  },
  {
   "cell_type": "code",
   "execution_count": 22,
   "metadata": {},
   "outputs": [
    {
     "name": "stdout",
     "output_type": "stream",
     "text": [
      "RandomForestClassifier(max_depth=25, n_estimators=9)\n"
     ]
    }
   ],
   "source": [
    "print(grid.best_estimator_)"
   ]
  },
  {
   "cell_type": "code",
   "execution_count": 24,
   "metadata": {},
   "outputs": [
    {
     "name": "stdout",
     "output_type": "stream",
     "text": [
      "[{'criterion': 'gini', 'max_depth': 1, 'n_estimators': 2}, {'criterion': 'gini', 'max_depth': 1, 'n_estimators': 3}, {'criterion': 'gini', 'max_depth': 1, 'n_estimators': 4}, {'criterion': 'gini', 'max_depth': 1, 'n_estimators': 5}, {'criterion': 'gini', 'max_depth': 1, 'n_estimators': 6}, {'criterion': 'gini', 'max_depth': 1, 'n_estimators': 7}, {'criterion': 'gini', 'max_depth': 1, 'n_estimators': 8}, {'criterion': 'gini', 'max_depth': 1, 'n_estimators': 9}, {'criterion': 'gini', 'max_depth': 1, 'n_estimators': 10}, {'criterion': 'gini', 'max_depth': 2, 'n_estimators': 2}, {'criterion': 'gini', 'max_depth': 2, 'n_estimators': 3}, {'criterion': 'gini', 'max_depth': 2, 'n_estimators': 4}, {'criterion': 'gini', 'max_depth': 2, 'n_estimators': 5}, {'criterion': 'gini', 'max_depth': 2, 'n_estimators': 6}, {'criterion': 'gini', 'max_depth': 2, 'n_estimators': 7}, {'criterion': 'gini', 'max_depth': 2, 'n_estimators': 8}, {'criterion': 'gini', 'max_depth': 2, 'n_estimators': 9}, {'criterion': 'gini', 'max_depth': 2, 'n_estimators': 10}, {'criterion': 'gini', 'max_depth': 3, 'n_estimators': 2}, {'criterion': 'gini', 'max_depth': 3, 'n_estimators': 3}, {'criterion': 'gini', 'max_depth': 3, 'n_estimators': 4}, {'criterion': 'gini', 'max_depth': 3, 'n_estimators': 5}, {'criterion': 'gini', 'max_depth': 3, 'n_estimators': 6}, {'criterion': 'gini', 'max_depth': 3, 'n_estimators': 7}, {'criterion': 'gini', 'max_depth': 3, 'n_estimators': 8}, {'criterion': 'gini', 'max_depth': 3, 'n_estimators': 9}, {'criterion': 'gini', 'max_depth': 3, 'n_estimators': 10}, {'criterion': 'gini', 'max_depth': 4, 'n_estimators': 2}, {'criterion': 'gini', 'max_depth': 4, 'n_estimators': 3}, {'criterion': 'gini', 'max_depth': 4, 'n_estimators': 4}, {'criterion': 'gini', 'max_depth': 4, 'n_estimators': 5}, {'criterion': 'gini', 'max_depth': 4, 'n_estimators': 6}, {'criterion': 'gini', 'max_depth': 4, 'n_estimators': 7}, {'criterion': 'gini', 'max_depth': 4, 'n_estimators': 8}, {'criterion': 'gini', 'max_depth': 4, 'n_estimators': 9}, {'criterion': 'gini', 'max_depth': 4, 'n_estimators': 10}, {'criterion': 'gini', 'max_depth': 5, 'n_estimators': 2}, {'criterion': 'gini', 'max_depth': 5, 'n_estimators': 3}, {'criterion': 'gini', 'max_depth': 5, 'n_estimators': 4}, {'criterion': 'gini', 'max_depth': 5, 'n_estimators': 5}, {'criterion': 'gini', 'max_depth': 5, 'n_estimators': 6}, {'criterion': 'gini', 'max_depth': 5, 'n_estimators': 7}, {'criterion': 'gini', 'max_depth': 5, 'n_estimators': 8}, {'criterion': 'gini', 'max_depth': 5, 'n_estimators': 9}, {'criterion': 'gini', 'max_depth': 5, 'n_estimators': 10}, {'criterion': 'gini', 'max_depth': 6, 'n_estimators': 2}, {'criterion': 'gini', 'max_depth': 6, 'n_estimators': 3}, {'criterion': 'gini', 'max_depth': 6, 'n_estimators': 4}, {'criterion': 'gini', 'max_depth': 6, 'n_estimators': 5}, {'criterion': 'gini', 'max_depth': 6, 'n_estimators': 6}, {'criterion': 'gini', 'max_depth': 6, 'n_estimators': 7}, {'criterion': 'gini', 'max_depth': 6, 'n_estimators': 8}, {'criterion': 'gini', 'max_depth': 6, 'n_estimators': 9}, {'criterion': 'gini', 'max_depth': 6, 'n_estimators': 10}, {'criterion': 'gini', 'max_depth': 7, 'n_estimators': 2}, {'criterion': 'gini', 'max_depth': 7, 'n_estimators': 3}, {'criterion': 'gini', 'max_depth': 7, 'n_estimators': 4}, {'criterion': 'gini', 'max_depth': 7, 'n_estimators': 5}, {'criterion': 'gini', 'max_depth': 7, 'n_estimators': 6}, {'criterion': 'gini', 'max_depth': 7, 'n_estimators': 7}, {'criterion': 'gini', 'max_depth': 7, 'n_estimators': 8}, {'criterion': 'gini', 'max_depth': 7, 'n_estimators': 9}, {'criterion': 'gini', 'max_depth': 7, 'n_estimators': 10}, {'criterion': 'gini', 'max_depth': 8, 'n_estimators': 2}, {'criterion': 'gini', 'max_depth': 8, 'n_estimators': 3}, {'criterion': 'gini', 'max_depth': 8, 'n_estimators': 4}, {'criterion': 'gini', 'max_depth': 8, 'n_estimators': 5}, {'criterion': 'gini', 'max_depth': 8, 'n_estimators': 6}, {'criterion': 'gini', 'max_depth': 8, 'n_estimators': 7}, {'criterion': 'gini', 'max_depth': 8, 'n_estimators': 8}, {'criterion': 'gini', 'max_depth': 8, 'n_estimators': 9}, {'criterion': 'gini', 'max_depth': 8, 'n_estimators': 10}, {'criterion': 'gini', 'max_depth': 9, 'n_estimators': 2}, {'criterion': 'gini', 'max_depth': 9, 'n_estimators': 3}, {'criterion': 'gini', 'max_depth': 9, 'n_estimators': 4}, {'criterion': 'gini', 'max_depth': 9, 'n_estimators': 5}, {'criterion': 'gini', 'max_depth': 9, 'n_estimators': 6}, {'criterion': 'gini', 'max_depth': 9, 'n_estimators': 7}, {'criterion': 'gini', 'max_depth': 9, 'n_estimators': 8}, {'criterion': 'gini', 'max_depth': 9, 'n_estimators': 9}, {'criterion': 'gini', 'max_depth': 9, 'n_estimators': 10}, {'criterion': 'gini', 'max_depth': 10, 'n_estimators': 2}, {'criterion': 'gini', 'max_depth': 10, 'n_estimators': 3}, {'criterion': 'gini', 'max_depth': 10, 'n_estimators': 4}, {'criterion': 'gini', 'max_depth': 10, 'n_estimators': 5}, {'criterion': 'gini', 'max_depth': 10, 'n_estimators': 6}, {'criterion': 'gini', 'max_depth': 10, 'n_estimators': 7}, {'criterion': 'gini', 'max_depth': 10, 'n_estimators': 8}, {'criterion': 'gini', 'max_depth': 10, 'n_estimators': 9}, {'criterion': 'gini', 'max_depth': 10, 'n_estimators': 10}, {'criterion': 'gini', 'max_depth': 11, 'n_estimators': 2}, {'criterion': 'gini', 'max_depth': 11, 'n_estimators': 3}, {'criterion': 'gini', 'max_depth': 11, 'n_estimators': 4}, {'criterion': 'gini', 'max_depth': 11, 'n_estimators': 5}, {'criterion': 'gini', 'max_depth': 11, 'n_estimators': 6}, {'criterion': 'gini', 'max_depth': 11, 'n_estimators': 7}, {'criterion': 'gini', 'max_depth': 11, 'n_estimators': 8}, {'criterion': 'gini', 'max_depth': 11, 'n_estimators': 9}, {'criterion': 'gini', 'max_depth': 11, 'n_estimators': 10}, {'criterion': 'gini', 'max_depth': 12, 'n_estimators': 2}, {'criterion': 'gini', 'max_depth': 12, 'n_estimators': 3}, {'criterion': 'gini', 'max_depth': 12, 'n_estimators': 4}, {'criterion': 'gini', 'max_depth': 12, 'n_estimators': 5}, {'criterion': 'gini', 'max_depth': 12, 'n_estimators': 6}, {'criterion': 'gini', 'max_depth': 12, 'n_estimators': 7}, {'criterion': 'gini', 'max_depth': 12, 'n_estimators': 8}, {'criterion': 'gini', 'max_depth': 12, 'n_estimators': 9}, {'criterion': 'gini', 'max_depth': 12, 'n_estimators': 10}, {'criterion': 'gini', 'max_depth': 13, 'n_estimators': 2}, {'criterion': 'gini', 'max_depth': 13, 'n_estimators': 3}, {'criterion': 'gini', 'max_depth': 13, 'n_estimators': 4}, {'criterion': 'gini', 'max_depth': 13, 'n_estimators': 5}, {'criterion': 'gini', 'max_depth': 13, 'n_estimators': 6}, {'criterion': 'gini', 'max_depth': 13, 'n_estimators': 7}, {'criterion': 'gini', 'max_depth': 13, 'n_estimators': 8}, {'criterion': 'gini', 'max_depth': 13, 'n_estimators': 9}, {'criterion': 'gini', 'max_depth': 13, 'n_estimators': 10}, {'criterion': 'gini', 'max_depth': 14, 'n_estimators': 2}, {'criterion': 'gini', 'max_depth': 14, 'n_estimators': 3}, {'criterion': 'gini', 'max_depth': 14, 'n_estimators': 4}, {'criterion': 'gini', 'max_depth': 14, 'n_estimators': 5}, {'criterion': 'gini', 'max_depth': 14, 'n_estimators': 6}, {'criterion': 'gini', 'max_depth': 14, 'n_estimators': 7}, {'criterion': 'gini', 'max_depth': 14, 'n_estimators': 8}, {'criterion': 'gini', 'max_depth': 14, 'n_estimators': 9}, {'criterion': 'gini', 'max_depth': 14, 'n_estimators': 10}, {'criterion': 'gini', 'max_depth': 15, 'n_estimators': 2}, {'criterion': 'gini', 'max_depth': 15, 'n_estimators': 3}, {'criterion': 'gini', 'max_depth': 15, 'n_estimators': 4}, {'criterion': 'gini', 'max_depth': 15, 'n_estimators': 5}, {'criterion': 'gini', 'max_depth': 15, 'n_estimators': 6}, {'criterion': 'gini', 'max_depth': 15, 'n_estimators': 7}, {'criterion': 'gini', 'max_depth': 15, 'n_estimators': 8}, {'criterion': 'gini', 'max_depth': 15, 'n_estimators': 9}, {'criterion': 'gini', 'max_depth': 15, 'n_estimators': 10}, {'criterion': 'gini', 'max_depth': 16, 'n_estimators': 2}, {'criterion': 'gini', 'max_depth': 16, 'n_estimators': 3}, {'criterion': 'gini', 'max_depth': 16, 'n_estimators': 4}, {'criterion': 'gini', 'max_depth': 16, 'n_estimators': 5}, {'criterion': 'gini', 'max_depth': 16, 'n_estimators': 6}, {'criterion': 'gini', 'max_depth': 16, 'n_estimators': 7}, {'criterion': 'gini', 'max_depth': 16, 'n_estimators': 8}, {'criterion': 'gini', 'max_depth': 16, 'n_estimators': 9}, {'criterion': 'gini', 'max_depth': 16, 'n_estimators': 10}, {'criterion': 'gini', 'max_depth': 17, 'n_estimators': 2}, {'criterion': 'gini', 'max_depth': 17, 'n_estimators': 3}, {'criterion': 'gini', 'max_depth': 17, 'n_estimators': 4}, {'criterion': 'gini', 'max_depth': 17, 'n_estimators': 5}, {'criterion': 'gini', 'max_depth': 17, 'n_estimators': 6}, {'criterion': 'gini', 'max_depth': 17, 'n_estimators': 7}, {'criterion': 'gini', 'max_depth': 17, 'n_estimators': 8}, {'criterion': 'gini', 'max_depth': 17, 'n_estimators': 9}, {'criterion': 'gini', 'max_depth': 17, 'n_estimators': 10}, {'criterion': 'gini', 'max_depth': 18, 'n_estimators': 2}, {'criterion': 'gini', 'max_depth': 18, 'n_estimators': 3}, {'criterion': 'gini', 'max_depth': 18, 'n_estimators': 4}, {'criterion': 'gini', 'max_depth': 18, 'n_estimators': 5}, {'criterion': 'gini', 'max_depth': 18, 'n_estimators': 6}, {'criterion': 'gini', 'max_depth': 18, 'n_estimators': 7}, {'criterion': 'gini', 'max_depth': 18, 'n_estimators': 8}, {'criterion': 'gini', 'max_depth': 18, 'n_estimators': 9}, {'criterion': 'gini', 'max_depth': 18, 'n_estimators': 10}, {'criterion': 'gini', 'max_depth': 19, 'n_estimators': 2}, {'criterion': 'gini', 'max_depth': 19, 'n_estimators': 3}, {'criterion': 'gini', 'max_depth': 19, 'n_estimators': 4}, {'criterion': 'gini', 'max_depth': 19, 'n_estimators': 5}, {'criterion': 'gini', 'max_depth': 19, 'n_estimators': 6}, {'criterion': 'gini', 'max_depth': 19, 'n_estimators': 7}, {'criterion': 'gini', 'max_depth': 19, 'n_estimators': 8}, {'criterion': 'gini', 'max_depth': 19, 'n_estimators': 9}, {'criterion': 'gini', 'max_depth': 19, 'n_estimators': 10}, {'criterion': 'gini', 'max_depth': 20, 'n_estimators': 2}, {'criterion': 'gini', 'max_depth': 20, 'n_estimators': 3}, {'criterion': 'gini', 'max_depth': 20, 'n_estimators': 4}, {'criterion': 'gini', 'max_depth': 20, 'n_estimators': 5}, {'criterion': 'gini', 'max_depth': 20, 'n_estimators': 6}, {'criterion': 'gini', 'max_depth': 20, 'n_estimators': 7}, {'criterion': 'gini', 'max_depth': 20, 'n_estimators': 8}, {'criterion': 'gini', 'max_depth': 20, 'n_estimators': 9}, {'criterion': 'gini', 'max_depth': 20, 'n_estimators': 10}, {'criterion': 'gini', 'max_depth': 21, 'n_estimators': 2}, {'criterion': 'gini', 'max_depth': 21, 'n_estimators': 3}, {'criterion': 'gini', 'max_depth': 21, 'n_estimators': 4}, {'criterion': 'gini', 'max_depth': 21, 'n_estimators': 5}, {'criterion': 'gini', 'max_depth': 21, 'n_estimators': 6}, {'criterion': 'gini', 'max_depth': 21, 'n_estimators': 7}, {'criterion': 'gini', 'max_depth': 21, 'n_estimators': 8}, {'criterion': 'gini', 'max_depth': 21, 'n_estimators': 9}, {'criterion': 'gini', 'max_depth': 21, 'n_estimators': 10}, {'criterion': 'gini', 'max_depth': 22, 'n_estimators': 2}, {'criterion': 'gini', 'max_depth': 22, 'n_estimators': 3}, {'criterion': 'gini', 'max_depth': 22, 'n_estimators': 4}, {'criterion': 'gini', 'max_depth': 22, 'n_estimators': 5}, {'criterion': 'gini', 'max_depth': 22, 'n_estimators': 6}, {'criterion': 'gini', 'max_depth': 22, 'n_estimators': 7}, {'criterion': 'gini', 'max_depth': 22, 'n_estimators': 8}, {'criterion': 'gini', 'max_depth': 22, 'n_estimators': 9}, {'criterion': 'gini', 'max_depth': 22, 'n_estimators': 10}, {'criterion': 'gini', 'max_depth': 23, 'n_estimators': 2}, {'criterion': 'gini', 'max_depth': 23, 'n_estimators': 3}, {'criterion': 'gini', 'max_depth': 23, 'n_estimators': 4}, {'criterion': 'gini', 'max_depth': 23, 'n_estimators': 5}, {'criterion': 'gini', 'max_depth': 23, 'n_estimators': 6}, {'criterion': 'gini', 'max_depth': 23, 'n_estimators': 7}, {'criterion': 'gini', 'max_depth': 23, 'n_estimators': 8}, {'criterion': 'gini', 'max_depth': 23, 'n_estimators': 9}, {'criterion': 'gini', 'max_depth': 23, 'n_estimators': 10}, {'criterion': 'gini', 'max_depth': 24, 'n_estimators': 2}, {'criterion': 'gini', 'max_depth': 24, 'n_estimators': 3}, {'criterion': 'gini', 'max_depth': 24, 'n_estimators': 4}, {'criterion': 'gini', 'max_depth': 24, 'n_estimators': 5}, {'criterion': 'gini', 'max_depth': 24, 'n_estimators': 6}, {'criterion': 'gini', 'max_depth': 24, 'n_estimators': 7}, {'criterion': 'gini', 'max_depth': 24, 'n_estimators': 8}, {'criterion': 'gini', 'max_depth': 24, 'n_estimators': 9}, {'criterion': 'gini', 'max_depth': 24, 'n_estimators': 10}, {'criterion': 'gini', 'max_depth': 25, 'n_estimators': 2}, {'criterion': 'gini', 'max_depth': 25, 'n_estimators': 3}, {'criterion': 'gini', 'max_depth': 25, 'n_estimators': 4}, {'criterion': 'gini', 'max_depth': 25, 'n_estimators': 5}, {'criterion': 'gini', 'max_depth': 25, 'n_estimators': 6}, {'criterion': 'gini', 'max_depth': 25, 'n_estimators': 7}, {'criterion': 'gini', 'max_depth': 25, 'n_estimators': 8}, {'criterion': 'gini', 'max_depth': 25, 'n_estimators': 9}, {'criterion': 'gini', 'max_depth': 25, 'n_estimators': 10}, {'criterion': 'entropy', 'max_depth': 1, 'n_estimators': 2}, {'criterion': 'entropy', 'max_depth': 1, 'n_estimators': 3}, {'criterion': 'entropy', 'max_depth': 1, 'n_estimators': 4}, {'criterion': 'entropy', 'max_depth': 1, 'n_estimators': 5}, {'criterion': 'entropy', 'max_depth': 1, 'n_estimators': 6}, {'criterion': 'entropy', 'max_depth': 1, 'n_estimators': 7}, {'criterion': 'entropy', 'max_depth': 1, 'n_estimators': 8}, {'criterion': 'entropy', 'max_depth': 1, 'n_estimators': 9}, {'criterion': 'entropy', 'max_depth': 1, 'n_estimators': 10}, {'criterion': 'entropy', 'max_depth': 2, 'n_estimators': 2}, {'criterion': 'entropy', 'max_depth': 2, 'n_estimators': 3}, {'criterion': 'entropy', 'max_depth': 2, 'n_estimators': 4}, {'criterion': 'entropy', 'max_depth': 2, 'n_estimators': 5}, {'criterion': 'entropy', 'max_depth': 2, 'n_estimators': 6}, {'criterion': 'entropy', 'max_depth': 2, 'n_estimators': 7}, {'criterion': 'entropy', 'max_depth': 2, 'n_estimators': 8}, {'criterion': 'entropy', 'max_depth': 2, 'n_estimators': 9}, {'criterion': 'entropy', 'max_depth': 2, 'n_estimators': 10}, {'criterion': 'entropy', 'max_depth': 3, 'n_estimators': 2}, {'criterion': 'entropy', 'max_depth': 3, 'n_estimators': 3}, {'criterion': 'entropy', 'max_depth': 3, 'n_estimators': 4}, {'criterion': 'entropy', 'max_depth': 3, 'n_estimators': 5}, {'criterion': 'entropy', 'max_depth': 3, 'n_estimators': 6}, {'criterion': 'entropy', 'max_depth': 3, 'n_estimators': 7}, {'criterion': 'entropy', 'max_depth': 3, 'n_estimators': 8}, {'criterion': 'entropy', 'max_depth': 3, 'n_estimators': 9}, {'criterion': 'entropy', 'max_depth': 3, 'n_estimators': 10}, {'criterion': 'entropy', 'max_depth': 4, 'n_estimators': 2}, {'criterion': 'entropy', 'max_depth': 4, 'n_estimators': 3}, {'criterion': 'entropy', 'max_depth': 4, 'n_estimators': 4}, {'criterion': 'entropy', 'max_depth': 4, 'n_estimators': 5}, {'criterion': 'entropy', 'max_depth': 4, 'n_estimators': 6}, {'criterion': 'entropy', 'max_depth': 4, 'n_estimators': 7}, {'criterion': 'entropy', 'max_depth': 4, 'n_estimators': 8}, {'criterion': 'entropy', 'max_depth': 4, 'n_estimators': 9}, {'criterion': 'entropy', 'max_depth': 4, 'n_estimators': 10}, {'criterion': 'entropy', 'max_depth': 5, 'n_estimators': 2}, {'criterion': 'entropy', 'max_depth': 5, 'n_estimators': 3}, {'criterion': 'entropy', 'max_depth': 5, 'n_estimators': 4}, {'criterion': 'entropy', 'max_depth': 5, 'n_estimators': 5}, {'criterion': 'entropy', 'max_depth': 5, 'n_estimators': 6}, {'criterion': 'entropy', 'max_depth': 5, 'n_estimators': 7}, {'criterion': 'entropy', 'max_depth': 5, 'n_estimators': 8}, {'criterion': 'entropy', 'max_depth': 5, 'n_estimators': 9}, {'criterion': 'entropy', 'max_depth': 5, 'n_estimators': 10}, {'criterion': 'entropy', 'max_depth': 6, 'n_estimators': 2}, {'criterion': 'entropy', 'max_depth': 6, 'n_estimators': 3}, {'criterion': 'entropy', 'max_depth': 6, 'n_estimators': 4}, {'criterion': 'entropy', 'max_depth': 6, 'n_estimators': 5}, {'criterion': 'entropy', 'max_depth': 6, 'n_estimators': 6}, {'criterion': 'entropy', 'max_depth': 6, 'n_estimators': 7}, {'criterion': 'entropy', 'max_depth': 6, 'n_estimators': 8}, {'criterion': 'entropy', 'max_depth': 6, 'n_estimators': 9}, {'criterion': 'entropy', 'max_depth': 6, 'n_estimators': 10}, {'criterion': 'entropy', 'max_depth': 7, 'n_estimators': 2}, {'criterion': 'entropy', 'max_depth': 7, 'n_estimators': 3}, {'criterion': 'entropy', 'max_depth': 7, 'n_estimators': 4}, {'criterion': 'entropy', 'max_depth': 7, 'n_estimators': 5}, {'criterion': 'entropy', 'max_depth': 7, 'n_estimators': 6}, {'criterion': 'entropy', 'max_depth': 7, 'n_estimators': 7}, {'criterion': 'entropy', 'max_depth': 7, 'n_estimators': 8}, {'criterion': 'entropy', 'max_depth': 7, 'n_estimators': 9}, {'criterion': 'entropy', 'max_depth': 7, 'n_estimators': 10}, {'criterion': 'entropy', 'max_depth': 8, 'n_estimators': 2}, {'criterion': 'entropy', 'max_depth': 8, 'n_estimators': 3}, {'criterion': 'entropy', 'max_depth': 8, 'n_estimators': 4}, {'criterion': 'entropy', 'max_depth': 8, 'n_estimators': 5}, {'criterion': 'entropy', 'max_depth': 8, 'n_estimators': 6}, {'criterion': 'entropy', 'max_depth': 8, 'n_estimators': 7}, {'criterion': 'entropy', 'max_depth': 8, 'n_estimators': 8}, {'criterion': 'entropy', 'max_depth': 8, 'n_estimators': 9}, {'criterion': 'entropy', 'max_depth': 8, 'n_estimators': 10}, {'criterion': 'entropy', 'max_depth': 9, 'n_estimators': 2}, {'criterion': 'entropy', 'max_depth': 9, 'n_estimators': 3}, {'criterion': 'entropy', 'max_depth': 9, 'n_estimators': 4}, {'criterion': 'entropy', 'max_depth': 9, 'n_estimators': 5}, {'criterion': 'entropy', 'max_depth': 9, 'n_estimators': 6}, {'criterion': 'entropy', 'max_depth': 9, 'n_estimators': 7}, {'criterion': 'entropy', 'max_depth': 9, 'n_estimators': 8}, {'criterion': 'entropy', 'max_depth': 9, 'n_estimators': 9}, {'criterion': 'entropy', 'max_depth': 9, 'n_estimators': 10}, {'criterion': 'entropy', 'max_depth': 10, 'n_estimators': 2}, {'criterion': 'entropy', 'max_depth': 10, 'n_estimators': 3}, {'criterion': 'entropy', 'max_depth': 10, 'n_estimators': 4}, {'criterion': 'entropy', 'max_depth': 10, 'n_estimators': 5}, {'criterion': 'entropy', 'max_depth': 10, 'n_estimators': 6}, {'criterion': 'entropy', 'max_depth': 10, 'n_estimators': 7}, {'criterion': 'entropy', 'max_depth': 10, 'n_estimators': 8}, {'criterion': 'entropy', 'max_depth': 10, 'n_estimators': 9}, {'criterion': 'entropy', 'max_depth': 10, 'n_estimators': 10}, {'criterion': 'entropy', 'max_depth': 11, 'n_estimators': 2}, {'criterion': 'entropy', 'max_depth': 11, 'n_estimators': 3}, {'criterion': 'entropy', 'max_depth': 11, 'n_estimators': 4}, {'criterion': 'entropy', 'max_depth': 11, 'n_estimators': 5}, {'criterion': 'entropy', 'max_depth': 11, 'n_estimators': 6}, {'criterion': 'entropy', 'max_depth': 11, 'n_estimators': 7}, {'criterion': 'entropy', 'max_depth': 11, 'n_estimators': 8}, {'criterion': 'entropy', 'max_depth': 11, 'n_estimators': 9}, {'criterion': 'entropy', 'max_depth': 11, 'n_estimators': 10}, {'criterion': 'entropy', 'max_depth': 12, 'n_estimators': 2}, {'criterion': 'entropy', 'max_depth': 12, 'n_estimators': 3}, {'criterion': 'entropy', 'max_depth': 12, 'n_estimators': 4}, {'criterion': 'entropy', 'max_depth': 12, 'n_estimators': 5}, {'criterion': 'entropy', 'max_depth': 12, 'n_estimators': 6}, {'criterion': 'entropy', 'max_depth': 12, 'n_estimators': 7}, {'criterion': 'entropy', 'max_depth': 12, 'n_estimators': 8}, {'criterion': 'entropy', 'max_depth': 12, 'n_estimators': 9}, {'criterion': 'entropy', 'max_depth': 12, 'n_estimators': 10}, {'criterion': 'entropy', 'max_depth': 13, 'n_estimators': 2}, {'criterion': 'entropy', 'max_depth': 13, 'n_estimators': 3}, {'criterion': 'entropy', 'max_depth': 13, 'n_estimators': 4}, {'criterion': 'entropy', 'max_depth': 13, 'n_estimators': 5}, {'criterion': 'entropy', 'max_depth': 13, 'n_estimators': 6}, {'criterion': 'entropy', 'max_depth': 13, 'n_estimators': 7}, {'criterion': 'entropy', 'max_depth': 13, 'n_estimators': 8}, {'criterion': 'entropy', 'max_depth': 13, 'n_estimators': 9}, {'criterion': 'entropy', 'max_depth': 13, 'n_estimators': 10}, {'criterion': 'entropy', 'max_depth': 14, 'n_estimators': 2}, {'criterion': 'entropy', 'max_depth': 14, 'n_estimators': 3}, {'criterion': 'entropy', 'max_depth': 14, 'n_estimators': 4}, {'criterion': 'entropy', 'max_depth': 14, 'n_estimators': 5}, {'criterion': 'entropy', 'max_depth': 14, 'n_estimators': 6}, {'criterion': 'entropy', 'max_depth': 14, 'n_estimators': 7}, {'criterion': 'entropy', 'max_depth': 14, 'n_estimators': 8}, {'criterion': 'entropy', 'max_depth': 14, 'n_estimators': 9}, {'criterion': 'entropy', 'max_depth': 14, 'n_estimators': 10}, {'criterion': 'entropy', 'max_depth': 15, 'n_estimators': 2}, {'criterion': 'entropy', 'max_depth': 15, 'n_estimators': 3}, {'criterion': 'entropy', 'max_depth': 15, 'n_estimators': 4}, {'criterion': 'entropy', 'max_depth': 15, 'n_estimators': 5}, {'criterion': 'entropy', 'max_depth': 15, 'n_estimators': 6}, {'criterion': 'entropy', 'max_depth': 15, 'n_estimators': 7}, {'criterion': 'entropy', 'max_depth': 15, 'n_estimators': 8}, {'criterion': 'entropy', 'max_depth': 15, 'n_estimators': 9}, {'criterion': 'entropy', 'max_depth': 15, 'n_estimators': 10}, {'criterion': 'entropy', 'max_depth': 16, 'n_estimators': 2}, {'criterion': 'entropy', 'max_depth': 16, 'n_estimators': 3}, {'criterion': 'entropy', 'max_depth': 16, 'n_estimators': 4}, {'criterion': 'entropy', 'max_depth': 16, 'n_estimators': 5}, {'criterion': 'entropy', 'max_depth': 16, 'n_estimators': 6}, {'criterion': 'entropy', 'max_depth': 16, 'n_estimators': 7}, {'criterion': 'entropy', 'max_depth': 16, 'n_estimators': 8}, {'criterion': 'entropy', 'max_depth': 16, 'n_estimators': 9}, {'criterion': 'entropy', 'max_depth': 16, 'n_estimators': 10}, {'criterion': 'entropy', 'max_depth': 17, 'n_estimators': 2}, {'criterion': 'entropy', 'max_depth': 17, 'n_estimators': 3}, {'criterion': 'entropy', 'max_depth': 17, 'n_estimators': 4}, {'criterion': 'entropy', 'max_depth': 17, 'n_estimators': 5}, {'criterion': 'entropy', 'max_depth': 17, 'n_estimators': 6}, {'criterion': 'entropy', 'max_depth': 17, 'n_estimators': 7}, {'criterion': 'entropy', 'max_depth': 17, 'n_estimators': 8}, {'criterion': 'entropy', 'max_depth': 17, 'n_estimators': 9}, {'criterion': 'entropy', 'max_depth': 17, 'n_estimators': 10}, {'criterion': 'entropy', 'max_depth': 18, 'n_estimators': 2}, {'criterion': 'entropy', 'max_depth': 18, 'n_estimators': 3}, {'criterion': 'entropy', 'max_depth': 18, 'n_estimators': 4}, {'criterion': 'entropy', 'max_depth': 18, 'n_estimators': 5}, {'criterion': 'entropy', 'max_depth': 18, 'n_estimators': 6}, {'criterion': 'entropy', 'max_depth': 18, 'n_estimators': 7}, {'criterion': 'entropy', 'max_depth': 18, 'n_estimators': 8}, {'criterion': 'entropy', 'max_depth': 18, 'n_estimators': 9}, {'criterion': 'entropy', 'max_depth': 18, 'n_estimators': 10}, {'criterion': 'entropy', 'max_depth': 19, 'n_estimators': 2}, {'criterion': 'entropy', 'max_depth': 19, 'n_estimators': 3}, {'criterion': 'entropy', 'max_depth': 19, 'n_estimators': 4}, {'criterion': 'entropy', 'max_depth': 19, 'n_estimators': 5}, {'criterion': 'entropy', 'max_depth': 19, 'n_estimators': 6}, {'criterion': 'entropy', 'max_depth': 19, 'n_estimators': 7}, {'criterion': 'entropy', 'max_depth': 19, 'n_estimators': 8}, {'criterion': 'entropy', 'max_depth': 19, 'n_estimators': 9}, {'criterion': 'entropy', 'max_depth': 19, 'n_estimators': 10}, {'criterion': 'entropy', 'max_depth': 20, 'n_estimators': 2}, {'criterion': 'entropy', 'max_depth': 20, 'n_estimators': 3}, {'criterion': 'entropy', 'max_depth': 20, 'n_estimators': 4}, {'criterion': 'entropy', 'max_depth': 20, 'n_estimators': 5}, {'criterion': 'entropy', 'max_depth': 20, 'n_estimators': 6}, {'criterion': 'entropy', 'max_depth': 20, 'n_estimators': 7}, {'criterion': 'entropy', 'max_depth': 20, 'n_estimators': 8}, {'criterion': 'entropy', 'max_depth': 20, 'n_estimators': 9}, {'criterion': 'entropy', 'max_depth': 20, 'n_estimators': 10}, {'criterion': 'entropy', 'max_depth': 21, 'n_estimators': 2}, {'criterion': 'entropy', 'max_depth': 21, 'n_estimators': 3}, {'criterion': 'entropy', 'max_depth': 21, 'n_estimators': 4}, {'criterion': 'entropy', 'max_depth': 21, 'n_estimators': 5}, {'criterion': 'entropy', 'max_depth': 21, 'n_estimators': 6}, {'criterion': 'entropy', 'max_depth': 21, 'n_estimators': 7}, {'criterion': 'entropy', 'max_depth': 21, 'n_estimators': 8}, {'criterion': 'entropy', 'max_depth': 21, 'n_estimators': 9}, {'criterion': 'entropy', 'max_depth': 21, 'n_estimators': 10}, {'criterion': 'entropy', 'max_depth': 22, 'n_estimators': 2}, {'criterion': 'entropy', 'max_depth': 22, 'n_estimators': 3}, {'criterion': 'entropy', 'max_depth': 22, 'n_estimators': 4}, {'criterion': 'entropy', 'max_depth': 22, 'n_estimators': 5}, {'criterion': 'entropy', 'max_depth': 22, 'n_estimators': 6}, {'criterion': 'entropy', 'max_depth': 22, 'n_estimators': 7}, {'criterion': 'entropy', 'max_depth': 22, 'n_estimators': 8}, {'criterion': 'entropy', 'max_depth': 22, 'n_estimators': 9}, {'criterion': 'entropy', 'max_depth': 22, 'n_estimators': 10}, {'criterion': 'entropy', 'max_depth': 23, 'n_estimators': 2}, {'criterion': 'entropy', 'max_depth': 23, 'n_estimators': 3}, {'criterion': 'entropy', 'max_depth': 23, 'n_estimators': 4}, {'criterion': 'entropy', 'max_depth': 23, 'n_estimators': 5}, {'criterion': 'entropy', 'max_depth': 23, 'n_estimators': 6}, {'criterion': 'entropy', 'max_depth': 23, 'n_estimators': 7}, {'criterion': 'entropy', 'max_depth': 23, 'n_estimators': 8}, {'criterion': 'entropy', 'max_depth': 23, 'n_estimators': 9}, {'criterion': 'entropy', 'max_depth': 23, 'n_estimators': 10}, {'criterion': 'entropy', 'max_depth': 24, 'n_estimators': 2}, {'criterion': 'entropy', 'max_depth': 24, 'n_estimators': 3}, {'criterion': 'entropy', 'max_depth': 24, 'n_estimators': 4}, {'criterion': 'entropy', 'max_depth': 24, 'n_estimators': 5}, {'criterion': 'entropy', 'max_depth': 24, 'n_estimators': 6}, {'criterion': 'entropy', 'max_depth': 24, 'n_estimators': 7}, {'criterion': 'entropy', 'max_depth': 24, 'n_estimators': 8}, {'criterion': 'entropy', 'max_depth': 24, 'n_estimators': 9}, {'criterion': 'entropy', 'max_depth': 24, 'n_estimators': 10}, {'criterion': 'entropy', 'max_depth': 25, 'n_estimators': 2}, {'criterion': 'entropy', 'max_depth': 25, 'n_estimators': 3}, {'criterion': 'entropy', 'max_depth': 25, 'n_estimators': 4}, {'criterion': 'entropy', 'max_depth': 25, 'n_estimators': 5}, {'criterion': 'entropy', 'max_depth': 25, 'n_estimators': 6}, {'criterion': 'entropy', 'max_depth': 25, 'n_estimators': 7}, {'criterion': 'entropy', 'max_depth': 25, 'n_estimators': 8}, {'criterion': 'entropy', 'max_depth': 25, 'n_estimators': 9}, {'criterion': 'entropy', 'max_depth': 25, 'n_estimators': 10}]\n"
     ]
    }
   ],
   "source": [
    "criterion = np.array(['gini','entropy'])\n",
    "max_depth = np.array([1,2,3,4,5,6,7,8,9,10,11,12,13,14,15,16,17,18,19,20,21,22,23,24,25])\n",
    "n_estimators = np.array([2,3,4,5,6,7,8,9,10])\n",
    "model = RandomForestClassifier()\n",
    "grid = GridSearchCV(estimator=model, param_grid=dict(n_estimators=n_estimators, max_depth=max_depth, criterion=criterion))\n",
    "grid.fit(x, y.values.ravel())\n",
    "print(grid.cv_results_['params'])"
   ]
  },
  {
   "cell_type": "code",
   "execution_count": 25,
   "metadata": {},
   "outputs": [
    {
     "name": "stdout",
     "output_type": "stream",
     "text": [
      "[0.50690814 0.64055265 0.61504854 0.64025392 0.61502987 0.57847274\n",
      " 0.59988798 0.61301344 0.60371546 0.59202763 0.70433159 0.73500747\n",
      " 0.72738984 0.73340179 0.7814227  0.74708738 0.76803585 0.80864451\n",
      " 0.62860344 0.75423824 0.74279313 0.78545556 0.82410381 0.78356983\n",
      " 0.82787528 0.79111277 0.84550037 0.79714339 0.789059   0.83351382\n",
      " 0.84144884 0.85896191 0.86452577 0.83351382 0.87419716 0.86656087\n",
      " 0.84122479 0.81060493 0.87826736 0.84906647 0.8877894  0.90528379\n",
      " 0.90132562 0.89740478 0.90530246 0.85085885 0.85496639 0.92656833\n",
      " 0.87636296 0.87253547 0.90136296 0.92261016 0.92072442 0.91489918\n",
      " 0.84917849 0.87242345 0.93037715 0.9381068  0.9226475  0.90722554\n",
      " 0.92643764 0.92458925 0.94971994 0.8006348  0.85685213 0.88588499\n",
      " 0.91495519 0.91097834 0.94962659 0.94387603 0.92063107 0.94002987\n",
      " 0.79712472 0.89171023 0.91504854 0.93426064 0.88592233 0.93033981\n",
      " 0.94195295 0.94781553 0.92460792 0.8510829  0.89368932 0.90519044\n",
      " 0.91676624 0.93426064 0.92839806 0.94975728 0.94187827 0.94002987\n",
      " 0.83752801 0.85509709 0.91280807 0.94200896 0.93230022 0.93037715\n",
      " 0.94006721 0.94777819 0.93418596 0.77003361 0.87621359 0.90136296\n",
      " 0.93024645 0.92064974 0.92453323 0.90522778 0.91689694 0.9284354\n",
      " 0.7737304  0.84729276 0.84734877 0.92845407 0.94395071 0.94583645\n",
      " 0.92070575 0.93795743 0.94195295 0.81848394 0.87040702 0.90330471\n",
      " 0.89372666 0.90522778 0.92458925 0.92076176 0.91693428 0.94779686\n",
      " 0.81241598 0.88579164 0.89365198 0.90715086 0.92839806 0.92449589\n",
      " 0.92638163 0.94777819 0.9381068  0.77761389 0.87238611 0.89165422\n",
      " 0.91678491 0.91680358 0.93820015 0.93026512 0.93622106 0.94195295\n",
      " 0.75257655 0.83767737 0.89755414 0.91290142 0.92068708 0.94774085\n",
      " 0.91687827 0.93239358 0.94583645 0.79703137 0.88383122 0.86663555\n",
      " 0.92259149 0.91099701 0.92257282 0.9226475  0.94777819 0.93033981\n",
      " 0.80856983 0.87606423 0.89348394 0.90517177 0.9264003  0.92458925\n",
      " 0.93420463 0.93814414 0.93427931 0.84137416 0.89940254 0.89940254\n",
      " 0.90147498 0.92261016 0.95744959 0.92643764 0.92068708 0.92651232\n",
      " 0.78930172 0.8567401  0.85485437 0.92074309 0.91486184 0.93995519\n",
      " 0.91308813 0.9496826  0.94006721 0.80843913 0.90156833 0.91495519\n",
      " 0.89757282 0.94199029 0.95937267 0.9400112  0.93806945 0.93805078\n",
      " 0.81432039 0.88954444 0.89564974 0.92460792 0.93622106 0.90323002\n",
      " 0.94385736 0.93612771 0.92059373 0.82402913 0.85112024 0.92645631\n",
      " 0.92660568 0.89755414 0.93416729 0.94770351 0.92651232 0.92649365\n",
      " 0.83943241 0.88780807 0.91870799 0.92451456 0.92845407 0.918764\n",
      " 0.92266617 0.9284354  0.94770351 0.51051158 0.58997386 0.66575803\n",
      " 0.62471994 0.53216953 0.58848021 0.56674757 0.60365945 0.55698282\n",
      " 0.58786408 0.7331404  0.6907767  0.67335698 0.72539208 0.65774832\n",
      " 0.73678118 0.76219193 0.81041822 0.67892084 0.74451083 0.75433159\n",
      " 0.78747199 0.84152353 0.77025765 0.77182599 0.76417102 0.7951643\n",
      " 0.78144137 0.79882375 0.76979089 0.81433906 0.85104556 0.85300597\n",
      " 0.84361464 0.84533234 0.85113891 0.7582711  0.77150859 0.83183346\n",
      " 0.86056759 0.86850261 0.91110904 0.86101568 0.88775205 0.9131068\n",
      " 0.82794996 0.86865198 0.84131815 0.87813667 0.90132562 0.88973114\n",
      " 0.88207618 0.91671023 0.92460792 0.82020164 0.88784541 0.88196415\n",
      " 0.8954817  0.93222554 0.93030246 0.91103435 0.94387603 0.95362211\n",
      " 0.80466766 0.91290142 0.90334205 0.9496826  0.95160568 0.93812547\n",
      " 0.93235624 0.95554518 0.94578043 0.81999627 0.87051904 0.90716953\n",
      " 0.89951456 0.91292009 0.9150112  0.92647498 0.91693428 0.96902539\n",
      " 0.82190067 0.85888723 0.87035101 0.91874533 0.89557506 0.94189694\n",
      " 0.9478342  0.94774085 0.94970127 0.79893577 0.90334205 0.86476848\n",
      " 0.93043316 0.91105302 0.92836072 0.94971994 0.91880134 0.94585512\n",
      " 0.82020164 0.8821882  0.92083645 0.90522778 0.93235624 0.9400112\n",
      " 0.94774085 0.93228155 0.94385736 0.77197535 0.8993652  0.8975168\n",
      " 0.90909261 0.92828603 0.92072442 0.92076176 0.93618372 0.93803211\n",
      " 0.8239171  0.87615758 0.89555639 0.90328603 0.90151232 0.93806945\n",
      " 0.94966393 0.93997386 0.94583645 0.82010829 0.90903659 0.87826736\n",
      " 0.9012696  0.93614638 0.91486184 0.93233757 0.95166169 0.94002987\n",
      " 0.84131815 0.91493652 0.88988051 0.90138163 0.93222554 0.95552651\n",
      " 0.94971994 0.94779686 0.93039582 0.80061613 0.90132562 0.90905527\n",
      " 0.92649365 0.89753547 0.92477595 0.91878267 0.94393204 0.93993652\n",
      " 0.8085885  0.85685213 0.88007842 0.90319268 0.90720687 0.94197162\n",
      " 0.90703883 0.92647498 0.93418596 0.78523152 0.87992905 0.83750934\n",
      " 0.94583645 0.92649365 0.918764   0.93420463 0.96325616 0.96127707\n",
      " 0.74477222 0.88595967 0.89363331 0.93235624 0.92660568 0.93995519\n",
      " 0.93431665 0.92837939 0.94587379 0.82787528 0.85494772 0.88592233\n",
      " 0.91682226 0.91882001 0.95737491 0.91292009 0.9418596  0.9496826\n",
      " 0.82010829 0.87821135 0.86292009 0.92638163 0.91488051 0.92860344\n",
      " 0.92660568 0.959354   0.94004854 0.76389096 0.89540702 0.87425317\n",
      " 0.93806945 0.90128827 0.9400112  0.91114638 0.95933532 0.9400112\n",
      " 0.83190814 0.84906647 0.88978715 0.92852875 0.91880134 0.92647498\n",
      " 0.94966393 0.9401419  0.93997386 0.83560493 0.85504108 0.89744212\n",
      " 0.95166169 0.92451456 0.94962659 0.92845407 0.91499253 0.9362584 ]\n"
     ]
    }
   ],
   "source": [
    "print(grid.cv_results_['mean_test_score'])"
   ]
  },
  {
   "cell_type": "code",
   "execution_count": 26,
   "metadata": {},
   "outputs": [
    {
     "name": "stdout",
     "output_type": "stream",
     "text": [
      "RandomForestClassifier(criterion='entropy', max_depth=9, n_estimators=10)\n"
     ]
    }
   ],
   "source": [
    "print(grid.best_estimator_)"
   ]
  },
  {
   "cell_type": "code",
   "execution_count": null,
   "metadata": {},
   "outputs": [],
   "source": [
    "# Zadanie\n",
    "# Proszę pobrać dowolny zbiór danych ze strony https://archive.ics.uci.edu/ml/index.php\n",
    "# Następnie proszę zoptymalizować las metodą Grid Search (trzy parametry modelu mają zostać optymalizowane).\n",
    "# Jakie wartości parametrów są najlepsze i dlaczego?"
   ]
  }
 ],
 "metadata": {
  "kernelspec": {
   "display_name": "Python 3 (ipykernel)",
   "language": "python",
   "name": "python3"
  },
  "language_info": {
   "codemirror_mode": {
    "name": "ipython",
    "version": 3
   },
   "file_extension": ".py",
   "mimetype": "text/x-python",
   "name": "python",
   "nbconvert_exporter": "python",
   "pygments_lexer": "ipython3",
   "version": "3.9.7"
  }
 },
 "nbformat": 4,
 "nbformat_minor": 2
}
