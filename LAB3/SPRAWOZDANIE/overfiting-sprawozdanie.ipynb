{
 "cells": [
  {
   "cell_type": "code",
   "execution_count": 1,
   "metadata": {},
   "outputs": [],
   "source": [
    "import pandas as pd\n",
    "from sklearn.ensemble import RandomForestClassifier"
   ]
  },
  {
   "cell_type": "code",
   "execution_count": 2,
   "metadata": {},
   "outputs": [
    {
     "name": "stdout",
     "output_type": "stream",
     "text": [
      "        1      2     3     4      5     6     7    8    9   10\n",
      "0                                                             \n",
      "1  1.52101  13.64  4.49  1.10  71.78  0.06  8.75  0.0  0.0   1\n",
      "2  1.51761  13.89  3.60  1.36  72.73  0.48  7.83  0.0  0.0   1\n",
      "3  1.51618  13.53  3.55  1.54  72.99  0.39  7.78  0.0  0.0   1\n",
      "4  1.51766  13.21  3.69  1.29  72.61  0.57  8.22  0.0  0.0   1\n",
      "5  1.51742  13.27  3.62  1.24  73.08  0.55  8.07  0.0  0.0   1\n"
     ]
    }
   ],
   "source": [
    "data = pd.read_csv(\"glass.data\", header=None, index_col=0) \n",
    "print(data.head())\n",
    "x = pd.DataFrame(data.values[:,0:9], columns =[\n",
    "    'RI','Na','Mg','Al','Si','K','Ca','Ba','Fe'])\n",
    "y = pd.DataFrame(data.values[:,9], columns =['Type'])"
   ]
  },
  {
   "cell_type": "code",
   "execution_count": 3,
   "metadata": {},
   "outputs": [
    {
     "name": "stdout",
     "output_type": "stream",
     "text": [
      "        RI     Na    Mg    Al     Si     K    Ca   Ba   Fe\n",
      "1  1.51761  13.89  3.60  1.36  72.73  0.48  7.83  0.0  0.0\n",
      "2  1.51618  13.53  3.55  1.54  72.99  0.39  7.78  0.0  0.0\n",
      "3  1.51766  13.21  3.69  1.29  72.61  0.57  8.22  0.0  0.0\n",
      "4  1.51742  13.27  3.62  1.24  73.08  0.55  8.07  0.0  0.0\n",
      "   Type\n",
      "1   1.0\n",
      "2   1.0\n",
      "3   1.0\n",
      "4   1.0\n"
     ]
    }
   ],
   "source": [
    "print(x[1:5])\n",
    "print(y[1:5])"
   ]
  },
  {
   "cell_type": "code",
   "execution_count": 4,
   "metadata": {},
   "outputs": [
    {
     "name": "stdout",
     "output_type": "stream",
     "text": [
      "(214, 9)\n",
      "(214, 1)\n"
     ]
    }
   ],
   "source": [
    "print(x.shape)\n",
    "print(y.shape)"
   ]
  },
  {
   "cell_type": "code",
   "execution_count": 5,
   "metadata": {},
   "outputs": [
    {
     "name": "stdout",
     "output_type": "stream",
     "text": [
      "        RI     Na    Mg    Al     Si     K    Ca   Ba   Fe\n",
      "1  1.51761  13.89  3.60  1.36  72.73  0.48  7.83  0.0  0.0\n",
      "2  1.51618  13.53  3.55  1.54  72.99  0.39  7.78  0.0  0.0\n",
      "3  1.51766  13.21  3.69  1.29  72.61  0.57  8.22  0.0  0.0\n",
      "4  1.51742  13.27  3.62  1.24  73.08  0.55  8.07  0.0  0.0\n",
      "   Type\n",
      "1   1.0\n",
      "2   1.0\n",
      "3   1.0\n",
      "4   1.0\n"
     ]
    }
   ],
   "source": [
    "print(x[1:5])\n",
    "print(y[1:5])"
   ]
  },
  {
   "cell_type": "code",
   "execution_count": 6,
   "metadata": {},
   "outputs": [],
   "source": [
    "from sklearn.model_selection import train_test_split\n",
    "from sklearn.metrics import accuracy_score\n",
    "clf = RandomForestClassifier()"
   ]
  },
  {
   "cell_type": "code",
   "execution_count": null,
   "metadata": {},
   "outputs": [],
   "source": [
    "# małe przetrenowanie modelu"
   ]
  },
  {
   "cell_type": "code",
   "execution_count": 7,
   "metadata": {},
   "outputs": [
    {
     "name": "stdout",
     "output_type": "stream",
     "text": [
      "(192, 9)\n",
      "(192, 1)\n",
      "(22, 9)\n",
      "(22, 1)\n"
     ]
    }
   ],
   "source": [
    "x_train, x_test, y_train, y_test = train_test_split(\n",
    "    x, y, test_size=0.1, random_state=42)\n",
    "print(x_train.shape)\n",
    "print(y_train.shape)\n",
    "print(x_test.shape)\n",
    "print(y_test.shape)"
   ]
  },
  {
   "cell_type": "code",
   "execution_count": 8,
   "metadata": {},
   "outputs": [
    {
     "name": "stdout",
     "output_type": "stream",
     "text": [
      "1.0\n",
      "0.9545454545454546\n"
     ]
    }
   ],
   "source": [
    "clf = clf.fit(x_train, y_train.values.ravel())\n",
    "y_train_pred_from_clf = clf.predict(x_train)\n",
    "y_test_pred_from_clf = clf.predict(x_test)\n",
    "print(accuracy_score(y_train, y_train_pred_from_clf))\n",
    "print(accuracy_score(y_test, y_test_pred_from_clf))"
   ]
  },
  {
   "cell_type": "code",
   "execution_count": 9,
   "metadata": {},
   "outputs": [
    {
     "name": "stdout",
     "output_type": "stream",
     "text": [
      "1.0\n",
      "0.9545454545454546\n"
     ]
    }
   ],
   "source": [
    "clf = clf.fit(x_train, y_train.values.ravel())\n",
    "y_train_pred_from_clf = clf.predict(x_train)\n",
    "y_test_pred_from_clf = clf.predict(x_test)\n",
    "print(accuracy_score(y_train, y_train_pred_from_clf))\n",
    "print(accuracy_score(y_test, y_test_pred_from_clf))"
   ]
  },
  {
   "cell_type": "code",
   "execution_count": 10,
   "metadata": {},
   "outputs": [
    {
     "name": "stdout",
     "output_type": "stream",
     "text": [
      "1.0\n",
      "0.8636363636363636\n"
     ]
    }
   ],
   "source": [
    "clf = clf.fit(x_train, y_train.values.ravel())\n",
    "y_train_pred_from_clf = clf.predict(x_train)\n",
    "y_test_pred_from_clf = clf.predict(x_test)\n",
    "print(accuracy_score(y_train, y_train_pred_from_clf))\n",
    "print(accuracy_score(y_test, y_test_pred_from_clf))"
   ]
  },
  {
   "cell_type": "code",
   "execution_count": null,
   "metadata": {},
   "outputs": [],
   "source": [
    "# duże przetrenowanie modelu"
   ]
  },
  {
   "cell_type": "code",
   "execution_count": 11,
   "metadata": {},
   "outputs": [],
   "source": [
    "x_train, x_test, y_train, y_test = train_test_split(\n",
    "    x, y, test_size=0.9, random_state=42)"
   ]
  },
  {
   "cell_type": "code",
   "execution_count": 12,
   "metadata": {},
   "outputs": [
    {
     "name": "stdout",
     "output_type": "stream",
     "text": [
      "(21, 9)\n",
      "(21, 1)\n",
      "(193, 9)\n",
      "(193, 1)\n"
     ]
    }
   ],
   "source": [
    "print(x_train.shape)\n",
    "print(y_train.shape)\n",
    "print(x_test.shape)\n",
    "print(y_test.shape)"
   ]
  },
  {
   "cell_type": "code",
   "execution_count": 13,
   "metadata": {},
   "outputs": [
    {
     "name": "stdout",
     "output_type": "stream",
     "text": [
      "1.0\n",
      "0.5803108808290155\n"
     ]
    }
   ],
   "source": [
    "clf = clf.fit(x_train, y_train.values.ravel())\n",
    "y_train_pred_from_clf = clf.predict(x_train)\n",
    "y_test_pred_from_clf = clf.predict(x_test)\n",
    "print(accuracy_score(y_train, y_train_pred_from_clf))\n",
    "print(accuracy_score(y_test, y_test_pred_from_clf))"
   ]
  },
  {
   "cell_type": "code",
   "execution_count": 14,
   "metadata": {},
   "outputs": [
    {
     "name": "stdout",
     "output_type": "stream",
     "text": [
      "1.0\n",
      "0.5544041450777202\n"
     ]
    }
   ],
   "source": [
    "clf = clf.fit(x_train, y_train.values.ravel())\n",
    "y_train_pred_from_clf = clf.predict(x_train)\n",
    "y_test_pred_from_clf = clf.predict(x_test)\n",
    "print(accuracy_score(y_train, y_train_pred_from_clf))\n",
    "print(accuracy_score(y_test, y_test_pred_from_clf))"
   ]
  },
  {
   "cell_type": "code",
   "execution_count": 15,
   "metadata": {},
   "outputs": [
    {
     "name": "stdout",
     "output_type": "stream",
     "text": [
      "1.0\n",
      "0.5751295336787565\n"
     ]
    }
   ],
   "source": [
    "clf = clf.fit(x_train, y_train.values.ravel())\n",
    "y_train_pred_from_clf = clf.predict(x_train)\n",
    "y_test_pred_from_clf = clf.predict(x_test)\n",
    "print(accuracy_score(y_train, y_train_pred_from_clf))\n",
    "print(accuracy_score(y_test, y_test_pred_from_clf))"
   ]
  },
  {
   "cell_type": "code",
   "execution_count": 16,
   "metadata": {},
   "outputs": [],
   "source": [
    "#Zadanie\n",
    "# Proszę zaprezentować zjawisko overfitingu na klasyfikatorze random forest. Dwa przykłady - mega przetrenowanie i małe"
   ]
  }
 ],
 "metadata": {
  "kernelspec": {
   "display_name": "Python 3 (ipykernel)",
   "language": "python",
   "name": "python3"
  },
  "language_info": {
   "codemirror_mode": {
    "name": "ipython",
    "version": 3
   },
   "file_extension": ".py",
   "mimetype": "text/x-python",
   "name": "python",
   "nbconvert_exporter": "python",
   "pygments_lexer": "ipython3",
   "version": "3.9.7"
  }
 },
 "nbformat": 4,
 "nbformat_minor": 2
}
