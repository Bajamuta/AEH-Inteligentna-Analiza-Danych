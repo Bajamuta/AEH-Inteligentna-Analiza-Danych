{
 "cells": [
  {
   "cell_type": "code",
   "execution_count": null,
   "metadata": {},
   "outputs": [],
   "source": [
    "# http://qwone.com/~jason/20Newsgroups/"
   ]
  },
  {
   "cell_type": "code",
   "execution_count": null,
   "metadata": {},
   "outputs": [],
   "source": [
    "#wczytanie zbioru trenujacego danych tekstowych\n",
    "from sklearn.datasets import fetch_20newsgroups\n",
    "categories = ['alt.atheism', 'soc.religion.christian', 'comp.graphics', 'sci.med']\n",
    "train_dataset = fetch_20newsgroups(subset='train', categories=categories, shuffle=True, random_state=42)\n",
    "test_dataset = fetch_20newsgroups(subset='test', categories=categories, shuffle=True, random_state=42)"
   ]
  },
  {
   "cell_type": "code",
   "execution_count": null,
   "metadata": {},
   "outputs": [],
   "source": [
    "#klasy\n",
    "print(train_dataset.target_names)\n",
    "print(test_dataset.target_names)"
   ]
  },
  {
   "cell_type": "code",
   "execution_count": null,
   "metadata": {},
   "outputs": [],
   "source": [
    "#liczba wiadomosci\n",
    "print(len(train_dataset.data))\n",
    "print(len(test_dataset.data))"
   ]
  },
  {
   "cell_type": "code",
   "execution_count": null,
   "metadata": {},
   "outputs": [],
   "source": [
    "#wyswietlenie wiadomosci ze zbioru trenujacego o indeksie 0\n",
    "print(train_dataset.data[0])"
   ]
  },
  {
   "cell_type": "code",
   "execution_count": null,
   "metadata": {},
   "outputs": [],
   "source": [
    "#wyswietlenie klasy wiadomosci o indeksie 0\n",
    "print(train_dataset.target_names[train_dataset.target[0]])"
   ]
  },
  {
   "cell_type": "code",
   "execution_count": null,
   "metadata": {},
   "outputs": [],
   "source": [
    "#prosze wyswietlic wiadomosc o indeksie 5 i jej klase ze zbioru trenujacego\n",
    "#dlaczego taka wiadomosc ma zadana kategorie?"
   ]
  },
  {
   "cell_type": "code",
   "execution_count": null,
   "metadata": {},
   "outputs": [],
   "source": [
    "from sklearn.feature_extraction.text import CountVectorizer\n",
    "count_vect = CountVectorizer(analyzer='word', ngram_range=(1, 1))\n",
    "X_train_counts = count_vect.fit_transform(train_dataset.data)"
   ]
  },
  {
   "cell_type": "code",
   "execution_count": null,
   "metadata": {},
   "outputs": [],
   "source": [
    "word_list = count_vect.get_feature_names()\n",
    "count_list = X_train_counts.toarray().sum(axis=0)\n",
    "word_count = dict(zip(word_list,count_list))\n",
    "sorted(word_count.items(), key=lambda x: x[1], reverse=True)"
   ]
  },
  {
   "cell_type": "code",
   "execution_count": null,
   "metadata": {},
   "outputs": [],
   "source": [
    "# Klasyfikacja tekstu"
   ]
  },
  {
   "cell_type": "code",
   "execution_count": null,
   "metadata": {},
   "outputs": [],
   "source": [
    "from sklearn.pipeline import Pipeline\n",
    "from sklearn.feature_extraction.text import CountVectorizer, TfidfTransformer\n",
    "from sklearn.naive_bayes import MultinomialNB\n",
    "clf = Pipeline([\n",
    "    ('vect', CountVectorizer(analyzer='word',ngram_range=(1, 1))),\n",
    "    ('tfidf', TfidfTransformer()),\n",
    "    ('clf', MultinomialNB()),\n",
    "])"
   ]
  },
  {
   "cell_type": "code",
   "execution_count": null,
   "metadata": {},
   "outputs": [],
   "source": [
    "#wytrenowanie pipelinu\n",
    "clf.fit(train_dataset.data, train_dataset.target)"
   ]
  },
  {
   "cell_type": "code",
   "execution_count": null,
   "metadata": {},
   "outputs": [],
   "source": [
    "#proste testy wytrenowanego modelu\n",
    "sentences = ['']\n",
    "\n",
    "predicted_categories = clf.predict(sentences)\n",
    "\n",
    "for sentence, predicted_category in zip(sentences, predicted_categories):\n",
    "    print('%r => %s' % (sentence, train_dataset.target_names[predicted_category]))"
   ]
  },
  {
   "cell_type": "code",
   "execution_count": null,
   "metadata": {},
   "outputs": [],
   "source": [
    "#prosze wymyslec takie 4 zdania, ktore zostana zaklasyfikowane do kazdej z badanych klas:\n",
    "#'alt.atheism', 'comp.graphics', 'sci.med', 'soc.religion.christian'"
   ]
  },
  {
   "cell_type": "code",
   "execution_count": null,
   "metadata": {},
   "outputs": [],
   "source": [
    "#testy wytrenowanego modelu\n",
    "import numpy as np\n",
    "predicted = clf.predict(test_dataset.data)\n",
    "np.mean(predicted == test_dataset.target) "
   ]
  },
  {
   "cell_type": "code",
   "execution_count": null,
   "metadata": {},
   "outputs": [],
   "source": [
    "#macierz pomyłek\n",
    "#'alt.atheism', 'comp.graphics', 'sci.med', 'soc.religion.christian'\n",
    "from sklearn.metrics import confusion_matrix\n",
    "confusion_matrix(test_dataset.target, predicted, labels=[0,1,2,3])"
   ]
  },
  {
   "cell_type": "code",
   "execution_count": null,
   "metadata": {},
   "outputs": [],
   "source": [
    "#ZADANIA"
   ]
  },
  {
   "cell_type": "code",
   "execution_count": null,
   "metadata": {},
   "outputs": [],
   "source": [
    "#1. Prosze powtorzyc cwiczenia dla innego podzbioru kategorii, np. \n",
    "#   rec.autos, rec.motorcycles, rec.sport.baseball, rec.sport.hockey"
   ]
  },
  {
   "cell_type": "code",
   "execution_count": null,
   "metadata": {},
   "outputs": [],
   "source": [
    "#2. Prosze zmienic uzyty klasyfikator na drzewo decyzyjne i zbadac jakosc wynikow klasyfikacji"
   ]
  },
  {
   "cell_type": "code",
   "execution_count": null,
   "metadata": {},
   "outputs": [],
   "source": [
    "#3. Prosze wytrenowac klasyfikator na zbiorze testujacym a przetestowac na zbiorze trenujacym"
   ]
  },
  {
   "cell_type": "code",
   "execution_count": null,
   "metadata": {},
   "outputs": [],
   "source": [
    "#4. Prosze ustawic w odpowiednim miejscu parametr analyzer='char' i sprawdzic jak zmieniaja sie wyniki"
   ]
  },
  {
   "cell_type": "code",
   "execution_count": null,
   "metadata": {},
   "outputs": [],
   "source": []
  }
 ],
 "metadata": {
  "kernelspec": {
   "display_name": "Python 3 (ipykernel)",
   "language": "python",
   "name": "python3"
  },
  "language_info": {
   "codemirror_mode": {
    "name": "ipython",
    "version": 3
   },
   "file_extension": ".py",
   "mimetype": "text/x-python",
   "name": "python",
   "nbconvert_exporter": "python",
   "pygments_lexer": "ipython3",
   "version": "3.9.7"
  }
 },
 "nbformat": 4,
 "nbformat_minor": 2
}
